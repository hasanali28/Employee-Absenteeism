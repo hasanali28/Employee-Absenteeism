{
 "cells": [
  {
   "cell_type": "markdown",
   "metadata": {},
   "source": [
    "# Employee Absenteism"
   ]
  },
  {
   "cell_type": "markdown",
   "metadata": {},
   "source": [
    "XYZ is a courier company. As we appreciate that human capital plays an important role\n",
    "in collection, transportation and delivery. The company is passing through genuine\n",
    "issue of Absenteeism. The company has shared it dataset and requested to have an\n",
    "answer on the following areas:\n",
    "1. What changes company should bring to reduce the number of absenteeism?\n",
    "2. How much losses every month can we project in 2011 if same trend of\n",
    "absenteeism continues?\n"
   ]
  },
  {
   "cell_type": "code",
   "execution_count": 49,
   "metadata": {},
   "outputs": [],
   "source": [
    "import os \n",
    "import pandas as pd\n",
    "import numpy as np\n",
    "from pandas import ExcelWriter\n",
    "from pandas import ExcelFile\n",
    "import seaborn as sns\n",
    "import matplotlib.pyplot as plt\n",
    "sns.set(style=\"ticks\", color_codes=True)\n",
    "import warnings\n",
    "warnings.filterwarnings(\"ignore\")\n",
    "%matplotlib inline"
   ]
  },
  {
   "cell_type": "code",
   "execution_count": 2,
   "metadata": {},
   "outputs": [
    {
     "data": {
      "text/plain": [
       "'E:\\\\DS\\\\Project\\\\Emeployee Absenteism'"
      ]
     },
     "execution_count": 2,
     "metadata": {},
     "output_type": "execute_result"
    }
   ],
   "source": [
    "#seting the folder where the data is saved\n",
    "os.chdir(\"E:\\DS\\Project\\Emeployee Absenteism\")\n",
    "os.getcwd()"
   ]
  },
  {
   "cell_type": "markdown",
   "metadata": {},
   "source": [
    "###### Reading data"
   ]
  },
  {
   "cell_type": "code",
   "execution_count": 3,
   "metadata": {},
   "outputs": [],
   "source": [
    "absenteism_data = pd.read_excel('Absenteeism.xls', trim_ws = True)"
   ]
  },
  {
   "cell_type": "code",
   "execution_count": 4,
   "metadata": {},
   "outputs": [
    {
     "data": {
      "text/html": [
       "<div>\n",
       "<style scoped>\n",
       "    .dataframe tbody tr th:only-of-type {\n",
       "        vertical-align: middle;\n",
       "    }\n",
       "\n",
       "    .dataframe tbody tr th {\n",
       "        vertical-align: top;\n",
       "    }\n",
       "\n",
       "    .dataframe thead th {\n",
       "        text-align: right;\n",
       "    }\n",
       "</style>\n",
       "<table border=\"1\" class=\"dataframe\">\n",
       "  <thead>\n",
       "    <tr style=\"text-align: right;\">\n",
       "      <th></th>\n",
       "      <th>ID</th>\n",
       "      <th>Reason for absence</th>\n",
       "      <th>Month of absence</th>\n",
       "      <th>Day of the week</th>\n",
       "      <th>Seasons</th>\n",
       "      <th>Transportation expense</th>\n",
       "      <th>Distance from Residence to Work</th>\n",
       "      <th>Service time</th>\n",
       "      <th>Age</th>\n",
       "      <th>Work load Average/day</th>\n",
       "      <th>Hit target</th>\n",
       "      <th>Disciplinary failure</th>\n",
       "      <th>Education</th>\n",
       "      <th>Son</th>\n",
       "      <th>Social drinker</th>\n",
       "      <th>Social smoker</th>\n",
       "      <th>Pet</th>\n",
       "      <th>Weight</th>\n",
       "      <th>Height</th>\n",
       "      <th>Body mass index</th>\n",
       "      <th>Absenteeism time in hours</th>\n",
       "    </tr>\n",
       "  </thead>\n",
       "  <tbody>\n",
       "    <tr>\n",
       "      <th>0</th>\n",
       "      <td>11</td>\n",
       "      <td>26.0</td>\n",
       "      <td>7.0</td>\n",
       "      <td>3</td>\n",
       "      <td>1</td>\n",
       "      <td>289.0</td>\n",
       "      <td>36.0</td>\n",
       "      <td>13.0</td>\n",
       "      <td>33.0</td>\n",
       "      <td>239554.0</td>\n",
       "      <td>97.0</td>\n",
       "      <td>0.0</td>\n",
       "      <td>1.0</td>\n",
       "      <td>2.0</td>\n",
       "      <td>1.0</td>\n",
       "      <td>0.0</td>\n",
       "      <td>1.0</td>\n",
       "      <td>90.0</td>\n",
       "      <td>172.0</td>\n",
       "      <td>30.0</td>\n",
       "      <td>4.0</td>\n",
       "    </tr>\n",
       "    <tr>\n",
       "      <th>1</th>\n",
       "      <td>36</td>\n",
       "      <td>0.0</td>\n",
       "      <td>7.0</td>\n",
       "      <td>3</td>\n",
       "      <td>1</td>\n",
       "      <td>118.0</td>\n",
       "      <td>13.0</td>\n",
       "      <td>18.0</td>\n",
       "      <td>50.0</td>\n",
       "      <td>239554.0</td>\n",
       "      <td>97.0</td>\n",
       "      <td>1.0</td>\n",
       "      <td>1.0</td>\n",
       "      <td>1.0</td>\n",
       "      <td>1.0</td>\n",
       "      <td>0.0</td>\n",
       "      <td>0.0</td>\n",
       "      <td>98.0</td>\n",
       "      <td>178.0</td>\n",
       "      <td>31.0</td>\n",
       "      <td>0.0</td>\n",
       "    </tr>\n",
       "    <tr>\n",
       "      <th>2</th>\n",
       "      <td>3</td>\n",
       "      <td>23.0</td>\n",
       "      <td>7.0</td>\n",
       "      <td>4</td>\n",
       "      <td>1</td>\n",
       "      <td>179.0</td>\n",
       "      <td>51.0</td>\n",
       "      <td>18.0</td>\n",
       "      <td>38.0</td>\n",
       "      <td>239554.0</td>\n",
       "      <td>97.0</td>\n",
       "      <td>0.0</td>\n",
       "      <td>1.0</td>\n",
       "      <td>0.0</td>\n",
       "      <td>1.0</td>\n",
       "      <td>0.0</td>\n",
       "      <td>0.0</td>\n",
       "      <td>89.0</td>\n",
       "      <td>170.0</td>\n",
       "      <td>31.0</td>\n",
       "      <td>2.0</td>\n",
       "    </tr>\n",
       "    <tr>\n",
       "      <th>3</th>\n",
       "      <td>7</td>\n",
       "      <td>7.0</td>\n",
       "      <td>7.0</td>\n",
       "      <td>5</td>\n",
       "      <td>1</td>\n",
       "      <td>279.0</td>\n",
       "      <td>5.0</td>\n",
       "      <td>14.0</td>\n",
       "      <td>39.0</td>\n",
       "      <td>239554.0</td>\n",
       "      <td>97.0</td>\n",
       "      <td>0.0</td>\n",
       "      <td>1.0</td>\n",
       "      <td>2.0</td>\n",
       "      <td>1.0</td>\n",
       "      <td>1.0</td>\n",
       "      <td>0.0</td>\n",
       "      <td>68.0</td>\n",
       "      <td>168.0</td>\n",
       "      <td>24.0</td>\n",
       "      <td>4.0</td>\n",
       "    </tr>\n",
       "    <tr>\n",
       "      <th>4</th>\n",
       "      <td>11</td>\n",
       "      <td>23.0</td>\n",
       "      <td>7.0</td>\n",
       "      <td>5</td>\n",
       "      <td>1</td>\n",
       "      <td>289.0</td>\n",
       "      <td>36.0</td>\n",
       "      <td>13.0</td>\n",
       "      <td>33.0</td>\n",
       "      <td>239554.0</td>\n",
       "      <td>97.0</td>\n",
       "      <td>0.0</td>\n",
       "      <td>1.0</td>\n",
       "      <td>2.0</td>\n",
       "      <td>1.0</td>\n",
       "      <td>0.0</td>\n",
       "      <td>1.0</td>\n",
       "      <td>90.0</td>\n",
       "      <td>172.0</td>\n",
       "      <td>30.0</td>\n",
       "      <td>2.0</td>\n",
       "    </tr>\n",
       "    <tr>\n",
       "      <th>5</th>\n",
       "      <td>3</td>\n",
       "      <td>23.0</td>\n",
       "      <td>7.0</td>\n",
       "      <td>6</td>\n",
       "      <td>1</td>\n",
       "      <td>179.0</td>\n",
       "      <td>51.0</td>\n",
       "      <td>18.0</td>\n",
       "      <td>38.0</td>\n",
       "      <td>239554.0</td>\n",
       "      <td>97.0</td>\n",
       "      <td>0.0</td>\n",
       "      <td>1.0</td>\n",
       "      <td>0.0</td>\n",
       "      <td>1.0</td>\n",
       "      <td>0.0</td>\n",
       "      <td>0.0</td>\n",
       "      <td>89.0</td>\n",
       "      <td>170.0</td>\n",
       "      <td>31.0</td>\n",
       "      <td>NaN</td>\n",
       "    </tr>\n",
       "    <tr>\n",
       "      <th>6</th>\n",
       "      <td>10</td>\n",
       "      <td>22.0</td>\n",
       "      <td>7.0</td>\n",
       "      <td>6</td>\n",
       "      <td>1</td>\n",
       "      <td>NaN</td>\n",
       "      <td>52.0</td>\n",
       "      <td>3.0</td>\n",
       "      <td>28.0</td>\n",
       "      <td>239554.0</td>\n",
       "      <td>97.0</td>\n",
       "      <td>0.0</td>\n",
       "      <td>1.0</td>\n",
       "      <td>1.0</td>\n",
       "      <td>1.0</td>\n",
       "      <td>0.0</td>\n",
       "      <td>4.0</td>\n",
       "      <td>80.0</td>\n",
       "      <td>172.0</td>\n",
       "      <td>27.0</td>\n",
       "      <td>8.0</td>\n",
       "    </tr>\n",
       "    <tr>\n",
       "      <th>7</th>\n",
       "      <td>20</td>\n",
       "      <td>23.0</td>\n",
       "      <td>7.0</td>\n",
       "      <td>6</td>\n",
       "      <td>1</td>\n",
       "      <td>260.0</td>\n",
       "      <td>50.0</td>\n",
       "      <td>11.0</td>\n",
       "      <td>36.0</td>\n",
       "      <td>239554.0</td>\n",
       "      <td>97.0</td>\n",
       "      <td>0.0</td>\n",
       "      <td>1.0</td>\n",
       "      <td>4.0</td>\n",
       "      <td>1.0</td>\n",
       "      <td>0.0</td>\n",
       "      <td>0.0</td>\n",
       "      <td>65.0</td>\n",
       "      <td>168.0</td>\n",
       "      <td>23.0</td>\n",
       "      <td>4.0</td>\n",
       "    </tr>\n",
       "    <tr>\n",
       "      <th>8</th>\n",
       "      <td>14</td>\n",
       "      <td>19.0</td>\n",
       "      <td>7.0</td>\n",
       "      <td>2</td>\n",
       "      <td>1</td>\n",
       "      <td>155.0</td>\n",
       "      <td>12.0</td>\n",
       "      <td>14.0</td>\n",
       "      <td>34.0</td>\n",
       "      <td>239554.0</td>\n",
       "      <td>97.0</td>\n",
       "      <td>0.0</td>\n",
       "      <td>1.0</td>\n",
       "      <td>2.0</td>\n",
       "      <td>1.0</td>\n",
       "      <td>0.0</td>\n",
       "      <td>0.0</td>\n",
       "      <td>95.0</td>\n",
       "      <td>196.0</td>\n",
       "      <td>25.0</td>\n",
       "      <td>40.0</td>\n",
       "    </tr>\n",
       "    <tr>\n",
       "      <th>9</th>\n",
       "      <td>1</td>\n",
       "      <td>22.0</td>\n",
       "      <td>7.0</td>\n",
       "      <td>2</td>\n",
       "      <td>1</td>\n",
       "      <td>235.0</td>\n",
       "      <td>11.0</td>\n",
       "      <td>14.0</td>\n",
       "      <td>37.0</td>\n",
       "      <td>239554.0</td>\n",
       "      <td>97.0</td>\n",
       "      <td>0.0</td>\n",
       "      <td>3.0</td>\n",
       "      <td>1.0</td>\n",
       "      <td>0.0</td>\n",
       "      <td>0.0</td>\n",
       "      <td>1.0</td>\n",
       "      <td>88.0</td>\n",
       "      <td>172.0</td>\n",
       "      <td>29.0</td>\n",
       "      <td>8.0</td>\n",
       "    </tr>\n",
       "    <tr>\n",
       "      <th>10</th>\n",
       "      <td>20</td>\n",
       "      <td>1.0</td>\n",
       "      <td>7.0</td>\n",
       "      <td>2</td>\n",
       "      <td>1</td>\n",
       "      <td>260.0</td>\n",
       "      <td>50.0</td>\n",
       "      <td>11.0</td>\n",
       "      <td>36.0</td>\n",
       "      <td>239554.0</td>\n",
       "      <td>97.0</td>\n",
       "      <td>0.0</td>\n",
       "      <td>1.0</td>\n",
       "      <td>4.0</td>\n",
       "      <td>1.0</td>\n",
       "      <td>0.0</td>\n",
       "      <td>0.0</td>\n",
       "      <td>65.0</td>\n",
       "      <td>168.0</td>\n",
       "      <td>23.0</td>\n",
       "      <td>8.0</td>\n",
       "    </tr>\n",
       "    <tr>\n",
       "      <th>11</th>\n",
       "      <td>20</td>\n",
       "      <td>1.0</td>\n",
       "      <td>7.0</td>\n",
       "      <td>3</td>\n",
       "      <td>1</td>\n",
       "      <td>260.0</td>\n",
       "      <td>50.0</td>\n",
       "      <td>11.0</td>\n",
       "      <td>36.0</td>\n",
       "      <td>239554.0</td>\n",
       "      <td>97.0</td>\n",
       "      <td>0.0</td>\n",
       "      <td>1.0</td>\n",
       "      <td>4.0</td>\n",
       "      <td>1.0</td>\n",
       "      <td>0.0</td>\n",
       "      <td>0.0</td>\n",
       "      <td>65.0</td>\n",
       "      <td>168.0</td>\n",
       "      <td>23.0</td>\n",
       "      <td>8.0</td>\n",
       "    </tr>\n",
       "    <tr>\n",
       "      <th>12</th>\n",
       "      <td>20</td>\n",
       "      <td>11.0</td>\n",
       "      <td>7.0</td>\n",
       "      <td>4</td>\n",
       "      <td>1</td>\n",
       "      <td>260.0</td>\n",
       "      <td>50.0</td>\n",
       "      <td>11.0</td>\n",
       "      <td>36.0</td>\n",
       "      <td>239554.0</td>\n",
       "      <td>97.0</td>\n",
       "      <td>0.0</td>\n",
       "      <td>1.0</td>\n",
       "      <td>4.0</td>\n",
       "      <td>1.0</td>\n",
       "      <td>0.0</td>\n",
       "      <td>0.0</td>\n",
       "      <td>65.0</td>\n",
       "      <td>168.0</td>\n",
       "      <td>23.0</td>\n",
       "      <td>8.0</td>\n",
       "    </tr>\n",
       "    <tr>\n",
       "      <th>13</th>\n",
       "      <td>3</td>\n",
       "      <td>11.0</td>\n",
       "      <td>7.0</td>\n",
       "      <td>4</td>\n",
       "      <td>1</td>\n",
       "      <td>179.0</td>\n",
       "      <td>51.0</td>\n",
       "      <td>18.0</td>\n",
       "      <td>38.0</td>\n",
       "      <td>239554.0</td>\n",
       "      <td>97.0</td>\n",
       "      <td>0.0</td>\n",
       "      <td>1.0</td>\n",
       "      <td>0.0</td>\n",
       "      <td>1.0</td>\n",
       "      <td>0.0</td>\n",
       "      <td>0.0</td>\n",
       "      <td>89.0</td>\n",
       "      <td>170.0</td>\n",
       "      <td>31.0</td>\n",
       "      <td>1.0</td>\n",
       "    </tr>\n",
       "    <tr>\n",
       "      <th>14</th>\n",
       "      <td>3</td>\n",
       "      <td>23.0</td>\n",
       "      <td>7.0</td>\n",
       "      <td>4</td>\n",
       "      <td>1</td>\n",
       "      <td>179.0</td>\n",
       "      <td>51.0</td>\n",
       "      <td>18.0</td>\n",
       "      <td>38.0</td>\n",
       "      <td>239554.0</td>\n",
       "      <td>97.0</td>\n",
       "      <td>0.0</td>\n",
       "      <td>1.0</td>\n",
       "      <td>0.0</td>\n",
       "      <td>1.0</td>\n",
       "      <td>0.0</td>\n",
       "      <td>0.0</td>\n",
       "      <td>89.0</td>\n",
       "      <td>170.0</td>\n",
       "      <td>NaN</td>\n",
       "      <td>4.0</td>\n",
       "    </tr>\n",
       "    <tr>\n",
       "      <th>15</th>\n",
       "      <td>24</td>\n",
       "      <td>14.0</td>\n",
       "      <td>7.0</td>\n",
       "      <td>6</td>\n",
       "      <td>1</td>\n",
       "      <td>246.0</td>\n",
       "      <td>25.0</td>\n",
       "      <td>16.0</td>\n",
       "      <td>41.0</td>\n",
       "      <td>239554.0</td>\n",
       "      <td>97.0</td>\n",
       "      <td>0.0</td>\n",
       "      <td>1.0</td>\n",
       "      <td>0.0</td>\n",
       "      <td>1.0</td>\n",
       "      <td>0.0</td>\n",
       "      <td>0.0</td>\n",
       "      <td>67.0</td>\n",
       "      <td>170.0</td>\n",
       "      <td>NaN</td>\n",
       "      <td>NaN</td>\n",
       "    </tr>\n",
       "    <tr>\n",
       "      <th>16</th>\n",
       "      <td>3</td>\n",
       "      <td>23.0</td>\n",
       "      <td>7.0</td>\n",
       "      <td>6</td>\n",
       "      <td>1</td>\n",
       "      <td>NaN</td>\n",
       "      <td>51.0</td>\n",
       "      <td>18.0</td>\n",
       "      <td>38.0</td>\n",
       "      <td>239554.0</td>\n",
       "      <td>97.0</td>\n",
       "      <td>0.0</td>\n",
       "      <td>1.0</td>\n",
       "      <td>0.0</td>\n",
       "      <td>1.0</td>\n",
       "      <td>0.0</td>\n",
       "      <td>0.0</td>\n",
       "      <td>89.0</td>\n",
       "      <td>170.0</td>\n",
       "      <td>31.0</td>\n",
       "      <td>2.0</td>\n",
       "    </tr>\n",
       "    <tr>\n",
       "      <th>17</th>\n",
       "      <td>3</td>\n",
       "      <td>21.0</td>\n",
       "      <td>7.0</td>\n",
       "      <td>2</td>\n",
       "      <td>1</td>\n",
       "      <td>179.0</td>\n",
       "      <td>51.0</td>\n",
       "      <td>18.0</td>\n",
       "      <td>38.0</td>\n",
       "      <td>239554.0</td>\n",
       "      <td>97.0</td>\n",
       "      <td>0.0</td>\n",
       "      <td>1.0</td>\n",
       "      <td>0.0</td>\n",
       "      <td>1.0</td>\n",
       "      <td>0.0</td>\n",
       "      <td>0.0</td>\n",
       "      <td>89.0</td>\n",
       "      <td>170.0</td>\n",
       "      <td>31.0</td>\n",
       "      <td>8.0</td>\n",
       "    </tr>\n",
       "    <tr>\n",
       "      <th>18</th>\n",
       "      <td>6</td>\n",
       "      <td>11.0</td>\n",
       "      <td>7.0</td>\n",
       "      <td>5</td>\n",
       "      <td>1</td>\n",
       "      <td>189.0</td>\n",
       "      <td>29.0</td>\n",
       "      <td>13.0</td>\n",
       "      <td>33.0</td>\n",
       "      <td>239554.0</td>\n",
       "      <td>97.0</td>\n",
       "      <td>0.0</td>\n",
       "      <td>1.0</td>\n",
       "      <td>2.0</td>\n",
       "      <td>0.0</td>\n",
       "      <td>0.0</td>\n",
       "      <td>2.0</td>\n",
       "      <td>69.0</td>\n",
       "      <td>167.0</td>\n",
       "      <td>25.0</td>\n",
       "      <td>8.0</td>\n",
       "    </tr>\n",
       "    <tr>\n",
       "      <th>19</th>\n",
       "      <td>33</td>\n",
       "      <td>23.0</td>\n",
       "      <td>8.0</td>\n",
       "      <td>4</td>\n",
       "      <td>1</td>\n",
       "      <td>248.0</td>\n",
       "      <td>25.0</td>\n",
       "      <td>14.0</td>\n",
       "      <td>47.0</td>\n",
       "      <td>205917.0</td>\n",
       "      <td>92.0</td>\n",
       "      <td>0.0</td>\n",
       "      <td>1.0</td>\n",
       "      <td>2.0</td>\n",
       "      <td>0.0</td>\n",
       "      <td>0.0</td>\n",
       "      <td>1.0</td>\n",
       "      <td>86.0</td>\n",
       "      <td>165.0</td>\n",
       "      <td>32.0</td>\n",
       "      <td>2.0</td>\n",
       "    </tr>\n",
       "    <tr>\n",
       "      <th>20</th>\n",
       "      <td>18</td>\n",
       "      <td>10.0</td>\n",
       "      <td>8.0</td>\n",
       "      <td>4</td>\n",
       "      <td>1</td>\n",
       "      <td>330.0</td>\n",
       "      <td>16.0</td>\n",
       "      <td>4.0</td>\n",
       "      <td>28.0</td>\n",
       "      <td>205917.0</td>\n",
       "      <td>92.0</td>\n",
       "      <td>0.0</td>\n",
       "      <td>2.0</td>\n",
       "      <td>0.0</td>\n",
       "      <td>0.0</td>\n",
       "      <td>0.0</td>\n",
       "      <td>0.0</td>\n",
       "      <td>84.0</td>\n",
       "      <td>182.0</td>\n",
       "      <td>25.0</td>\n",
       "      <td>NaN</td>\n",
       "    </tr>\n",
       "    <tr>\n",
       "      <th>21</th>\n",
       "      <td>3</td>\n",
       "      <td>11.0</td>\n",
       "      <td>8.0</td>\n",
       "      <td>2</td>\n",
       "      <td>1</td>\n",
       "      <td>179.0</td>\n",
       "      <td>51.0</td>\n",
       "      <td>18.0</td>\n",
       "      <td>38.0</td>\n",
       "      <td>205917.0</td>\n",
       "      <td>92.0</td>\n",
       "      <td>0.0</td>\n",
       "      <td>1.0</td>\n",
       "      <td>0.0</td>\n",
       "      <td>1.0</td>\n",
       "      <td>0.0</td>\n",
       "      <td>0.0</td>\n",
       "      <td>89.0</td>\n",
       "      <td>170.0</td>\n",
       "      <td>31.0</td>\n",
       "      <td>1.0</td>\n",
       "    </tr>\n",
       "    <tr>\n",
       "      <th>22</th>\n",
       "      <td>10</td>\n",
       "      <td>13.0</td>\n",
       "      <td>8.0</td>\n",
       "      <td>2</td>\n",
       "      <td>1</td>\n",
       "      <td>361.0</td>\n",
       "      <td>52.0</td>\n",
       "      <td>3.0</td>\n",
       "      <td>28.0</td>\n",
       "      <td>205917.0</td>\n",
       "      <td>92.0</td>\n",
       "      <td>0.0</td>\n",
       "      <td>1.0</td>\n",
       "      <td>1.0</td>\n",
       "      <td>1.0</td>\n",
       "      <td>0.0</td>\n",
       "      <td>4.0</td>\n",
       "      <td>80.0</td>\n",
       "      <td>172.0</td>\n",
       "      <td>27.0</td>\n",
       "      <td>40.0</td>\n",
       "    </tr>\n",
       "    <tr>\n",
       "      <th>23</th>\n",
       "      <td>20</td>\n",
       "      <td>28.0</td>\n",
       "      <td>8.0</td>\n",
       "      <td>6</td>\n",
       "      <td>1</td>\n",
       "      <td>260.0</td>\n",
       "      <td>50.0</td>\n",
       "      <td>11.0</td>\n",
       "      <td>36.0</td>\n",
       "      <td>205917.0</td>\n",
       "      <td>92.0</td>\n",
       "      <td>0.0</td>\n",
       "      <td>1.0</td>\n",
       "      <td>4.0</td>\n",
       "      <td>1.0</td>\n",
       "      <td>0.0</td>\n",
       "      <td>0.0</td>\n",
       "      <td>65.0</td>\n",
       "      <td>168.0</td>\n",
       "      <td>23.0</td>\n",
       "      <td>4.0</td>\n",
       "    </tr>\n",
       "    <tr>\n",
       "      <th>24</th>\n",
       "      <td>11</td>\n",
       "      <td>18.0</td>\n",
       "      <td>8.0</td>\n",
       "      <td>2</td>\n",
       "      <td>1</td>\n",
       "      <td>289.0</td>\n",
       "      <td>36.0</td>\n",
       "      <td>13.0</td>\n",
       "      <td>33.0</td>\n",
       "      <td>205917.0</td>\n",
       "      <td>92.0</td>\n",
       "      <td>0.0</td>\n",
       "      <td>1.0</td>\n",
       "      <td>2.0</td>\n",
       "      <td>1.0</td>\n",
       "      <td>0.0</td>\n",
       "      <td>1.0</td>\n",
       "      <td>90.0</td>\n",
       "      <td>172.0</td>\n",
       "      <td>NaN</td>\n",
       "      <td>8.0</td>\n",
       "    </tr>\n",
       "    <tr>\n",
       "      <th>25</th>\n",
       "      <td>10</td>\n",
       "      <td>25.0</td>\n",
       "      <td>8.0</td>\n",
       "      <td>2</td>\n",
       "      <td>1</td>\n",
       "      <td>361.0</td>\n",
       "      <td>52.0</td>\n",
       "      <td>3.0</td>\n",
       "      <td>28.0</td>\n",
       "      <td>205917.0</td>\n",
       "      <td>92.0</td>\n",
       "      <td>0.0</td>\n",
       "      <td>1.0</td>\n",
       "      <td>1.0</td>\n",
       "      <td>1.0</td>\n",
       "      <td>0.0</td>\n",
       "      <td>4.0</td>\n",
       "      <td>80.0</td>\n",
       "      <td>172.0</td>\n",
       "      <td>27.0</td>\n",
       "      <td>7.0</td>\n",
       "    </tr>\n",
       "    <tr>\n",
       "      <th>26</th>\n",
       "      <td>11</td>\n",
       "      <td>23.0</td>\n",
       "      <td>8.0</td>\n",
       "      <td>3</td>\n",
       "      <td>1</td>\n",
       "      <td>289.0</td>\n",
       "      <td>36.0</td>\n",
       "      <td>13.0</td>\n",
       "      <td>33.0</td>\n",
       "      <td>205917.0</td>\n",
       "      <td>92.0</td>\n",
       "      <td>0.0</td>\n",
       "      <td>1.0</td>\n",
       "      <td>2.0</td>\n",
       "      <td>1.0</td>\n",
       "      <td>0.0</td>\n",
       "      <td>1.0</td>\n",
       "      <td>90.0</td>\n",
       "      <td>172.0</td>\n",
       "      <td>30.0</td>\n",
       "      <td>1.0</td>\n",
       "    </tr>\n",
       "    <tr>\n",
       "      <th>27</th>\n",
       "      <td>30</td>\n",
       "      <td>28.0</td>\n",
       "      <td>8.0</td>\n",
       "      <td>4</td>\n",
       "      <td>1</td>\n",
       "      <td>157.0</td>\n",
       "      <td>27.0</td>\n",
       "      <td>6.0</td>\n",
       "      <td>29.0</td>\n",
       "      <td>205917.0</td>\n",
       "      <td>92.0</td>\n",
       "      <td>0.0</td>\n",
       "      <td>1.0</td>\n",
       "      <td>0.0</td>\n",
       "      <td>1.0</td>\n",
       "      <td>1.0</td>\n",
       "      <td>0.0</td>\n",
       "      <td>75.0</td>\n",
       "      <td>185.0</td>\n",
       "      <td>NaN</td>\n",
       "      <td>4.0</td>\n",
       "    </tr>\n",
       "    <tr>\n",
       "      <th>28</th>\n",
       "      <td>11</td>\n",
       "      <td>18.0</td>\n",
       "      <td>8.0</td>\n",
       "      <td>4</td>\n",
       "      <td>1</td>\n",
       "      <td>289.0</td>\n",
       "      <td>36.0</td>\n",
       "      <td>13.0</td>\n",
       "      <td>33.0</td>\n",
       "      <td>205917.0</td>\n",
       "      <td>92.0</td>\n",
       "      <td>0.0</td>\n",
       "      <td>1.0</td>\n",
       "      <td>2.0</td>\n",
       "      <td>1.0</td>\n",
       "      <td>0.0</td>\n",
       "      <td>1.0</td>\n",
       "      <td>90.0</td>\n",
       "      <td>172.0</td>\n",
       "      <td>30.0</td>\n",
       "      <td>8.0</td>\n",
       "    </tr>\n",
       "    <tr>\n",
       "      <th>29</th>\n",
       "      <td>3</td>\n",
       "      <td>23.0</td>\n",
       "      <td>8.0</td>\n",
       "      <td>6</td>\n",
       "      <td>1</td>\n",
       "      <td>179.0</td>\n",
       "      <td>51.0</td>\n",
       "      <td>18.0</td>\n",
       "      <td>38.0</td>\n",
       "      <td>205917.0</td>\n",
       "      <td>92.0</td>\n",
       "      <td>0.0</td>\n",
       "      <td>1.0</td>\n",
       "      <td>0.0</td>\n",
       "      <td>1.0</td>\n",
       "      <td>0.0</td>\n",
       "      <td>0.0</td>\n",
       "      <td>89.0</td>\n",
       "      <td>170.0</td>\n",
       "      <td>31.0</td>\n",
       "      <td>2.0</td>\n",
       "    </tr>\n",
       "    <tr>\n",
       "      <th>...</th>\n",
       "      <td>...</td>\n",
       "      <td>...</td>\n",
       "      <td>...</td>\n",
       "      <td>...</td>\n",
       "      <td>...</td>\n",
       "      <td>...</td>\n",
       "      <td>...</td>\n",
       "      <td>...</td>\n",
       "      <td>...</td>\n",
       "      <td>...</td>\n",
       "      <td>...</td>\n",
       "      <td>...</td>\n",
       "      <td>...</td>\n",
       "      <td>...</td>\n",
       "      <td>...</td>\n",
       "      <td>...</td>\n",
       "      <td>...</td>\n",
       "      <td>...</td>\n",
       "      <td>...</td>\n",
       "      <td>...</td>\n",
       "      <td>...</td>\n",
       "    </tr>\n",
       "    <tr>\n",
       "      <th>710</th>\n",
       "      <td>23</td>\n",
       "      <td>22.0</td>\n",
       "      <td>6.0</td>\n",
       "      <td>5</td>\n",
       "      <td>3</td>\n",
       "      <td>378.0</td>\n",
       "      <td>49.0</td>\n",
       "      <td>11.0</td>\n",
       "      <td>36.0</td>\n",
       "      <td>275089.0</td>\n",
       "      <td>96.0</td>\n",
       "      <td>0.0</td>\n",
       "      <td>1.0</td>\n",
       "      <td>2.0</td>\n",
       "      <td>0.0</td>\n",
       "      <td>1.0</td>\n",
       "      <td>4.0</td>\n",
       "      <td>65.0</td>\n",
       "      <td>174.0</td>\n",
       "      <td>21.0</td>\n",
       "      <td>8.0</td>\n",
       "    </tr>\n",
       "    <tr>\n",
       "      <th>711</th>\n",
       "      <td>36</td>\n",
       "      <td>19.0</td>\n",
       "      <td>6.0</td>\n",
       "      <td>5</td>\n",
       "      <td>3</td>\n",
       "      <td>118.0</td>\n",
       "      <td>13.0</td>\n",
       "      <td>18.0</td>\n",
       "      <td>50.0</td>\n",
       "      <td>275089.0</td>\n",
       "      <td>96.0</td>\n",
       "      <td>0.0</td>\n",
       "      <td>1.0</td>\n",
       "      <td>1.0</td>\n",
       "      <td>1.0</td>\n",
       "      <td>0.0</td>\n",
       "      <td>0.0</td>\n",
       "      <td>98.0</td>\n",
       "      <td>178.0</td>\n",
       "      <td>31.0</td>\n",
       "      <td>24.0</td>\n",
       "    </tr>\n",
       "    <tr>\n",
       "      <th>712</th>\n",
       "      <td>12</td>\n",
       "      <td>19.0</td>\n",
       "      <td>6.0</td>\n",
       "      <td>6</td>\n",
       "      <td>3</td>\n",
       "      <td>233.0</td>\n",
       "      <td>51.0</td>\n",
       "      <td>1.0</td>\n",
       "      <td>31.0</td>\n",
       "      <td>275089.0</td>\n",
       "      <td>96.0</td>\n",
       "      <td>0.0</td>\n",
       "      <td>2.0</td>\n",
       "      <td>1.0</td>\n",
       "      <td>1.0</td>\n",
       "      <td>0.0</td>\n",
       "      <td>8.0</td>\n",
       "      <td>68.0</td>\n",
       "      <td>178.0</td>\n",
       "      <td>21.0</td>\n",
       "      <td>8.0</td>\n",
       "    </tr>\n",
       "    <tr>\n",
       "      <th>713</th>\n",
       "      <td>22</td>\n",
       "      <td>27.0</td>\n",
       "      <td>6.0</td>\n",
       "      <td>6</td>\n",
       "      <td>3</td>\n",
       "      <td>179.0</td>\n",
       "      <td>26.0</td>\n",
       "      <td>9.0</td>\n",
       "      <td>30.0</td>\n",
       "      <td>275089.0</td>\n",
       "      <td>96.0</td>\n",
       "      <td>0.0</td>\n",
       "      <td>3.0</td>\n",
       "      <td>0.0</td>\n",
       "      <td>0.0</td>\n",
       "      <td>0.0</td>\n",
       "      <td>0.0</td>\n",
       "      <td>56.0</td>\n",
       "      <td>171.0</td>\n",
       "      <td>19.0</td>\n",
       "      <td>2.0</td>\n",
       "    </tr>\n",
       "    <tr>\n",
       "      <th>714</th>\n",
       "      <td>2</td>\n",
       "      <td>0.0</td>\n",
       "      <td>6.0</td>\n",
       "      <td>2</td>\n",
       "      <td>3</td>\n",
       "      <td>235.0</td>\n",
       "      <td>29.0</td>\n",
       "      <td>12.0</td>\n",
       "      <td>48.0</td>\n",
       "      <td>275089.0</td>\n",
       "      <td>96.0</td>\n",
       "      <td>1.0</td>\n",
       "      <td>1.0</td>\n",
       "      <td>1.0</td>\n",
       "      <td>0.0</td>\n",
       "      <td>1.0</td>\n",
       "      <td>5.0</td>\n",
       "      <td>88.0</td>\n",
       "      <td>163.0</td>\n",
       "      <td>33.0</td>\n",
       "      <td>0.0</td>\n",
       "    </tr>\n",
       "    <tr>\n",
       "      <th>715</th>\n",
       "      <td>21</td>\n",
       "      <td>0.0</td>\n",
       "      <td>6.0</td>\n",
       "      <td>2</td>\n",
       "      <td>3</td>\n",
       "      <td>268.0</td>\n",
       "      <td>11.0</td>\n",
       "      <td>8.0</td>\n",
       "      <td>33.0</td>\n",
       "      <td>275089.0</td>\n",
       "      <td>96.0</td>\n",
       "      <td>1.0</td>\n",
       "      <td>2.0</td>\n",
       "      <td>0.0</td>\n",
       "      <td>0.0</td>\n",
       "      <td>0.0</td>\n",
       "      <td>0.0</td>\n",
       "      <td>79.0</td>\n",
       "      <td>178.0</td>\n",
       "      <td>25.0</td>\n",
       "      <td>0.0</td>\n",
       "    </tr>\n",
       "    <tr>\n",
       "      <th>716</th>\n",
       "      <td>36</td>\n",
       "      <td>19.0</td>\n",
       "      <td>6.0</td>\n",
       "      <td>5</td>\n",
       "      <td>3</td>\n",
       "      <td>118.0</td>\n",
       "      <td>13.0</td>\n",
       "      <td>18.0</td>\n",
       "      <td>50.0</td>\n",
       "      <td>275089.0</td>\n",
       "      <td>96.0</td>\n",
       "      <td>0.0</td>\n",
       "      <td>1.0</td>\n",
       "      <td>1.0</td>\n",
       "      <td>1.0</td>\n",
       "      <td>0.0</td>\n",
       "      <td>0.0</td>\n",
       "      <td>98.0</td>\n",
       "      <td>178.0</td>\n",
       "      <td>31.0</td>\n",
       "      <td>3.0</td>\n",
       "    </tr>\n",
       "    <tr>\n",
       "      <th>717</th>\n",
       "      <td>22</td>\n",
       "      <td>13.0</td>\n",
       "      <td>6.0</td>\n",
       "      <td>5</td>\n",
       "      <td>3</td>\n",
       "      <td>179.0</td>\n",
       "      <td>26.0</td>\n",
       "      <td>9.0</td>\n",
       "      <td>30.0</td>\n",
       "      <td>275089.0</td>\n",
       "      <td>96.0</td>\n",
       "      <td>0.0</td>\n",
       "      <td>3.0</td>\n",
       "      <td>0.0</td>\n",
       "      <td>0.0</td>\n",
       "      <td>0.0</td>\n",
       "      <td>0.0</td>\n",
       "      <td>56.0</td>\n",
       "      <td>171.0</td>\n",
       "      <td>19.0</td>\n",
       "      <td>2.0</td>\n",
       "    </tr>\n",
       "    <tr>\n",
       "      <th>718</th>\n",
       "      <td>15</td>\n",
       "      <td>28.0</td>\n",
       "      <td>6.0</td>\n",
       "      <td>5</td>\n",
       "      <td>3</td>\n",
       "      <td>291.0</td>\n",
       "      <td>31.0</td>\n",
       "      <td>12.0</td>\n",
       "      <td>40.0</td>\n",
       "      <td>275089.0</td>\n",
       "      <td>96.0</td>\n",
       "      <td>0.0</td>\n",
       "      <td>1.0</td>\n",
       "      <td>1.0</td>\n",
       "      <td>1.0</td>\n",
       "      <td>0.0</td>\n",
       "      <td>1.0</td>\n",
       "      <td>73.0</td>\n",
       "      <td>171.0</td>\n",
       "      <td>25.0</td>\n",
       "      <td>2.0</td>\n",
       "    </tr>\n",
       "    <tr>\n",
       "      <th>719</th>\n",
       "      <td>22</td>\n",
       "      <td>13.0</td>\n",
       "      <td>6.0</td>\n",
       "      <td>2</td>\n",
       "      <td>1</td>\n",
       "      <td>179.0</td>\n",
       "      <td>26.0</td>\n",
       "      <td>9.0</td>\n",
       "      <td>30.0</td>\n",
       "      <td>275089.0</td>\n",
       "      <td>96.0</td>\n",
       "      <td>0.0</td>\n",
       "      <td>3.0</td>\n",
       "      <td>0.0</td>\n",
       "      <td>0.0</td>\n",
       "      <td>0.0</td>\n",
       "      <td>0.0</td>\n",
       "      <td>56.0</td>\n",
       "      <td>171.0</td>\n",
       "      <td>19.0</td>\n",
       "      <td>3.0</td>\n",
       "    </tr>\n",
       "    <tr>\n",
       "      <th>720</th>\n",
       "      <td>34</td>\n",
       "      <td>25.0</td>\n",
       "      <td>6.0</td>\n",
       "      <td>2</td>\n",
       "      <td>1</td>\n",
       "      <td>118.0</td>\n",
       "      <td>10.0</td>\n",
       "      <td>10.0</td>\n",
       "      <td>37.0</td>\n",
       "      <td>275089.0</td>\n",
       "      <td>96.0</td>\n",
       "      <td>0.0</td>\n",
       "      <td>1.0</td>\n",
       "      <td>0.0</td>\n",
       "      <td>0.0</td>\n",
       "      <td>0.0</td>\n",
       "      <td>0.0</td>\n",
       "      <td>83.0</td>\n",
       "      <td>172.0</td>\n",
       "      <td>28.0</td>\n",
       "      <td>3.0</td>\n",
       "    </tr>\n",
       "    <tr>\n",
       "      <th>721</th>\n",
       "      <td>12</td>\n",
       "      <td>22.0</td>\n",
       "      <td>6.0</td>\n",
       "      <td>5</td>\n",
       "      <td>1</td>\n",
       "      <td>233.0</td>\n",
       "      <td>51.0</td>\n",
       "      <td>1.0</td>\n",
       "      <td>31.0</td>\n",
       "      <td>275089.0</td>\n",
       "      <td>96.0</td>\n",
       "      <td>0.0</td>\n",
       "      <td>2.0</td>\n",
       "      <td>1.0</td>\n",
       "      <td>1.0</td>\n",
       "      <td>0.0</td>\n",
       "      <td>8.0</td>\n",
       "      <td>68.0</td>\n",
       "      <td>178.0</td>\n",
       "      <td>21.0</td>\n",
       "      <td>8.0</td>\n",
       "    </tr>\n",
       "    <tr>\n",
       "      <th>722</th>\n",
       "      <td>34</td>\n",
       "      <td>8.0</td>\n",
       "      <td>6.0</td>\n",
       "      <td>6</td>\n",
       "      <td>1</td>\n",
       "      <td>118.0</td>\n",
       "      <td>10.0</td>\n",
       "      <td>10.0</td>\n",
       "      <td>37.0</td>\n",
       "      <td>275089.0</td>\n",
       "      <td>96.0</td>\n",
       "      <td>0.0</td>\n",
       "      <td>1.0</td>\n",
       "      <td>0.0</td>\n",
       "      <td>0.0</td>\n",
       "      <td>0.0</td>\n",
       "      <td>0.0</td>\n",
       "      <td>83.0</td>\n",
       "      <td>172.0</td>\n",
       "      <td>28.0</td>\n",
       "      <td>2.0</td>\n",
       "    </tr>\n",
       "    <tr>\n",
       "      <th>723</th>\n",
       "      <td>34</td>\n",
       "      <td>10.0</td>\n",
       "      <td>6.0</td>\n",
       "      <td>4</td>\n",
       "      <td>1</td>\n",
       "      <td>118.0</td>\n",
       "      <td>10.0</td>\n",
       "      <td>10.0</td>\n",
       "      <td>37.0</td>\n",
       "      <td>275089.0</td>\n",
       "      <td>96.0</td>\n",
       "      <td>0.0</td>\n",
       "      <td>1.0</td>\n",
       "      <td>0.0</td>\n",
       "      <td>0.0</td>\n",
       "      <td>0.0</td>\n",
       "      <td>0.0</td>\n",
       "      <td>83.0</td>\n",
       "      <td>172.0</td>\n",
       "      <td>28.0</td>\n",
       "      <td>3.0</td>\n",
       "    </tr>\n",
       "    <tr>\n",
       "      <th>724</th>\n",
       "      <td>12</td>\n",
       "      <td>22.0</td>\n",
       "      <td>6.0</td>\n",
       "      <td>4</td>\n",
       "      <td>1</td>\n",
       "      <td>233.0</td>\n",
       "      <td>51.0</td>\n",
       "      <td>1.0</td>\n",
       "      <td>31.0</td>\n",
       "      <td>275089.0</td>\n",
       "      <td>96.0</td>\n",
       "      <td>0.0</td>\n",
       "      <td>2.0</td>\n",
       "      <td>1.0</td>\n",
       "      <td>1.0</td>\n",
       "      <td>0.0</td>\n",
       "      <td>8.0</td>\n",
       "      <td>68.0</td>\n",
       "      <td>178.0</td>\n",
       "      <td>21.0</td>\n",
       "      <td>3.0</td>\n",
       "    </tr>\n",
       "    <tr>\n",
       "      <th>725</th>\n",
       "      <td>5</td>\n",
       "      <td>26.0</td>\n",
       "      <td>7.0</td>\n",
       "      <td>4</td>\n",
       "      <td>1</td>\n",
       "      <td>235.0</td>\n",
       "      <td>20.0</td>\n",
       "      <td>13.0</td>\n",
       "      <td>43.0</td>\n",
       "      <td>264604.0</td>\n",
       "      <td>93.0</td>\n",
       "      <td>0.0</td>\n",
       "      <td>1.0</td>\n",
       "      <td>1.0</td>\n",
       "      <td>1.0</td>\n",
       "      <td>0.0</td>\n",
       "      <td>0.0</td>\n",
       "      <td>106.0</td>\n",
       "      <td>167.0</td>\n",
       "      <td>38.0</td>\n",
       "      <td>4.0</td>\n",
       "    </tr>\n",
       "    <tr>\n",
       "      <th>726</th>\n",
       "      <td>12</td>\n",
       "      <td>19.0</td>\n",
       "      <td>7.0</td>\n",
       "      <td>6</td>\n",
       "      <td>1</td>\n",
       "      <td>233.0</td>\n",
       "      <td>51.0</td>\n",
       "      <td>1.0</td>\n",
       "      <td>31.0</td>\n",
       "      <td>264604.0</td>\n",
       "      <td>93.0</td>\n",
       "      <td>0.0</td>\n",
       "      <td>2.0</td>\n",
       "      <td>1.0</td>\n",
       "      <td>1.0</td>\n",
       "      <td>0.0</td>\n",
       "      <td>8.0</td>\n",
       "      <td>68.0</td>\n",
       "      <td>178.0</td>\n",
       "      <td>21.0</td>\n",
       "      <td>2.0</td>\n",
       "    </tr>\n",
       "    <tr>\n",
       "      <th>727</th>\n",
       "      <td>9</td>\n",
       "      <td>6.0</td>\n",
       "      <td>7.0</td>\n",
       "      <td>2</td>\n",
       "      <td>1</td>\n",
       "      <td>228.0</td>\n",
       "      <td>14.0</td>\n",
       "      <td>16.0</td>\n",
       "      <td>58.0</td>\n",
       "      <td>264604.0</td>\n",
       "      <td>93.0</td>\n",
       "      <td>0.0</td>\n",
       "      <td>1.0</td>\n",
       "      <td>2.0</td>\n",
       "      <td>0.0</td>\n",
       "      <td>0.0</td>\n",
       "      <td>1.0</td>\n",
       "      <td>65.0</td>\n",
       "      <td>172.0</td>\n",
       "      <td>22.0</td>\n",
       "      <td>8.0</td>\n",
       "    </tr>\n",
       "    <tr>\n",
       "      <th>728</th>\n",
       "      <td>34</td>\n",
       "      <td>28.0</td>\n",
       "      <td>7.0</td>\n",
       "      <td>2</td>\n",
       "      <td>1</td>\n",
       "      <td>118.0</td>\n",
       "      <td>10.0</td>\n",
       "      <td>10.0</td>\n",
       "      <td>37.0</td>\n",
       "      <td>264604.0</td>\n",
       "      <td>93.0</td>\n",
       "      <td>0.0</td>\n",
       "      <td>1.0</td>\n",
       "      <td>0.0</td>\n",
       "      <td>0.0</td>\n",
       "      <td>0.0</td>\n",
       "      <td>0.0</td>\n",
       "      <td>83.0</td>\n",
       "      <td>172.0</td>\n",
       "      <td>28.0</td>\n",
       "      <td>4.0</td>\n",
       "    </tr>\n",
       "    <tr>\n",
       "      <th>729</th>\n",
       "      <td>9</td>\n",
       "      <td>6.0</td>\n",
       "      <td>7.0</td>\n",
       "      <td>3</td>\n",
       "      <td>1</td>\n",
       "      <td>228.0</td>\n",
       "      <td>14.0</td>\n",
       "      <td>16.0</td>\n",
       "      <td>58.0</td>\n",
       "      <td>264604.0</td>\n",
       "      <td>93.0</td>\n",
       "      <td>0.0</td>\n",
       "      <td>1.0</td>\n",
       "      <td>2.0</td>\n",
       "      <td>0.0</td>\n",
       "      <td>0.0</td>\n",
       "      <td>1.0</td>\n",
       "      <td>65.0</td>\n",
       "      <td>172.0</td>\n",
       "      <td>22.0</td>\n",
       "      <td>120.0</td>\n",
       "    </tr>\n",
       "    <tr>\n",
       "      <th>730</th>\n",
       "      <td>6</td>\n",
       "      <td>22.0</td>\n",
       "      <td>7.0</td>\n",
       "      <td>3</td>\n",
       "      <td>1</td>\n",
       "      <td>189.0</td>\n",
       "      <td>29.0</td>\n",
       "      <td>13.0</td>\n",
       "      <td>33.0</td>\n",
       "      <td>264604.0</td>\n",
       "      <td>93.0</td>\n",
       "      <td>0.0</td>\n",
       "      <td>1.0</td>\n",
       "      <td>2.0</td>\n",
       "      <td>0.0</td>\n",
       "      <td>0.0</td>\n",
       "      <td>2.0</td>\n",
       "      <td>69.0</td>\n",
       "      <td>167.0</td>\n",
       "      <td>25.0</td>\n",
       "      <td>16.0</td>\n",
       "    </tr>\n",
       "    <tr>\n",
       "      <th>731</th>\n",
       "      <td>34</td>\n",
       "      <td>23.0</td>\n",
       "      <td>7.0</td>\n",
       "      <td>4</td>\n",
       "      <td>1</td>\n",
       "      <td>118.0</td>\n",
       "      <td>10.0</td>\n",
       "      <td>10.0</td>\n",
       "      <td>37.0</td>\n",
       "      <td>264604.0</td>\n",
       "      <td>93.0</td>\n",
       "      <td>0.0</td>\n",
       "      <td>1.0</td>\n",
       "      <td>0.0</td>\n",
       "      <td>0.0</td>\n",
       "      <td>0.0</td>\n",
       "      <td>0.0</td>\n",
       "      <td>83.0</td>\n",
       "      <td>172.0</td>\n",
       "      <td>28.0</td>\n",
       "      <td>2.0</td>\n",
       "    </tr>\n",
       "    <tr>\n",
       "      <th>732</th>\n",
       "      <td>10</td>\n",
       "      <td>22.0</td>\n",
       "      <td>7.0</td>\n",
       "      <td>4</td>\n",
       "      <td>1</td>\n",
       "      <td>361.0</td>\n",
       "      <td>52.0</td>\n",
       "      <td>3.0</td>\n",
       "      <td>28.0</td>\n",
       "      <td>264604.0</td>\n",
       "      <td>93.0</td>\n",
       "      <td>0.0</td>\n",
       "      <td>1.0</td>\n",
       "      <td>1.0</td>\n",
       "      <td>1.0</td>\n",
       "      <td>0.0</td>\n",
       "      <td>4.0</td>\n",
       "      <td>80.0</td>\n",
       "      <td>172.0</td>\n",
       "      <td>27.0</td>\n",
       "      <td>8.0</td>\n",
       "    </tr>\n",
       "    <tr>\n",
       "      <th>733</th>\n",
       "      <td>28</td>\n",
       "      <td>22.0</td>\n",
       "      <td>7.0</td>\n",
       "      <td>4</td>\n",
       "      <td>1</td>\n",
       "      <td>225.0</td>\n",
       "      <td>26.0</td>\n",
       "      <td>9.0</td>\n",
       "      <td>28.0</td>\n",
       "      <td>264604.0</td>\n",
       "      <td>93.0</td>\n",
       "      <td>0.0</td>\n",
       "      <td>1.0</td>\n",
       "      <td>1.0</td>\n",
       "      <td>0.0</td>\n",
       "      <td>0.0</td>\n",
       "      <td>2.0</td>\n",
       "      <td>69.0</td>\n",
       "      <td>169.0</td>\n",
       "      <td>24.0</td>\n",
       "      <td>8.0</td>\n",
       "    </tr>\n",
       "    <tr>\n",
       "      <th>734</th>\n",
       "      <td>13</td>\n",
       "      <td>13.0</td>\n",
       "      <td>7.0</td>\n",
       "      <td>2</td>\n",
       "      <td>1</td>\n",
       "      <td>369.0</td>\n",
       "      <td>17.0</td>\n",
       "      <td>12.0</td>\n",
       "      <td>31.0</td>\n",
       "      <td>264604.0</td>\n",
       "      <td>93.0</td>\n",
       "      <td>0.0</td>\n",
       "      <td>1.0</td>\n",
       "      <td>3.0</td>\n",
       "      <td>1.0</td>\n",
       "      <td>0.0</td>\n",
       "      <td>0.0</td>\n",
       "      <td>70.0</td>\n",
       "      <td>169.0</td>\n",
       "      <td>25.0</td>\n",
       "      <td>80.0</td>\n",
       "    </tr>\n",
       "    <tr>\n",
       "      <th>735</th>\n",
       "      <td>11</td>\n",
       "      <td>14.0</td>\n",
       "      <td>7.0</td>\n",
       "      <td>3</td>\n",
       "      <td>1</td>\n",
       "      <td>289.0</td>\n",
       "      <td>36.0</td>\n",
       "      <td>13.0</td>\n",
       "      <td>33.0</td>\n",
       "      <td>264604.0</td>\n",
       "      <td>93.0</td>\n",
       "      <td>0.0</td>\n",
       "      <td>1.0</td>\n",
       "      <td>2.0</td>\n",
       "      <td>1.0</td>\n",
       "      <td>0.0</td>\n",
       "      <td>1.0</td>\n",
       "      <td>90.0</td>\n",
       "      <td>172.0</td>\n",
       "      <td>30.0</td>\n",
       "      <td>8.0</td>\n",
       "    </tr>\n",
       "    <tr>\n",
       "      <th>736</th>\n",
       "      <td>1</td>\n",
       "      <td>11.0</td>\n",
       "      <td>7.0</td>\n",
       "      <td>3</td>\n",
       "      <td>1</td>\n",
       "      <td>235.0</td>\n",
       "      <td>11.0</td>\n",
       "      <td>14.0</td>\n",
       "      <td>37.0</td>\n",
       "      <td>264604.0</td>\n",
       "      <td>93.0</td>\n",
       "      <td>0.0</td>\n",
       "      <td>3.0</td>\n",
       "      <td>1.0</td>\n",
       "      <td>0.0</td>\n",
       "      <td>0.0</td>\n",
       "      <td>1.0</td>\n",
       "      <td>88.0</td>\n",
       "      <td>172.0</td>\n",
       "      <td>29.0</td>\n",
       "      <td>4.0</td>\n",
       "    </tr>\n",
       "    <tr>\n",
       "      <th>737</th>\n",
       "      <td>4</td>\n",
       "      <td>0.0</td>\n",
       "      <td>0.0</td>\n",
       "      <td>3</td>\n",
       "      <td>1</td>\n",
       "      <td>118.0</td>\n",
       "      <td>14.0</td>\n",
       "      <td>13.0</td>\n",
       "      <td>40.0</td>\n",
       "      <td>271219.0</td>\n",
       "      <td>95.0</td>\n",
       "      <td>0.0</td>\n",
       "      <td>1.0</td>\n",
       "      <td>1.0</td>\n",
       "      <td>1.0</td>\n",
       "      <td>0.0</td>\n",
       "      <td>8.0</td>\n",
       "      <td>98.0</td>\n",
       "      <td>170.0</td>\n",
       "      <td>34.0</td>\n",
       "      <td>0.0</td>\n",
       "    </tr>\n",
       "    <tr>\n",
       "      <th>738</th>\n",
       "      <td>8</td>\n",
       "      <td>0.0</td>\n",
       "      <td>0.0</td>\n",
       "      <td>4</td>\n",
       "      <td>2</td>\n",
       "      <td>231.0</td>\n",
       "      <td>35.0</td>\n",
       "      <td>14.0</td>\n",
       "      <td>39.0</td>\n",
       "      <td>271219.0</td>\n",
       "      <td>95.0</td>\n",
       "      <td>0.0</td>\n",
       "      <td>1.0</td>\n",
       "      <td>2.0</td>\n",
       "      <td>1.0</td>\n",
       "      <td>0.0</td>\n",
       "      <td>2.0</td>\n",
       "      <td>100.0</td>\n",
       "      <td>170.0</td>\n",
       "      <td>35.0</td>\n",
       "      <td>0.0</td>\n",
       "    </tr>\n",
       "    <tr>\n",
       "      <th>739</th>\n",
       "      <td>35</td>\n",
       "      <td>0.0</td>\n",
       "      <td>0.0</td>\n",
       "      <td>6</td>\n",
       "      <td>3</td>\n",
       "      <td>179.0</td>\n",
       "      <td>45.0</td>\n",
       "      <td>14.0</td>\n",
       "      <td>53.0</td>\n",
       "      <td>271219.0</td>\n",
       "      <td>95.0</td>\n",
       "      <td>0.0</td>\n",
       "      <td>1.0</td>\n",
       "      <td>1.0</td>\n",
       "      <td>0.0</td>\n",
       "      <td>0.0</td>\n",
       "      <td>1.0</td>\n",
       "      <td>77.0</td>\n",
       "      <td>175.0</td>\n",
       "      <td>25.0</td>\n",
       "      <td>0.0</td>\n",
       "    </tr>\n",
       "  </tbody>\n",
       "</table>\n",
       "<p>740 rows × 21 columns</p>\n",
       "</div>"
      ],
      "text/plain": [
       "     ID  Reason for absence  Month of absence  Day of the week  Seasons  \\\n",
       "0    11                26.0               7.0                3        1   \n",
       "1    36                 0.0               7.0                3        1   \n",
       "2     3                23.0               7.0                4        1   \n",
       "3     7                 7.0               7.0                5        1   \n",
       "4    11                23.0               7.0                5        1   \n",
       "5     3                23.0               7.0                6        1   \n",
       "6    10                22.0               7.0                6        1   \n",
       "7    20                23.0               7.0                6        1   \n",
       "8    14                19.0               7.0                2        1   \n",
       "9     1                22.0               7.0                2        1   \n",
       "10   20                 1.0               7.0                2        1   \n",
       "11   20                 1.0               7.0                3        1   \n",
       "12   20                11.0               7.0                4        1   \n",
       "13    3                11.0               7.0                4        1   \n",
       "14    3                23.0               7.0                4        1   \n",
       "15   24                14.0               7.0                6        1   \n",
       "16    3                23.0               7.0                6        1   \n",
       "17    3                21.0               7.0                2        1   \n",
       "18    6                11.0               7.0                5        1   \n",
       "19   33                23.0               8.0                4        1   \n",
       "20   18                10.0               8.0                4        1   \n",
       "21    3                11.0               8.0                2        1   \n",
       "22   10                13.0               8.0                2        1   \n",
       "23   20                28.0               8.0                6        1   \n",
       "24   11                18.0               8.0                2        1   \n",
       "25   10                25.0               8.0                2        1   \n",
       "26   11                23.0               8.0                3        1   \n",
       "27   30                28.0               8.0                4        1   \n",
       "28   11                18.0               8.0                4        1   \n",
       "29    3                23.0               8.0                6        1   \n",
       "..   ..                 ...               ...              ...      ...   \n",
       "710  23                22.0               6.0                5        3   \n",
       "711  36                19.0               6.0                5        3   \n",
       "712  12                19.0               6.0                6        3   \n",
       "713  22                27.0               6.0                6        3   \n",
       "714   2                 0.0               6.0                2        3   \n",
       "715  21                 0.0               6.0                2        3   \n",
       "716  36                19.0               6.0                5        3   \n",
       "717  22                13.0               6.0                5        3   \n",
       "718  15                28.0               6.0                5        3   \n",
       "719  22                13.0               6.0                2        1   \n",
       "720  34                25.0               6.0                2        1   \n",
       "721  12                22.0               6.0                5        1   \n",
       "722  34                 8.0               6.0                6        1   \n",
       "723  34                10.0               6.0                4        1   \n",
       "724  12                22.0               6.0                4        1   \n",
       "725   5                26.0               7.0                4        1   \n",
       "726  12                19.0               7.0                6        1   \n",
       "727   9                 6.0               7.0                2        1   \n",
       "728  34                28.0               7.0                2        1   \n",
       "729   9                 6.0               7.0                3        1   \n",
       "730   6                22.0               7.0                3        1   \n",
       "731  34                23.0               7.0                4        1   \n",
       "732  10                22.0               7.0                4        1   \n",
       "733  28                22.0               7.0                4        1   \n",
       "734  13                13.0               7.0                2        1   \n",
       "735  11                14.0               7.0                3        1   \n",
       "736   1                11.0               7.0                3        1   \n",
       "737   4                 0.0               0.0                3        1   \n",
       "738   8                 0.0               0.0                4        2   \n",
       "739  35                 0.0               0.0                6        3   \n",
       "\n",
       "     Transportation expense  Distance from Residence to Work  Service time  \\\n",
       "0                     289.0                             36.0          13.0   \n",
       "1                     118.0                             13.0          18.0   \n",
       "2                     179.0                             51.0          18.0   \n",
       "3                     279.0                              5.0          14.0   \n",
       "4                     289.0                             36.0          13.0   \n",
       "5                     179.0                             51.0          18.0   \n",
       "6                       NaN                             52.0           3.0   \n",
       "7                     260.0                             50.0          11.0   \n",
       "8                     155.0                             12.0          14.0   \n",
       "9                     235.0                             11.0          14.0   \n",
       "10                    260.0                             50.0          11.0   \n",
       "11                    260.0                             50.0          11.0   \n",
       "12                    260.0                             50.0          11.0   \n",
       "13                    179.0                             51.0          18.0   \n",
       "14                    179.0                             51.0          18.0   \n",
       "15                    246.0                             25.0          16.0   \n",
       "16                      NaN                             51.0          18.0   \n",
       "17                    179.0                             51.0          18.0   \n",
       "18                    189.0                             29.0          13.0   \n",
       "19                    248.0                             25.0          14.0   \n",
       "20                    330.0                             16.0           4.0   \n",
       "21                    179.0                             51.0          18.0   \n",
       "22                    361.0                             52.0           3.0   \n",
       "23                    260.0                             50.0          11.0   \n",
       "24                    289.0                             36.0          13.0   \n",
       "25                    361.0                             52.0           3.0   \n",
       "26                    289.0                             36.0          13.0   \n",
       "27                    157.0                             27.0           6.0   \n",
       "28                    289.0                             36.0          13.0   \n",
       "29                    179.0                             51.0          18.0   \n",
       "..                      ...                              ...           ...   \n",
       "710                   378.0                             49.0          11.0   \n",
       "711                   118.0                             13.0          18.0   \n",
       "712                   233.0                             51.0           1.0   \n",
       "713                   179.0                             26.0           9.0   \n",
       "714                   235.0                             29.0          12.0   \n",
       "715                   268.0                             11.0           8.0   \n",
       "716                   118.0                             13.0          18.0   \n",
       "717                   179.0                             26.0           9.0   \n",
       "718                   291.0                             31.0          12.0   \n",
       "719                   179.0                             26.0           9.0   \n",
       "720                   118.0                             10.0          10.0   \n",
       "721                   233.0                             51.0           1.0   \n",
       "722                   118.0                             10.0          10.0   \n",
       "723                   118.0                             10.0          10.0   \n",
       "724                   233.0                             51.0           1.0   \n",
       "725                   235.0                             20.0          13.0   \n",
       "726                   233.0                             51.0           1.0   \n",
       "727                   228.0                             14.0          16.0   \n",
       "728                   118.0                             10.0          10.0   \n",
       "729                   228.0                             14.0          16.0   \n",
       "730                   189.0                             29.0          13.0   \n",
       "731                   118.0                             10.0          10.0   \n",
       "732                   361.0                             52.0           3.0   \n",
       "733                   225.0                             26.0           9.0   \n",
       "734                   369.0                             17.0          12.0   \n",
       "735                   289.0                             36.0          13.0   \n",
       "736                   235.0                             11.0          14.0   \n",
       "737                   118.0                             14.0          13.0   \n",
       "738                   231.0                             35.0          14.0   \n",
       "739                   179.0                             45.0          14.0   \n",
       "\n",
       "      Age  Work load Average/day   Hit target  Disciplinary failure  \\\n",
       "0    33.0                239554.0        97.0                   0.0   \n",
       "1    50.0                239554.0        97.0                   1.0   \n",
       "2    38.0                239554.0        97.0                   0.0   \n",
       "3    39.0                239554.0        97.0                   0.0   \n",
       "4    33.0                239554.0        97.0                   0.0   \n",
       "5    38.0                239554.0        97.0                   0.0   \n",
       "6    28.0                239554.0        97.0                   0.0   \n",
       "7    36.0                239554.0        97.0                   0.0   \n",
       "8    34.0                239554.0        97.0                   0.0   \n",
       "9    37.0                239554.0        97.0                   0.0   \n",
       "10   36.0                239554.0        97.0                   0.0   \n",
       "11   36.0                239554.0        97.0                   0.0   \n",
       "12   36.0                239554.0        97.0                   0.0   \n",
       "13   38.0                239554.0        97.0                   0.0   \n",
       "14   38.0                239554.0        97.0                   0.0   \n",
       "15   41.0                239554.0        97.0                   0.0   \n",
       "16   38.0                239554.0        97.0                   0.0   \n",
       "17   38.0                239554.0        97.0                   0.0   \n",
       "18   33.0                239554.0        97.0                   0.0   \n",
       "19   47.0                205917.0        92.0                   0.0   \n",
       "20   28.0                205917.0        92.0                   0.0   \n",
       "21   38.0                205917.0        92.0                   0.0   \n",
       "22   28.0                205917.0        92.0                   0.0   \n",
       "23   36.0                205917.0        92.0                   0.0   \n",
       "24   33.0                205917.0        92.0                   0.0   \n",
       "25   28.0                205917.0        92.0                   0.0   \n",
       "26   33.0                205917.0        92.0                   0.0   \n",
       "27   29.0                205917.0        92.0                   0.0   \n",
       "28   33.0                205917.0        92.0                   0.0   \n",
       "29   38.0                205917.0        92.0                   0.0   \n",
       "..    ...                     ...         ...                   ...   \n",
       "710  36.0                275089.0        96.0                   0.0   \n",
       "711  50.0                275089.0        96.0                   0.0   \n",
       "712  31.0                275089.0        96.0                   0.0   \n",
       "713  30.0                275089.0        96.0                   0.0   \n",
       "714  48.0                275089.0        96.0                   1.0   \n",
       "715  33.0                275089.0        96.0                   1.0   \n",
       "716  50.0                275089.0        96.0                   0.0   \n",
       "717  30.0                275089.0        96.0                   0.0   \n",
       "718  40.0                275089.0        96.0                   0.0   \n",
       "719  30.0                275089.0        96.0                   0.0   \n",
       "720  37.0                275089.0        96.0                   0.0   \n",
       "721  31.0                275089.0        96.0                   0.0   \n",
       "722  37.0                275089.0        96.0                   0.0   \n",
       "723  37.0                275089.0        96.0                   0.0   \n",
       "724  31.0                275089.0        96.0                   0.0   \n",
       "725  43.0                264604.0        93.0                   0.0   \n",
       "726  31.0                264604.0        93.0                   0.0   \n",
       "727  58.0                264604.0        93.0                   0.0   \n",
       "728  37.0                264604.0        93.0                   0.0   \n",
       "729  58.0                264604.0        93.0                   0.0   \n",
       "730  33.0                264604.0        93.0                   0.0   \n",
       "731  37.0                264604.0        93.0                   0.0   \n",
       "732  28.0                264604.0        93.0                   0.0   \n",
       "733  28.0                264604.0        93.0                   0.0   \n",
       "734  31.0                264604.0        93.0                   0.0   \n",
       "735  33.0                264604.0        93.0                   0.0   \n",
       "736  37.0                264604.0        93.0                   0.0   \n",
       "737  40.0                271219.0        95.0                   0.0   \n",
       "738  39.0                271219.0        95.0                   0.0   \n",
       "739  53.0                271219.0        95.0                   0.0   \n",
       "\n",
       "     Education  Son  Social drinker  Social smoker  Pet  Weight  Height  \\\n",
       "0          1.0  2.0             1.0            0.0  1.0    90.0   172.0   \n",
       "1          1.0  1.0             1.0            0.0  0.0    98.0   178.0   \n",
       "2          1.0  0.0             1.0            0.0  0.0    89.0   170.0   \n",
       "3          1.0  2.0             1.0            1.0  0.0    68.0   168.0   \n",
       "4          1.0  2.0             1.0            0.0  1.0    90.0   172.0   \n",
       "5          1.0  0.0             1.0            0.0  0.0    89.0   170.0   \n",
       "6          1.0  1.0             1.0            0.0  4.0    80.0   172.0   \n",
       "7          1.0  4.0             1.0            0.0  0.0    65.0   168.0   \n",
       "8          1.0  2.0             1.0            0.0  0.0    95.0   196.0   \n",
       "9          3.0  1.0             0.0            0.0  1.0    88.0   172.0   \n",
       "10         1.0  4.0             1.0            0.0  0.0    65.0   168.0   \n",
       "11         1.0  4.0             1.0            0.0  0.0    65.0   168.0   \n",
       "12         1.0  4.0             1.0            0.0  0.0    65.0   168.0   \n",
       "13         1.0  0.0             1.0            0.0  0.0    89.0   170.0   \n",
       "14         1.0  0.0             1.0            0.0  0.0    89.0   170.0   \n",
       "15         1.0  0.0             1.0            0.0  0.0    67.0   170.0   \n",
       "16         1.0  0.0             1.0            0.0  0.0    89.0   170.0   \n",
       "17         1.0  0.0             1.0            0.0  0.0    89.0   170.0   \n",
       "18         1.0  2.0             0.0            0.0  2.0    69.0   167.0   \n",
       "19         1.0  2.0             0.0            0.0  1.0    86.0   165.0   \n",
       "20         2.0  0.0             0.0            0.0  0.0    84.0   182.0   \n",
       "21         1.0  0.0             1.0            0.0  0.0    89.0   170.0   \n",
       "22         1.0  1.0             1.0            0.0  4.0    80.0   172.0   \n",
       "23         1.0  4.0             1.0            0.0  0.0    65.0   168.0   \n",
       "24         1.0  2.0             1.0            0.0  1.0    90.0   172.0   \n",
       "25         1.0  1.0             1.0            0.0  4.0    80.0   172.0   \n",
       "26         1.0  2.0             1.0            0.0  1.0    90.0   172.0   \n",
       "27         1.0  0.0             1.0            1.0  0.0    75.0   185.0   \n",
       "28         1.0  2.0             1.0            0.0  1.0    90.0   172.0   \n",
       "29         1.0  0.0             1.0            0.0  0.0    89.0   170.0   \n",
       "..         ...  ...             ...            ...  ...     ...     ...   \n",
       "710        1.0  2.0             0.0            1.0  4.0    65.0   174.0   \n",
       "711        1.0  1.0             1.0            0.0  0.0    98.0   178.0   \n",
       "712        2.0  1.0             1.0            0.0  8.0    68.0   178.0   \n",
       "713        3.0  0.0             0.0            0.0  0.0    56.0   171.0   \n",
       "714        1.0  1.0             0.0            1.0  5.0    88.0   163.0   \n",
       "715        2.0  0.0             0.0            0.0  0.0    79.0   178.0   \n",
       "716        1.0  1.0             1.0            0.0  0.0    98.0   178.0   \n",
       "717        3.0  0.0             0.0            0.0  0.0    56.0   171.0   \n",
       "718        1.0  1.0             1.0            0.0  1.0    73.0   171.0   \n",
       "719        3.0  0.0             0.0            0.0  0.0    56.0   171.0   \n",
       "720        1.0  0.0             0.0            0.0  0.0    83.0   172.0   \n",
       "721        2.0  1.0             1.0            0.0  8.0    68.0   178.0   \n",
       "722        1.0  0.0             0.0            0.0  0.0    83.0   172.0   \n",
       "723        1.0  0.0             0.0            0.0  0.0    83.0   172.0   \n",
       "724        2.0  1.0             1.0            0.0  8.0    68.0   178.0   \n",
       "725        1.0  1.0             1.0            0.0  0.0   106.0   167.0   \n",
       "726        2.0  1.0             1.0            0.0  8.0    68.0   178.0   \n",
       "727        1.0  2.0             0.0            0.0  1.0    65.0   172.0   \n",
       "728        1.0  0.0             0.0            0.0  0.0    83.0   172.0   \n",
       "729        1.0  2.0             0.0            0.0  1.0    65.0   172.0   \n",
       "730        1.0  2.0             0.0            0.0  2.0    69.0   167.0   \n",
       "731        1.0  0.0             0.0            0.0  0.0    83.0   172.0   \n",
       "732        1.0  1.0             1.0            0.0  4.0    80.0   172.0   \n",
       "733        1.0  1.0             0.0            0.0  2.0    69.0   169.0   \n",
       "734        1.0  3.0             1.0            0.0  0.0    70.0   169.0   \n",
       "735        1.0  2.0             1.0            0.0  1.0    90.0   172.0   \n",
       "736        3.0  1.0             0.0            0.0  1.0    88.0   172.0   \n",
       "737        1.0  1.0             1.0            0.0  8.0    98.0   170.0   \n",
       "738        1.0  2.0             1.0            0.0  2.0   100.0   170.0   \n",
       "739        1.0  1.0             0.0            0.0  1.0    77.0   175.0   \n",
       "\n",
       "     Body mass index  Absenteeism time in hours  \n",
       "0               30.0                        4.0  \n",
       "1               31.0                        0.0  \n",
       "2               31.0                        2.0  \n",
       "3               24.0                        4.0  \n",
       "4               30.0                        2.0  \n",
       "5               31.0                        NaN  \n",
       "6               27.0                        8.0  \n",
       "7               23.0                        4.0  \n",
       "8               25.0                       40.0  \n",
       "9               29.0                        8.0  \n",
       "10              23.0                        8.0  \n",
       "11              23.0                        8.0  \n",
       "12              23.0                        8.0  \n",
       "13              31.0                        1.0  \n",
       "14               NaN                        4.0  \n",
       "15               NaN                        NaN  \n",
       "16              31.0                        2.0  \n",
       "17              31.0                        8.0  \n",
       "18              25.0                        8.0  \n",
       "19              32.0                        2.0  \n",
       "20              25.0                        NaN  \n",
       "21              31.0                        1.0  \n",
       "22              27.0                       40.0  \n",
       "23              23.0                        4.0  \n",
       "24               NaN                        8.0  \n",
       "25              27.0                        7.0  \n",
       "26              30.0                        1.0  \n",
       "27               NaN                        4.0  \n",
       "28              30.0                        8.0  \n",
       "29              31.0                        2.0  \n",
       "..               ...                        ...  \n",
       "710             21.0                        8.0  \n",
       "711             31.0                       24.0  \n",
       "712             21.0                        8.0  \n",
       "713             19.0                        2.0  \n",
       "714             33.0                        0.0  \n",
       "715             25.0                        0.0  \n",
       "716             31.0                        3.0  \n",
       "717             19.0                        2.0  \n",
       "718             25.0                        2.0  \n",
       "719             19.0                        3.0  \n",
       "720             28.0                        3.0  \n",
       "721             21.0                        8.0  \n",
       "722             28.0                        2.0  \n",
       "723             28.0                        3.0  \n",
       "724             21.0                        3.0  \n",
       "725             38.0                        4.0  \n",
       "726             21.0                        2.0  \n",
       "727             22.0                        8.0  \n",
       "728             28.0                        4.0  \n",
       "729             22.0                      120.0  \n",
       "730             25.0                       16.0  \n",
       "731             28.0                        2.0  \n",
       "732             27.0                        8.0  \n",
       "733             24.0                        8.0  \n",
       "734             25.0                       80.0  \n",
       "735             30.0                        8.0  \n",
       "736             29.0                        4.0  \n",
       "737             34.0                        0.0  \n",
       "738             35.0                        0.0  \n",
       "739             25.0                        0.0  \n",
       "\n",
       "[740 rows x 21 columns]"
      ]
     },
     "execution_count": 4,
     "metadata": {},
     "output_type": "execute_result"
    }
   ],
   "source": [
    "#Setting display to view all the coloumns on the screen\n",
    "pd.set_option('display.max_columns', 500)\n",
    "absenteism_data"
   ]
  },
  {
   "cell_type": "code",
   "execution_count": 14,
   "metadata": {},
   "outputs": [
    {
     "name": "stdout",
     "output_type": "stream",
     "text": [
      "<class 'pandas.core.frame.DataFrame'>\n",
      "RangeIndex: 740 entries, 0 to 739\n",
      "Data columns (total 21 columns):\n",
      "ID                                 740 non-null int64\n",
      "Reason for absence                 737 non-null float64\n",
      "Month of absence                   739 non-null float64\n",
      "Day of the week                    740 non-null int64\n",
      "Seasons                            740 non-null int64\n",
      "Transportation expense             733 non-null float64\n",
      "Distance from Residence to Work    737 non-null float64\n",
      "Service time                       737 non-null float64\n",
      "Age                                737 non-null float64\n",
      "Work load Average/day              730 non-null float64\n",
      "Hit target                         734 non-null float64\n",
      "Disciplinary failure               734 non-null float64\n",
      "Education                          730 non-null float64\n",
      "Son                                734 non-null float64\n",
      "Social drinker                     737 non-null float64\n",
      "Social smoker                      736 non-null float64\n",
      "Pet                                738 non-null float64\n",
      "Weight                             739 non-null float64\n",
      "Height                             726 non-null float64\n",
      "Body mass index                    709 non-null float64\n",
      "Absenteeism time in hours          718 non-null float64\n",
      "dtypes: float64(18), int64(3)\n",
      "memory usage: 121.5 KB\n"
     ]
    }
   ],
   "source": [
    "#Understand the data type of all the avriables of the dataset\n",
    "absenteism_data.info()"
   ]
  },
  {
   "cell_type": "code",
   "execution_count": 5,
   "metadata": {},
   "outputs": [],
   "source": [
    "#Renaming Columns\n",
    "absenteism_data.columns = ['ID', 'Reason.for.absence', 'Month.of.absence', 'Day.of.the.week',\n",
    "       'Seasons', 'Transportation.expense','Distance.from.Residence.to.Work', 'Service.time', 'Age',\n",
    "       'Work.load.Average.day', 'Hit.target', 'Disciplinary.failure','Education', 'Son', 'Social.drinker', 'Social.smoker', 'Pet',\n",
    "       'Weight', 'Height', 'Body.mass.index', 'Absenteeism.time.in.hours']"
   ]
  },
  {
   "cell_type": "markdown",
   "metadata": {},
   "source": [
    "#### Removing Observations with 'Absenteeism.time.in.hours' equal to zero"
   ]
  },
  {
   "cell_type": "code",
   "execution_count": 6,
   "metadata": {},
   "outputs": [],
   "source": [
    "absenteism_data = absenteism_data.loc[absenteism_data['Absenteeism.time.in.hours']!= 0,:]"
   ]
  },
  {
   "cell_type": "code",
   "execution_count": 7,
   "metadata": {},
   "outputs": [
    {
     "data": {
      "text/plain": [
       "(704, 21)"
      ]
     },
     "execution_count": 7,
     "metadata": {},
     "output_type": "execute_result"
    }
   ],
   "source": [
    "absenteism_data.shape"
   ]
  },
  {
   "cell_type": "markdown",
   "metadata": {},
   "source": [
    "# Missing values Analysis"
   ]
  },
  {
   "cell_type": "code",
   "execution_count": 8,
   "metadata": {},
   "outputs": [
    {
     "data": {
      "text/html": [
       "<div>\n",
       "<style scoped>\n",
       "    .dataframe tbody tr th:only-of-type {\n",
       "        vertical-align: middle;\n",
       "    }\n",
       "\n",
       "    .dataframe tbody tr th {\n",
       "        vertical-align: top;\n",
       "    }\n",
       "\n",
       "    .dataframe thead th {\n",
       "        text-align: right;\n",
       "    }\n",
       "</style>\n",
       "<table border=\"1\" class=\"dataframe\">\n",
       "  <thead>\n",
       "    <tr style=\"text-align: right;\">\n",
       "      <th></th>\n",
       "      <th>Missing_percentage</th>\n",
       "    </tr>\n",
       "  </thead>\n",
       "  <tbody>\n",
       "    <tr>\n",
       "      <th>Body.mass.index</th>\n",
       "      <td>4.119318</td>\n",
       "    </tr>\n",
       "    <tr>\n",
       "      <th>Absenteeism.time.in.hours</th>\n",
       "      <td>3.125000</td>\n",
       "    </tr>\n",
       "    <tr>\n",
       "      <th>Height</th>\n",
       "      <td>1.846591</td>\n",
       "    </tr>\n",
       "    <tr>\n",
       "      <th>Work.load.Average.day</th>\n",
       "      <td>1.420455</td>\n",
       "    </tr>\n",
       "    <tr>\n",
       "      <th>Education</th>\n",
       "      <td>1.420455</td>\n",
       "    </tr>\n",
       "    <tr>\n",
       "      <th>Transportation.expense</th>\n",
       "      <td>0.994318</td>\n",
       "    </tr>\n",
       "    <tr>\n",
       "      <th>Son</th>\n",
       "      <td>0.852273</td>\n",
       "    </tr>\n",
       "    <tr>\n",
       "      <th>Disciplinary.failure</th>\n",
       "      <td>0.852273</td>\n",
       "    </tr>\n",
       "    <tr>\n",
       "      <th>Hit.target</th>\n",
       "      <td>0.852273</td>\n",
       "    </tr>\n",
       "    <tr>\n",
       "      <th>Social.smoker</th>\n",
       "      <td>0.568182</td>\n",
       "    </tr>\n",
       "    <tr>\n",
       "      <th>Age</th>\n",
       "      <td>0.426136</td>\n",
       "    </tr>\n",
       "    <tr>\n",
       "      <th>Reason.for.absence</th>\n",
       "      <td>0.426136</td>\n",
       "    </tr>\n",
       "    <tr>\n",
       "      <th>Service.time</th>\n",
       "      <td>0.426136</td>\n",
       "    </tr>\n",
       "    <tr>\n",
       "      <th>Distance.from.Residence.to.Work</th>\n",
       "      <td>0.426136</td>\n",
       "    </tr>\n",
       "    <tr>\n",
       "      <th>Social.drinker</th>\n",
       "      <td>0.426136</td>\n",
       "    </tr>\n",
       "    <tr>\n",
       "      <th>Pet</th>\n",
       "      <td>0.284091</td>\n",
       "    </tr>\n",
       "    <tr>\n",
       "      <th>Weight</th>\n",
       "      <td>0.142045</td>\n",
       "    </tr>\n",
       "    <tr>\n",
       "      <th>Month.of.absence</th>\n",
       "      <td>0.142045</td>\n",
       "    </tr>\n",
       "    <tr>\n",
       "      <th>Seasons</th>\n",
       "      <td>0.000000</td>\n",
       "    </tr>\n",
       "    <tr>\n",
       "      <th>Day.of.the.week</th>\n",
       "      <td>0.000000</td>\n",
       "    </tr>\n",
       "    <tr>\n",
       "      <th>ID</th>\n",
       "      <td>0.000000</td>\n",
       "    </tr>\n",
       "  </tbody>\n",
       "</table>\n",
       "</div>"
      ],
      "text/plain": [
       "                                 Missing_percentage\n",
       "Body.mass.index                            4.119318\n",
       "Absenteeism.time.in.hours                  3.125000\n",
       "Height                                     1.846591\n",
       "Work.load.Average.day                      1.420455\n",
       "Education                                  1.420455\n",
       "Transportation.expense                     0.994318\n",
       "Son                                        0.852273\n",
       "Disciplinary.failure                       0.852273\n",
       "Hit.target                                 0.852273\n",
       "Social.smoker                              0.568182\n",
       "Age                                        0.426136\n",
       "Reason.for.absence                         0.426136\n",
       "Service.time                               0.426136\n",
       "Distance.from.Residence.to.Work            0.426136\n",
       "Social.drinker                             0.426136\n",
       "Pet                                        0.284091\n",
       "Weight                                     0.142045\n",
       "Month.of.absence                           0.142045\n",
       "Seasons                                    0.000000\n",
       "Day.of.the.week                            0.000000\n",
       "ID                                         0.000000"
      ]
     },
     "execution_count": 8,
     "metadata": {},
     "output_type": "execute_result"
    }
   ],
   "source": [
    "absenteism_data.isna().sum()\n",
    "Missing_Value = pd.DataFrame((absenteism_data.isna().sum()/len(absenteism_data)*100))\n",
    "\n",
    "Missing_Value.reset_index()\n",
    "Missing_Value = Missing_Value.rename(columns = {'index': 'Variables', 0: 'Missing_percentage'})\n",
    "#Arranging Missing Values in Decreasing Order\n",
    "Missing_Value = Missing_Value.sort_values('Missing_percentage', ascending = False)\n",
    "Missing_Value"
   ]
  },
  {
   "cell_type": "code",
   "execution_count": 9,
   "metadata": {},
   "outputs": [
    {
     "data": {
      "text/html": [
       "<div>\n",
       "<style scoped>\n",
       "    .dataframe tbody tr th:only-of-type {\n",
       "        vertical-align: middle;\n",
       "    }\n",
       "\n",
       "    .dataframe tbody tr th {\n",
       "        vertical-align: top;\n",
       "    }\n",
       "\n",
       "    .dataframe thead th {\n",
       "        text-align: right;\n",
       "    }\n",
       "</style>\n",
       "<table border=\"1\" class=\"dataframe\">\n",
       "  <thead>\n",
       "    <tr style=\"text-align: right;\">\n",
       "      <th></th>\n",
       "      <th>ID</th>\n",
       "      <th>Reason.for.absence</th>\n",
       "      <th>Month.of.absence</th>\n",
       "      <th>Day.of.the.week</th>\n",
       "      <th>Seasons</th>\n",
       "      <th>Transportation.expense</th>\n",
       "      <th>Distance.from.Residence.to.Work</th>\n",
       "      <th>Service.time</th>\n",
       "      <th>Age</th>\n",
       "      <th>Work.load.Average.day</th>\n",
       "      <th>Hit.target</th>\n",
       "      <th>Disciplinary.failure</th>\n",
       "      <th>Education</th>\n",
       "      <th>Son</th>\n",
       "      <th>Social.drinker</th>\n",
       "      <th>Social.smoker</th>\n",
       "      <th>Pet</th>\n",
       "      <th>Weight</th>\n",
       "      <th>Height</th>\n",
       "      <th>Body.mass.index</th>\n",
       "      <th>Absenteeism.time.in.hours</th>\n",
       "    </tr>\n",
       "  </thead>\n",
       "  <tbody>\n",
       "    <tr>\n",
       "      <th>367</th>\n",
       "      <td>3</td>\n",
       "      <td>NaN</td>\n",
       "      <td>1.0</td>\n",
       "      <td>4</td>\n",
       "      <td>2</td>\n",
       "      <td>179.0</td>\n",
       "      <td>51.0</td>\n",
       "      <td>18.0</td>\n",
       "      <td>38.0</td>\n",
       "      <td>330061.0</td>\n",
       "      <td>100.0</td>\n",
       "      <td>0.0</td>\n",
       "      <td>1.0</td>\n",
       "      <td>0.0</td>\n",
       "      <td>1.0</td>\n",
       "      <td>0.0</td>\n",
       "      <td>0.0</td>\n",
       "      <td>89.0</td>\n",
       "      <td>170.0</td>\n",
       "      <td>31.0</td>\n",
       "      <td>1.0</td>\n",
       "    </tr>\n",
       "    <tr>\n",
       "      <th>373</th>\n",
       "      <td>20</td>\n",
       "      <td>NaN</td>\n",
       "      <td>2.0</td>\n",
       "      <td>6</td>\n",
       "      <td>2</td>\n",
       "      <td>260.0</td>\n",
       "      <td>50.0</td>\n",
       "      <td>11.0</td>\n",
       "      <td>36.0</td>\n",
       "      <td>251818.0</td>\n",
       "      <td>96.0</td>\n",
       "      <td>0.0</td>\n",
       "      <td>1.0</td>\n",
       "      <td>4.0</td>\n",
       "      <td>1.0</td>\n",
       "      <td>0.0</td>\n",
       "      <td>0.0</td>\n",
       "      <td>65.0</td>\n",
       "      <td>168.0</td>\n",
       "      <td>23.0</td>\n",
       "      <td>3.0</td>\n",
       "    </tr>\n",
       "    <tr>\n",
       "      <th>380</th>\n",
       "      <td>6</td>\n",
       "      <td>NaN</td>\n",
       "      <td>2.0</td>\n",
       "      <td>2</td>\n",
       "      <td>2</td>\n",
       "      <td>189.0</td>\n",
       "      <td>29.0</td>\n",
       "      <td>13.0</td>\n",
       "      <td>33.0</td>\n",
       "      <td>251818.0</td>\n",
       "      <td>96.0</td>\n",
       "      <td>0.0</td>\n",
       "      <td>1.0</td>\n",
       "      <td>2.0</td>\n",
       "      <td>0.0</td>\n",
       "      <td>0.0</td>\n",
       "      <td>2.0</td>\n",
       "      <td>69.0</td>\n",
       "      <td>167.0</td>\n",
       "      <td>25.0</td>\n",
       "      <td>8.0</td>\n",
       "    </tr>\n",
       "  </tbody>\n",
       "</table>\n",
       "</div>"
      ],
      "text/plain": [
       "     ID  Reason.for.absence  Month.of.absence  Day.of.the.week  Seasons  \\\n",
       "367   3                 NaN               1.0                4        2   \n",
       "373  20                 NaN               2.0                6        2   \n",
       "380   6                 NaN               2.0                2        2   \n",
       "\n",
       "     Transportation.expense  Distance.from.Residence.to.Work  Service.time  \\\n",
       "367                   179.0                             51.0          18.0   \n",
       "373                   260.0                             50.0          11.0   \n",
       "380                   189.0                             29.0          13.0   \n",
       "\n",
       "      Age  Work.load.Average.day  Hit.target  Disciplinary.failure  Education  \\\n",
       "367  38.0               330061.0       100.0                   0.0        1.0   \n",
       "373  36.0               251818.0        96.0                   0.0        1.0   \n",
       "380  33.0               251818.0        96.0                   0.0        1.0   \n",
       "\n",
       "     Son  Social.drinker  Social.smoker  Pet  Weight  Height  Body.mass.index  \\\n",
       "367  0.0             1.0            0.0  0.0    89.0   170.0             31.0   \n",
       "373  4.0             1.0            0.0  0.0    65.0   168.0             23.0   \n",
       "380  2.0             0.0            0.0  2.0    69.0   167.0             25.0   \n",
       "\n",
       "     Absenteeism.time.in.hours  \n",
       "367                        1.0  \n",
       "373                        3.0  \n",
       "380                        8.0  "
      ]
     },
     "execution_count": 9,
     "metadata": {},
     "output_type": "execute_result"
    }
   ],
   "source": [
    "pd.DataFrame(absenteism_data[absenteism_data['Reason.for.absence'].isna()])"
   ]
  },
  {
   "cell_type": "markdown",
   "metadata": {},
   "source": [
    "##### Imputing missing values\n",
    "Null values of 'Reason.for.absence' column equal to 27(i.e. physiotherapy) since Absenteeism.time.in.hourshours are < 10 and physiotherapy can stretch to any amount of time."
   ]
  },
  {
   "cell_type": "code",
   "execution_count": 10,
   "metadata": {},
   "outputs": [
    {
     "name": "stderr",
     "output_type": "stream",
     "text": [
      "C:\\Users\\Hasan\\Anaconda2\\lib\\site-packages\\pandas\\core\\indexing.py:543: SettingWithCopyWarning: \n",
      "A value is trying to be set on a copy of a slice from a DataFrame.\n",
      "Try using .loc[row_indexer,col_indexer] = value instead\n",
      "\n",
      "See the caveats in the documentation: http://pandas.pydata.org/pandas-docs/stable/indexing.html#indexing-view-versus-copy\n",
      "  self.obj[item] = s\n"
     ]
    }
   ],
   "source": [
    "absenteism_data.loc[absenteism_data['Reason.for.absence'].isnull(),'Reason.for.absence'] = 27"
   ]
  },
  {
   "cell_type": "markdown",
   "metadata": {},
   "source": [
    "Putting zero category of 'Reason.for.absence' column equal to 26(i.e. unjustified absence)."
   ]
  },
  {
   "cell_type": "code",
   "execution_count": 11,
   "metadata": {},
   "outputs": [],
   "source": [
    "absenteism_data.loc[absenteism_data['Reason.for.absence']==0,'Reason.for.absence'] = 26"
   ]
  },
  {
   "cell_type": "code",
   "execution_count": 12,
   "metadata": {},
   "outputs": [
    {
     "data": {
      "text/html": [
       "<div>\n",
       "<style scoped>\n",
       "    .dataframe tbody tr th:only-of-type {\n",
       "        vertical-align: middle;\n",
       "    }\n",
       "\n",
       "    .dataframe tbody tr th {\n",
       "        vertical-align: top;\n",
       "    }\n",
       "\n",
       "    .dataframe thead th {\n",
       "        text-align: right;\n",
       "    }\n",
       "</style>\n",
       "<table border=\"1\" class=\"dataframe\">\n",
       "  <thead>\n",
       "    <tr style=\"text-align: right;\">\n",
       "      <th></th>\n",
       "      <th>ID</th>\n",
       "      <th>Reason.for.absence</th>\n",
       "      <th>Month.of.absence</th>\n",
       "      <th>Day.of.the.week</th>\n",
       "      <th>Seasons</th>\n",
       "      <th>Transportation.expense</th>\n",
       "      <th>Distance.from.Residence.to.Work</th>\n",
       "      <th>Service.time</th>\n",
       "      <th>Age</th>\n",
       "      <th>Work.load.Average.day</th>\n",
       "      <th>Hit.target</th>\n",
       "      <th>Disciplinary.failure</th>\n",
       "      <th>Education</th>\n",
       "      <th>Son</th>\n",
       "      <th>Social.drinker</th>\n",
       "      <th>Social.smoker</th>\n",
       "      <th>Pet</th>\n",
       "      <th>Weight</th>\n",
       "      <th>Height</th>\n",
       "      <th>Body.mass.index</th>\n",
       "      <th>Absenteeism.time.in.hours</th>\n",
       "    </tr>\n",
       "  </thead>\n",
       "  <tbody>\n",
       "    <tr>\n",
       "      <th>66</th>\n",
       "      <td>3</td>\n",
       "      <td>23.0</td>\n",
       "      <td>NaN</td>\n",
       "      <td>6</td>\n",
       "      <td>4</td>\n",
       "      <td>179.0</td>\n",
       "      <td>51.0</td>\n",
       "      <td>18.0</td>\n",
       "      <td>38.0</td>\n",
       "      <td>253465.0</td>\n",
       "      <td>93.0</td>\n",
       "      <td>0.0</td>\n",
       "      <td>1.0</td>\n",
       "      <td>0.0</td>\n",
       "      <td>1.0</td>\n",
       "      <td>0.0</td>\n",
       "      <td>0.0</td>\n",
       "      <td>89.0</td>\n",
       "      <td>170.0</td>\n",
       "      <td>31.0</td>\n",
       "      <td>3.0</td>\n",
       "    </tr>\n",
       "  </tbody>\n",
       "</table>\n",
       "</div>"
      ],
      "text/plain": [
       "    ID  Reason.for.absence  Month.of.absence  Day.of.the.week  Seasons  \\\n",
       "66   3                23.0               NaN                6        4   \n",
       "\n",
       "    Transportation.expense  Distance.from.Residence.to.Work  Service.time  \\\n",
       "66                   179.0                             51.0          18.0   \n",
       "\n",
       "     Age  Work.load.Average.day  Hit.target  Disciplinary.failure  Education  \\\n",
       "66  38.0               253465.0        93.0                   0.0        1.0   \n",
       "\n",
       "    Son  Social.drinker  Social.smoker  Pet  Weight  Height  Body.mass.index  \\\n",
       "66  0.0             1.0            0.0  0.0    89.0   170.0             31.0   \n",
       "\n",
       "    Absenteeism.time.in.hours  \n",
       "66                        3.0  "
      ]
     },
     "execution_count": 12,
     "metadata": {},
     "output_type": "execute_result"
    }
   ],
   "source": [
    "absenteism_data.loc[absenteism_data['Month.of.absence'].isnull()]"
   ]
  },
  {
   "cell_type": "markdown",
   "metadata": {},
   "source": [
    "As we can see above the season is 4 for 'Month.of.absence' null. Let's take this value equal to 10."
   ]
  },
  {
   "cell_type": "code",
   "execution_count": 13,
   "metadata": {},
   "outputs": [],
   "source": [
    "absenteism_data.loc[absenteism_data['Month.of.absence'].isnull(),'Month.of.absence'] = 10"
   ]
  },
  {
   "cell_type": "markdown",
   "metadata": {},
   "source": [
    "'Transportation.expense' depends on 'Distance.from.Residence.to.Work' so we will use 'Distance.from.Residence.to.Work' values to impute missing values in 'Transportation.expense' "
   ]
  },
  {
   "cell_type": "code",
   "execution_count": 14,
   "metadata": {},
   "outputs": [],
   "source": [
    "absenteism_data.loc[(absenteism_data['Transportation.expense'].isnull()) & (absenteism_data['Distance.from.Residence.to.Work']==51),\\\n",
    "'Transportation.expense'] = absenteism_data.loc[absenteism_data['Distance.from.Residence.to.Work']==51,'Transportation.expense'].mode()[0]\n",
    "\n",
    "absenteism_data.loc[(absenteism_data['Transportation.expense'].isnull()) & (absenteism_data['Distance.from.Residence.to.Work']==50),\\\n",
    "'Transportation.expense'] = absenteism_data.loc[absenteism_data['Distance.from.Residence.to.Work']==50,'Transportation.expense'].mode()[0]\n",
    "\n",
    "absenteism_data.loc[(absenteism_data['Transportation.expense'].isnull()) & (absenteism_data['Distance.from.Residence.to.Work']==52),\\\n",
    "'Transportation.expense'] = absenteism_data.loc[absenteism_data['Distance.from.Residence.to.Work']==52,'Transportation.expense'].mode()[0]\n",
    "\n",
    "absenteism_data.loc[(absenteism_data['Transportation.expense'].isnull()) & (absenteism_data['Distance.from.Residence.to.Work']==11),\\\n",
    "'Transportation.expense'] = absenteism_data.loc[absenteism_data['Distance.from.Residence.to.Work']==11,'Transportation.expense'].mode()[0]\n",
    "\n",
    "absenteism_data.loc[(absenteism_data['Transportation.expense'].isnull()) & (absenteism_data['Distance.from.Residence.to.Work']==31),\\\n",
    "'Transportation.expense'] = absenteism_data.loc[absenteism_data['Distance.from.Residence.to.Work']==31,'Transportation.expense'].mode()[0]\n",
    "\n",
    "absenteism_data.loc[(absenteism_data['Transportation.expense'].isnull()) & (absenteism_data['ID']==22),\\\n",
    "'Transportation.expense'] = absenteism_data.loc[absenteism_data['ID']==22,'Transportation.expense'].mode()[0]"
   ]
  },
  {
   "cell_type": "markdown",
   "metadata": {},
   "source": [
    "Using 'ID' column to impute missing value for 'Distance.from.Residence.to.Work'"
   ]
  },
  {
   "cell_type": "code",
   "execution_count": 15,
   "metadata": {},
   "outputs": [],
   "source": [
    "absenteism_data.loc[(absenteism_data['Distance.from.Residence.to.Work'].isnull()) & (absenteism_data['ID']==34),\\\n",
    "'Distance.from.Residence.to.Work'] = absenteism_data.loc[absenteism_data['ID']==34,'Distance.from.Residence.to.Work'].mode()[0]\n",
    "\n",
    "absenteism_data.loc[(absenteism_data['Distance.from.Residence.to.Work'].isnull()) & (absenteism_data['ID']==22),\\\n",
    "'Distance.from.Residence.to.Work'] = absenteism_data.loc[absenteism_data['ID']==22,'Distance.from.Residence.to.Work'].mode()[0]\n",
    "\n",
    "absenteism_data.loc[(absenteism_data['Distance.from.Residence.to.Work'].isnull()) & (absenteism_data['ID']==28),\\\n",
    "'Distance.from.Residence.to.Work'] = absenteism_data.loc[absenteism_data['ID']==28,'Distance.from.Residence.to.Work'].mode()[0]"
   ]
  },
  {
   "cell_type": "markdown",
   "metadata": {},
   "source": [
    "Using 'ID' column to impute missing values for 'Service.time' "
   ]
  },
  {
   "cell_type": "code",
   "execution_count": 16,
   "metadata": {},
   "outputs": [],
   "source": [
    "absenteism_data.loc[(absenteism_data['Service.time'].isnull()) & (absenteism_data['ID']==34),\\\n",
    "'Service.time'] = absenteism_data.loc[absenteism_data['ID']==34,'Service.time'].mode()[0]\n",
    "\n",
    "absenteism_data.loc[(absenteism_data['Service.time'].isnull()) & (absenteism_data['ID']==28),\\\n",
    "'Service.time'] = absenteism_data.loc[absenteism_data['ID']==28,'Service.time'].mode()[0]"
   ]
  },
  {
   "cell_type": "markdown",
   "metadata": {},
   "source": [
    "Using 'ID' column to impute missing values for 'Age' "
   ]
  },
  {
   "cell_type": "code",
   "execution_count": 17,
   "metadata": {},
   "outputs": [],
   "source": [
    "absenteism_data.loc[(absenteism_data['Age'].isnull()) & (absenteism_data['ID']==24),\\\n",
    "'Age'] = absenteism_data.loc[absenteism_data['ID']==24,'Age'].mode()[0]\n",
    "\n",
    "absenteism_data.loc[(absenteism_data['Age'].isnull()) & (absenteism_data['ID']==28),\\\n",
    "'Age'] = absenteism_data.loc[absenteism_data['ID']==28,'Age'].mode()[0]"
   ]
  },
  {
   "cell_type": "markdown",
   "metadata": {},
   "source": [
    "'Work load Average/day' values are dependent upon 'Month.of.absence' and 'Hit.target' values"
   ]
  },
  {
   "cell_type": "code",
   "execution_count": 18,
   "metadata": {},
   "outputs": [
    {
     "data": {
      "text/html": [
       "<div>\n",
       "<style scoped>\n",
       "    .dataframe tbody tr th:only-of-type {\n",
       "        vertical-align: middle;\n",
       "    }\n",
       "\n",
       "    .dataframe tbody tr th {\n",
       "        vertical-align: top;\n",
       "    }\n",
       "\n",
       "    .dataframe thead th {\n",
       "        text-align: right;\n",
       "    }\n",
       "</style>\n",
       "<table border=\"1\" class=\"dataframe\">\n",
       "  <thead>\n",
       "    <tr style=\"text-align: right;\">\n",
       "      <th></th>\n",
       "      <th>ID</th>\n",
       "      <th>Reason.for.absence</th>\n",
       "      <th>Month.of.absence</th>\n",
       "      <th>Day.of.the.week</th>\n",
       "      <th>Seasons</th>\n",
       "      <th>Transportation.expense</th>\n",
       "      <th>Distance.from.Residence.to.Work</th>\n",
       "      <th>Service.time</th>\n",
       "      <th>Age</th>\n",
       "      <th>Work.load.Average.day</th>\n",
       "      <th>Hit.target</th>\n",
       "      <th>Disciplinary.failure</th>\n",
       "      <th>Education</th>\n",
       "      <th>Son</th>\n",
       "      <th>Social.drinker</th>\n",
       "      <th>Social.smoker</th>\n",
       "      <th>Pet</th>\n",
       "      <th>Weight</th>\n",
       "      <th>Height</th>\n",
       "      <th>Body.mass.index</th>\n",
       "      <th>Absenteeism.time.in.hours</th>\n",
       "    </tr>\n",
       "  </thead>\n",
       "  <tbody>\n",
       "    <tr>\n",
       "      <th>55</th>\n",
       "      <td>36</td>\n",
       "      <td>26.0</td>\n",
       "      <td>9.0</td>\n",
       "      <td>3</td>\n",
       "      <td>4</td>\n",
       "      <td>118.0</td>\n",
       "      <td>13.0</td>\n",
       "      <td>18.0</td>\n",
       "      <td>50.0</td>\n",
       "      <td>NaN</td>\n",
       "      <td>92.0</td>\n",
       "      <td>1.0</td>\n",
       "      <td>1.0</td>\n",
       "      <td>1.0</td>\n",
       "      <td>1.0</td>\n",
       "      <td>0.0</td>\n",
       "      <td>0.0</td>\n",
       "      <td>98.0</td>\n",
       "      <td>178.0</td>\n",
       "      <td>31.0</td>\n",
       "      <td>NaN</td>\n",
       "    </tr>\n",
       "    <tr>\n",
       "      <th>77</th>\n",
       "      <td>11</td>\n",
       "      <td>26.0</td>\n",
       "      <td>10.0</td>\n",
       "      <td>4</td>\n",
       "      <td>4</td>\n",
       "      <td>289.0</td>\n",
       "      <td>36.0</td>\n",
       "      <td>13.0</td>\n",
       "      <td>33.0</td>\n",
       "      <td>NaN</td>\n",
       "      <td>93.0</td>\n",
       "      <td>0.0</td>\n",
       "      <td>NaN</td>\n",
       "      <td>2.0</td>\n",
       "      <td>1.0</td>\n",
       "      <td>0.0</td>\n",
       "      <td>1.0</td>\n",
       "      <td>90.0</td>\n",
       "      <td>172.0</td>\n",
       "      <td>NaN</td>\n",
       "      <td>8.0</td>\n",
       "    </tr>\n",
       "    <tr>\n",
       "      <th>84</th>\n",
       "      <td>15</td>\n",
       "      <td>23.0</td>\n",
       "      <td>11.0</td>\n",
       "      <td>5</td>\n",
       "      <td>4</td>\n",
       "      <td>291.0</td>\n",
       "      <td>31.0</td>\n",
       "      <td>12.0</td>\n",
       "      <td>40.0</td>\n",
       "      <td>NaN</td>\n",
       "      <td>93.0</td>\n",
       "      <td>0.0</td>\n",
       "      <td>1.0</td>\n",
       "      <td>1.0</td>\n",
       "      <td>1.0</td>\n",
       "      <td>0.0</td>\n",
       "      <td>1.0</td>\n",
       "      <td>73.0</td>\n",
       "      <td>171.0</td>\n",
       "      <td>25.0</td>\n",
       "      <td>5.0</td>\n",
       "    </tr>\n",
       "    <tr>\n",
       "      <th>93</th>\n",
       "      <td>20</td>\n",
       "      <td>28.0</td>\n",
       "      <td>11.0</td>\n",
       "      <td>6</td>\n",
       "      <td>4</td>\n",
       "      <td>260.0</td>\n",
       "      <td>50.0</td>\n",
       "      <td>11.0</td>\n",
       "      <td>36.0</td>\n",
       "      <td>NaN</td>\n",
       "      <td>93.0</td>\n",
       "      <td>0.0</td>\n",
       "      <td>1.0</td>\n",
       "      <td>4.0</td>\n",
       "      <td>1.0</td>\n",
       "      <td>0.0</td>\n",
       "      <td>0.0</td>\n",
       "      <td>65.0</td>\n",
       "      <td>168.0</td>\n",
       "      <td>23.0</td>\n",
       "      <td>4.0</td>\n",
       "    </tr>\n",
       "    <tr>\n",
       "      <th>104</th>\n",
       "      <td>34</td>\n",
       "      <td>19.0</td>\n",
       "      <td>12.0</td>\n",
       "      <td>3</td>\n",
       "      <td>4</td>\n",
       "      <td>118.0</td>\n",
       "      <td>10.0</td>\n",
       "      <td>10.0</td>\n",
       "      <td>37.0</td>\n",
       "      <td>NaN</td>\n",
       "      <td>97.0</td>\n",
       "      <td>0.0</td>\n",
       "      <td>1.0</td>\n",
       "      <td>0.0</td>\n",
       "      <td>0.0</td>\n",
       "      <td>0.0</td>\n",
       "      <td>0.0</td>\n",
       "      <td>83.0</td>\n",
       "      <td>172.0</td>\n",
       "      <td>28.0</td>\n",
       "      <td>56.0</td>\n",
       "    </tr>\n",
       "    <tr>\n",
       "      <th>105</th>\n",
       "      <td>10</td>\n",
       "      <td>22.0</td>\n",
       "      <td>12.0</td>\n",
       "      <td>4</td>\n",
       "      <td>4</td>\n",
       "      <td>361.0</td>\n",
       "      <td>52.0</td>\n",
       "      <td>3.0</td>\n",
       "      <td>28.0</td>\n",
       "      <td>NaN</td>\n",
       "      <td>97.0</td>\n",
       "      <td>0.0</td>\n",
       "      <td>1.0</td>\n",
       "      <td>1.0</td>\n",
       "      <td>1.0</td>\n",
       "      <td>0.0</td>\n",
       "      <td>4.0</td>\n",
       "      <td>80.0</td>\n",
       "      <td>172.0</td>\n",
       "      <td>27.0</td>\n",
       "      <td>8.0</td>\n",
       "    </tr>\n",
       "    <tr>\n",
       "      <th>113</th>\n",
       "      <td>28</td>\n",
       "      <td>23.0</td>\n",
       "      <td>1.0</td>\n",
       "      <td>4</td>\n",
       "      <td>2</td>\n",
       "      <td>225.0</td>\n",
       "      <td>26.0</td>\n",
       "      <td>9.0</td>\n",
       "      <td>28.0</td>\n",
       "      <td>NaN</td>\n",
       "      <td>95.0</td>\n",
       "      <td>0.0</td>\n",
       "      <td>1.0</td>\n",
       "      <td>1.0</td>\n",
       "      <td>0.0</td>\n",
       "      <td>0.0</td>\n",
       "      <td>2.0</td>\n",
       "      <td>69.0</td>\n",
       "      <td>NaN</td>\n",
       "      <td>24.0</td>\n",
       "      <td>1.0</td>\n",
       "    </tr>\n",
       "    <tr>\n",
       "      <th>114</th>\n",
       "      <td>34</td>\n",
       "      <td>19.0</td>\n",
       "      <td>1.0</td>\n",
       "      <td>2</td>\n",
       "      <td>2</td>\n",
       "      <td>118.0</td>\n",
       "      <td>10.0</td>\n",
       "      <td>10.0</td>\n",
       "      <td>37.0</td>\n",
       "      <td>NaN</td>\n",
       "      <td>95.0</td>\n",
       "      <td>0.0</td>\n",
       "      <td>1.0</td>\n",
       "      <td>0.0</td>\n",
       "      <td>0.0</td>\n",
       "      <td>NaN</td>\n",
       "      <td>0.0</td>\n",
       "      <td>83.0</td>\n",
       "      <td>NaN</td>\n",
       "      <td>28.0</td>\n",
       "      <td>1.0</td>\n",
       "    </tr>\n",
       "    <tr>\n",
       "      <th>132</th>\n",
       "      <td>27</td>\n",
       "      <td>23.0</td>\n",
       "      <td>1.0</td>\n",
       "      <td>5</td>\n",
       "      <td>2</td>\n",
       "      <td>184.0</td>\n",
       "      <td>42.0</td>\n",
       "      <td>7.0</td>\n",
       "      <td>27.0</td>\n",
       "      <td>NaN</td>\n",
       "      <td>95.0</td>\n",
       "      <td>0.0</td>\n",
       "      <td>1.0</td>\n",
       "      <td>0.0</td>\n",
       "      <td>0.0</td>\n",
       "      <td>0.0</td>\n",
       "      <td>0.0</td>\n",
       "      <td>58.0</td>\n",
       "      <td>NaN</td>\n",
       "      <td>21.0</td>\n",
       "      <td>2.0</td>\n",
       "    </tr>\n",
       "    <tr>\n",
       "      <th>219</th>\n",
       "      <td>10</td>\n",
       "      <td>22.0</td>\n",
       "      <td>5.0</td>\n",
       "      <td>6</td>\n",
       "      <td>3</td>\n",
       "      <td>361.0</td>\n",
       "      <td>52.0</td>\n",
       "      <td>3.0</td>\n",
       "      <td>28.0</td>\n",
       "      <td>NaN</td>\n",
       "      <td>92.0</td>\n",
       "      <td>0.0</td>\n",
       "      <td>1.0</td>\n",
       "      <td>1.0</td>\n",
       "      <td>1.0</td>\n",
       "      <td>0.0</td>\n",
       "      <td>4.0</td>\n",
       "      <td>80.0</td>\n",
       "      <td>172.0</td>\n",
       "      <td>27.0</td>\n",
       "      <td>NaN</td>\n",
       "    </tr>\n",
       "  </tbody>\n",
       "</table>\n",
       "</div>"
      ],
      "text/plain": [
       "     ID  Reason.for.absence  Month.of.absence  Day.of.the.week  Seasons  \\\n",
       "55   36                26.0               9.0                3        4   \n",
       "77   11                26.0              10.0                4        4   \n",
       "84   15                23.0              11.0                5        4   \n",
       "93   20                28.0              11.0                6        4   \n",
       "104  34                19.0              12.0                3        4   \n",
       "105  10                22.0              12.0                4        4   \n",
       "113  28                23.0               1.0                4        2   \n",
       "114  34                19.0               1.0                2        2   \n",
       "132  27                23.0               1.0                5        2   \n",
       "219  10                22.0               5.0                6        3   \n",
       "\n",
       "     Transportation.expense  Distance.from.Residence.to.Work  Service.time  \\\n",
       "55                    118.0                             13.0          18.0   \n",
       "77                    289.0                             36.0          13.0   \n",
       "84                    291.0                             31.0          12.0   \n",
       "93                    260.0                             50.0          11.0   \n",
       "104                   118.0                             10.0          10.0   \n",
       "105                   361.0                             52.0           3.0   \n",
       "113                   225.0                             26.0           9.0   \n",
       "114                   118.0                             10.0          10.0   \n",
       "132                   184.0                             42.0           7.0   \n",
       "219                   361.0                             52.0           3.0   \n",
       "\n",
       "      Age  Work.load.Average.day  Hit.target  Disciplinary.failure  Education  \\\n",
       "55   50.0                    NaN        92.0                   1.0        1.0   \n",
       "77   33.0                    NaN        93.0                   0.0        NaN   \n",
       "84   40.0                    NaN        93.0                   0.0        1.0   \n",
       "93   36.0                    NaN        93.0                   0.0        1.0   \n",
       "104  37.0                    NaN        97.0                   0.0        1.0   \n",
       "105  28.0                    NaN        97.0                   0.0        1.0   \n",
       "113  28.0                    NaN        95.0                   0.0        1.0   \n",
       "114  37.0                    NaN        95.0                   0.0        1.0   \n",
       "132  27.0                    NaN        95.0                   0.0        1.0   \n",
       "219  28.0                    NaN        92.0                   0.0        1.0   \n",
       "\n",
       "     Son  Social.drinker  Social.smoker  Pet  Weight  Height  Body.mass.index  \\\n",
       "55   1.0             1.0            0.0  0.0    98.0   178.0             31.0   \n",
       "77   2.0             1.0            0.0  1.0    90.0   172.0              NaN   \n",
       "84   1.0             1.0            0.0  1.0    73.0   171.0             25.0   \n",
       "93   4.0             1.0            0.0  0.0    65.0   168.0             23.0   \n",
       "104  0.0             0.0            0.0  0.0    83.0   172.0             28.0   \n",
       "105  1.0             1.0            0.0  4.0    80.0   172.0             27.0   \n",
       "113  1.0             0.0            0.0  2.0    69.0     NaN             24.0   \n",
       "114  0.0             0.0            NaN  0.0    83.0     NaN             28.0   \n",
       "132  0.0             0.0            0.0  0.0    58.0     NaN             21.0   \n",
       "219  1.0             1.0            0.0  4.0    80.0   172.0             27.0   \n",
       "\n",
       "     Absenteeism.time.in.hours  \n",
       "55                         NaN  \n",
       "77                         8.0  \n",
       "84                         5.0  \n",
       "93                         4.0  \n",
       "104                       56.0  \n",
       "105                        8.0  \n",
       "113                        1.0  \n",
       "114                        1.0  \n",
       "132                        2.0  \n",
       "219                        NaN  "
      ]
     },
     "execution_count": 18,
     "metadata": {},
     "output_type": "execute_result"
    }
   ],
   "source": [
    "absenteism_data.loc[absenteism_data['Work.load.Average.day'].isnull()]"
   ]
  },
  {
   "cell_type": "code",
   "execution_count": 19,
   "metadata": {},
   "outputs": [],
   "source": [
    "#We assume i to take values of months and hit target values and impute respect Work load Average/Day values.\n",
    "for i in [(9,92),(10,93),(11,93),(12,97),(1,95),(5,92)]:\n",
    "    absenteism_data.loc[((absenteism_data['Work.load.Average.day'].isnull()) & (absenteism_data['Month.of.absence']==i[0])) & (absenteism_data['Hit.target']==i[1]),\\\n",
    "    'Work.load.Average.day'] = absenteism_data.loc[(absenteism_data['Month.of.absence']==i[0]) & (absenteism_data['Hit.target']==i[1]),\\\n",
    "    'Work.load.Average.day'].mode()[0]"
   ]
  },
  {
   "cell_type": "markdown",
   "metadata": {},
   "source": [
    "'Hit.target' values are dependent upon 'Month.of.absence' and 'Work load Average/day' values. We assume i as values of 'Month.of.absence' & 'Work load Average/day' for which Hit.target is vaues are missing. We observe that : \n",
    "'Month.of.absence' = 11 & 'Work load Average/day' = 306345 the Hit target = 93.0\n",
    "'Month.of.absence' = 12 & 'Work load Average/day' = 308593 the Hit target = 97.0\n",
    "'Month.of.absence' = 1 & 'Work load Average/day' = 261306 the Hit target = 95.0"
   ]
  },
  {
   "cell_type": "code",
   "execution_count": 20,
   "metadata": {},
   "outputs": [],
   "source": [
    "for i in [(11.0,306345.0),(12.0,261306.0),(1.0,308593.0)]:\n",
    "    absenteism_data.loc[(absenteism_data['Hit.target'].isnull()) & ((absenteism_data['Month.of.absence']==i[0]) & (absenteism_data['Work.load.Average.day']==i[1])),\\\n",
    "    'Hit.target'] = absenteism_data.loc[(absenteism_data['Month.of.absence']==i[0]) & (absenteism_data['Work.load.Average.day']==i[1]),\\\n",
    "    'Hit.target'].mode()[0]\n",
    " "
   ]
  },
  {
   "cell_type": "markdown",
   "metadata": {},
   "source": [
    "'Disciplinary.failure' missing values have been put to 0"
   ]
  },
  {
   "cell_type": "code",
   "execution_count": 21,
   "metadata": {},
   "outputs": [],
   "source": [
    "absenteism_data.loc[absenteism_data['Disciplinary.failure'].isnull(),'Disciplinary.failure'] = 0"
   ]
  },
  {
   "cell_type": "markdown",
   "metadata": {},
   "source": [
    "Using 'ID' column to impute missing values for 'Education'."
   ]
  },
  {
   "cell_type": "code",
   "execution_count": 22,
   "metadata": {},
   "outputs": [],
   "source": [
    "for i in [11,10,34,14,24]:\n",
    "    absenteism_data.loc[(absenteism_data['Education'].isnull()) & (absenteism_data['ID']==i),'Education'] = absenteism_data.loc[absenteism_data['ID']==i,'Education'].mode()[0]"
   ]
  },
  {
   "cell_type": "markdown",
   "metadata": {},
   "source": [
    "Using 'ID' column to impute missing values for 'Son'."
   ]
  },
  {
   "cell_type": "code",
   "execution_count": 23,
   "metadata": {},
   "outputs": [],
   "source": [
    "for i in [20,14,34,27,1]:\n",
    "    absenteism_data.loc[(absenteism_data['Son'].isnull()) & (absenteism_data['ID']==i),'Son'] = absenteism_data.loc[absenteism_data['ID']==i,'Son'].mode()[0]"
   ]
  },
  {
   "cell_type": "markdown",
   "metadata": {},
   "source": [
    "Using 'ID' column to impute missing values for 'Social.drinker'."
   ]
  },
  {
   "cell_type": "code",
   "execution_count": 24,
   "metadata": {},
   "outputs": [],
   "source": [
    "for i in [10,14,17]:\n",
    "    absenteism_data.loc[(absenteism_data['Social.drinker'].isnull()) & (absenteism_data['ID']==i),'Social.drinker'] = absenteism_data.loc[absenteism_data['ID']==i,'Social.drinker'].mode()[0]"
   ]
  },
  {
   "cell_type": "markdown",
   "metadata": {},
   "source": [
    "Using 'ID' column to impute missing values for 'Social.smoker'."
   ]
  },
  {
   "cell_type": "code",
   "execution_count": 25,
   "metadata": {},
   "outputs": [],
   "source": [
    "for i in [34,1,11,15]:\n",
    "    absenteism_data.loc[(absenteism_data['Social.smoker'].isnull()) & (absenteism_data['ID']==i),'Social.smoker'] = absenteism_data.loc[absenteism_data['ID']==i,'Social.smoker'].mode()[0]"
   ]
  },
  {
   "cell_type": "markdown",
   "metadata": {},
   "source": [
    "Using 'ID' to impute missing values for 'Pet','Weight','Height','Body.mass.index'"
   ]
  },
  {
   "cell_type": "code",
   "execution_count": 26,
   "metadata": {},
   "outputs": [],
   "source": [
    "for i in [1,13]:\n",
    "    absenteism_data.loc[(absenteism_data['Pet'].isnull()) & (absenteism_data['ID']==i),'Pet'] = absenteism_data.loc[absenteism_data['ID']==i,'Pet'].mode()[0]"
   ]
  },
  {
   "cell_type": "code",
   "execution_count": 27,
   "metadata": {},
   "outputs": [],
   "source": [
    "for i in [27]:\n",
    "    absenteism_data.loc[(absenteism_data['Weight'].isnull()) & (absenteism_data['ID']==i),'Weight'] = absenteism_data.loc[absenteism_data['ID']==i,'Weight'].mode()[0]"
   ]
  },
  {
   "cell_type": "code",
   "execution_count": 28,
   "metadata": {},
   "outputs": [],
   "source": [
    "for i in [20,10,28,34,27,11,5,22,13,24,32]:\n",
    "    absenteism_data.loc[(absenteism_data['Height'].isnull()) & (absenteism_data['ID']==i),'Height'] = absenteism_data.loc[absenteism_data['ID']==i,'Height'].mode()[0]"
   ]
  },
  {
   "cell_type": "code",
   "execution_count": 29,
   "metadata": {},
   "outputs": [],
   "source": [
    "for i in [3,24,11,30,2,19,34,28,13,36,14,20,18,17,15,22,5]:\n",
    "    absenteism_data.loc[(absenteism_data['Body.mass.index'].isnull()) & (absenteism_data['ID']==i),'Body.mass.index'] = absenteism_data.loc[absenteism_data['ID']==i,'Body.mass.index'].mode()[0]"
   ]
  },
  {
   "cell_type": "markdown",
   "metadata": {},
   "source": [
    "Using 'Reason.for.absence' for imputing missing values in 'Absenteeism.time.in.hours'"
   ]
  },
  {
   "cell_type": "code",
   "execution_count": 30,
   "metadata": {},
   "outputs": [],
   "source": [
    "for i in [23,14,10,22,26,6,28,11,13]:\n",
    "    absenteism_data.loc[(absenteism_data['Absenteeism.time.in.hours'].isnull()) & (absenteism_data['Reason.for.absence']==i),'Absenteeism.time.in.hours'] = absenteism_data.loc[absenteism_data['Reason.for.absence']==i,'Absenteeism.time.in.hours'].median()"
   ]
  },
  {
   "cell_type": "markdown",
   "metadata": {},
   "source": [
    "Using 'ID' to impute missing values in 'Son'"
   ]
  },
  {
   "cell_type": "code",
   "execution_count": 31,
   "metadata": {},
   "outputs": [
    {
     "data": {
      "text/html": [
       "<div>\n",
       "<style scoped>\n",
       "    .dataframe tbody tr th:only-of-type {\n",
       "        vertical-align: middle;\n",
       "    }\n",
       "\n",
       "    .dataframe tbody tr th {\n",
       "        vertical-align: top;\n",
       "    }\n",
       "\n",
       "    .dataframe thead th {\n",
       "        text-align: right;\n",
       "    }\n",
       "</style>\n",
       "<table border=\"1\" class=\"dataframe\">\n",
       "  <thead>\n",
       "    <tr style=\"text-align: right;\">\n",
       "      <th></th>\n",
       "      <th>ID</th>\n",
       "      <th>Reason.for.absence</th>\n",
       "      <th>Month.of.absence</th>\n",
       "      <th>Day.of.the.week</th>\n",
       "      <th>Seasons</th>\n",
       "      <th>Transportation.expense</th>\n",
       "      <th>Distance.from.Residence.to.Work</th>\n",
       "      <th>Service.time</th>\n",
       "      <th>Age</th>\n",
       "      <th>Work.load.Average.day</th>\n",
       "      <th>Hit.target</th>\n",
       "      <th>Disciplinary.failure</th>\n",
       "      <th>Education</th>\n",
       "      <th>Son</th>\n",
       "      <th>Social.drinker</th>\n",
       "      <th>Social.smoker</th>\n",
       "      <th>Pet</th>\n",
       "      <th>Weight</th>\n",
       "      <th>Height</th>\n",
       "      <th>Body.mass.index</th>\n",
       "      <th>Absenteeism.time.in.hours</th>\n",
       "    </tr>\n",
       "  </thead>\n",
       "  <tbody>\n",
       "  </tbody>\n",
       "</table>\n",
       "</div>"
      ],
      "text/plain": [
       "Empty DataFrame\n",
       "Columns: [ID, Reason.for.absence, Month.of.absence, Day.of.the.week, Seasons, Transportation.expense, Distance.from.Residence.to.Work, Service.time, Age, Work.load.Average.day, Hit.target, Disciplinary.failure, Education, Son, Social.drinker, Social.smoker, Pet, Weight, Height, Body.mass.index, Absenteeism.time.in.hours]\n",
       "Index: []"
      ]
     },
     "execution_count": 31,
     "metadata": {},
     "output_type": "execute_result"
    }
   ],
   "source": [
    "absenteism_data.loc[absenteism_data['Son'].isnull()]"
   ]
  },
  {
   "cell_type": "code",
   "execution_count": 32,
   "metadata": {},
   "outputs": [],
   "source": [
    "for i in [20,14,34,34,27,1]:\n",
    "    absenteism_data.loc[(absenteism_data['Son'].isnull()) & (absenteism_data['ID']==i),'Son'] = absenteism_data.loc[absenteism_data['ID']==i,'Son'].mode()[0]"
   ]
  },
  {
   "cell_type": "code",
   "execution_count": 44,
   "metadata": {},
   "outputs": [
    {
     "data": {
      "text/html": [
       "<div>\n",
       "<style scoped>\n",
       "    .dataframe tbody tr th:only-of-type {\n",
       "        vertical-align: middle;\n",
       "    }\n",
       "\n",
       "    .dataframe tbody tr th {\n",
       "        vertical-align: top;\n",
       "    }\n",
       "\n",
       "    .dataframe thead th {\n",
       "        text-align: right;\n",
       "    }\n",
       "</style>\n",
       "<table border=\"1\" class=\"dataframe\">\n",
       "  <thead>\n",
       "    <tr style=\"text-align: right;\">\n",
       "      <th></th>\n",
       "      <th>Missing_percentage</th>\n",
       "    </tr>\n",
       "  </thead>\n",
       "  <tbody>\n",
       "    <tr>\n",
       "      <th>ID</th>\n",
       "      <td>0.0</td>\n",
       "    </tr>\n",
       "    <tr>\n",
       "      <th>Disciplinary.failure</th>\n",
       "      <td>0.0</td>\n",
       "    </tr>\n",
       "    <tr>\n",
       "      <th>Body.mass.index</th>\n",
       "      <td>0.0</td>\n",
       "    </tr>\n",
       "    <tr>\n",
       "      <th>Height</th>\n",
       "      <td>0.0</td>\n",
       "    </tr>\n",
       "    <tr>\n",
       "      <th>Weight</th>\n",
       "      <td>0.0</td>\n",
       "    </tr>\n",
       "    <tr>\n",
       "      <th>Pet</th>\n",
       "      <td>0.0</td>\n",
       "    </tr>\n",
       "    <tr>\n",
       "      <th>Social.smoker</th>\n",
       "      <td>0.0</td>\n",
       "    </tr>\n",
       "    <tr>\n",
       "      <th>Social.drinker</th>\n",
       "      <td>0.0</td>\n",
       "    </tr>\n",
       "    <tr>\n",
       "      <th>Son</th>\n",
       "      <td>0.0</td>\n",
       "    </tr>\n",
       "    <tr>\n",
       "      <th>Education</th>\n",
       "      <td>0.0</td>\n",
       "    </tr>\n",
       "    <tr>\n",
       "      <th>Hit.target</th>\n",
       "      <td>0.0</td>\n",
       "    </tr>\n",
       "    <tr>\n",
       "      <th>Reason.for.absence</th>\n",
       "      <td>0.0</td>\n",
       "    </tr>\n",
       "    <tr>\n",
       "      <th>Work.load.Average.day</th>\n",
       "      <td>0.0</td>\n",
       "    </tr>\n",
       "    <tr>\n",
       "      <th>Age</th>\n",
       "      <td>0.0</td>\n",
       "    </tr>\n",
       "    <tr>\n",
       "      <th>Service.time</th>\n",
       "      <td>0.0</td>\n",
       "    </tr>\n",
       "    <tr>\n",
       "      <th>Distance.from.Residence.to.Work</th>\n",
       "      <td>0.0</td>\n",
       "    </tr>\n",
       "    <tr>\n",
       "      <th>Transportation.expense</th>\n",
       "      <td>0.0</td>\n",
       "    </tr>\n",
       "    <tr>\n",
       "      <th>Seasons</th>\n",
       "      <td>0.0</td>\n",
       "    </tr>\n",
       "    <tr>\n",
       "      <th>Day.of.the.week</th>\n",
       "      <td>0.0</td>\n",
       "    </tr>\n",
       "    <tr>\n",
       "      <th>Month.of.absence</th>\n",
       "      <td>0.0</td>\n",
       "    </tr>\n",
       "    <tr>\n",
       "      <th>Absenteeism.time.in.hours</th>\n",
       "      <td>0.0</td>\n",
       "    </tr>\n",
       "  </tbody>\n",
       "</table>\n",
       "</div>"
      ],
      "text/plain": [
       "                                 Missing_percentage\n",
       "ID                                              0.0\n",
       "Disciplinary.failure                            0.0\n",
       "Body.mass.index                                 0.0\n",
       "Height                                          0.0\n",
       "Weight                                          0.0\n",
       "Pet                                             0.0\n",
       "Social.smoker                                   0.0\n",
       "Social.drinker                                  0.0\n",
       "Son                                             0.0\n",
       "Education                                       0.0\n",
       "Hit.target                                      0.0\n",
       "Reason.for.absence                              0.0\n",
       "Work.load.Average.day                           0.0\n",
       "Age                                             0.0\n",
       "Service.time                                    0.0\n",
       "Distance.from.Residence.to.Work                 0.0\n",
       "Transportation.expense                          0.0\n",
       "Seasons                                         0.0\n",
       "Day.of.the.week                                 0.0\n",
       "Month.of.absence                                0.0\n",
       "Absenteeism.time.in.hours                       0.0"
      ]
     },
     "execution_count": 44,
     "metadata": {},
     "output_type": "execute_result"
    }
   ],
   "source": [
    "absenteism_data.isna().sum()\n",
    "Missing_Value = pd.DataFrame((absenteism_data.isna().sum()/len(absenteism_data)*100))\n",
    "\n",
    "Missing_Value.reset_index()\n",
    "Missing_Value = Missing_Value.rename(columns = {'index': 'Variables', 0: 'Missing_percentage'})\n",
    "#Arranging Missing Values in Decreasing Order\n",
    "Missing_Value = Missing_Value.sort_values('Missing_percentage', ascending = False)\n",
    "Missing_Value"
   ]
  },
  {
   "cell_type": "markdown",
   "metadata": {},
   "source": [
    "#### All missing values have been imputed."
   ]
  },
  {
   "cell_type": "markdown",
   "metadata": {},
   "source": [
    "Converting 'Work load Average/day' variable from object to int type."
   ]
  },
  {
   "cell_type": "code",
   "execution_count": 35,
   "metadata": {},
   "outputs": [
    {
     "name": "stderr",
     "output_type": "stream",
     "text": [
      "C:\\Users\\Hasan\\Anaconda2\\lib\\site-packages\\ipykernel_launcher.py:1: SettingWithCopyWarning: \n",
      "A value is trying to be set on a copy of a slice from a DataFrame.\n",
      "Try using .loc[row_indexer,col_indexer] = value instead\n",
      "\n",
      "See the caveats in the documentation: http://pandas.pydata.org/pandas-docs/stable/indexing.html#indexing-view-versus-copy\n",
      "  \"\"\"Entry point for launching an IPython kernel.\n"
     ]
    }
   ],
   "source": [
    "absenteism_data['Work.load.Average.day'] = absenteism_data['Work.load.Average.day'].astype('int64')"
   ]
  },
  {
   "cell_type": "markdown",
   "metadata": {},
   "source": [
    "# Continuous Variables Distributions"
   ]
  },
  {
   "cell_type": "code",
   "execution_count": 86,
   "metadata": {},
   "outputs": [
    {
     "name": "stderr",
     "output_type": "stream",
     "text": [
      "C:\\Users\\Hasan\\Anaconda2\\lib\\site-packages\\matplotlib\\axes\\_axes.py:6462: UserWarning: The 'normed' kwarg is deprecated, and has been replaced by the 'density' kwarg.\n",
      "  warnings.warn(\"The 'normed' kwarg is deprecated, and has been \"\n"
     ]
    },
    {
     "data": {
      "text/plain": [
       "<matplotlib.axes._subplots.AxesSubplot at 0xc3e5a90>"
      ]
     },
     "execution_count": 86,
     "metadata": {},
     "output_type": "execute_result"
    },
    {
     "data": {
      "image/png": "[encoded data removed]",
      "text/plain": [
       "<Figure size 432x288 with 1 Axes>"
      ]
     },
     "metadata": {},
     "output_type": "display_data"
    }
   ],
   "source": [
    "sns.distplot(absenteism_data['Transportation.expense'])"
   ]
  },
  {
   "cell_type": "code",
   "execution_count": 87,
   "metadata": {},
   "outputs": [
    {
     "name": "stderr",
     "output_type": "stream",
     "text": [
      "C:\\Users\\Hasan\\Anaconda2\\lib\\site-packages\\matplotlib\\axes\\_axes.py:6462: UserWarning: The 'normed' kwarg is deprecated, and has been replaced by the 'density' kwarg.\n",
      "  warnings.warn(\"The 'normed' kwarg is deprecated, and has been \"\n"
     ]
    },
    {
     "data": {
      "text/plain": [
       "<matplotlib.axes._subplots.AxesSubplot at 0xc7b9da0>"
      ]
     },
     "execution_count": 87,
     "metadata": {},
     "output_type": "execute_result"
    },
    {
     "data": {
      "image/png": "[encoded data removed]",
      "text/plain": [
       "<Figure size 432x288 with 1 Axes>"
      ]
     },
     "metadata": {},
     "output_type": "display_data"
    }
   ],
   "source": [
    "sns.distplot(absenteism_data['Distance.from.Residence.to.Work'])"
   ]
  },
  {
   "cell_type": "code",
   "execution_count": 88,
   "metadata": {},
   "outputs": [
    {
     "name": "stderr",
     "output_type": "stream",
     "text": [
      "C:\\Users\\Hasan\\Anaconda2\\lib\\site-packages\\matplotlib\\axes\\_axes.py:6462: UserWarning: The 'normed' kwarg is deprecated, and has been replaced by the 'density' kwarg.\n",
      "  warnings.warn(\"The 'normed' kwarg is deprecated, and has been \"\n"
     ]
    },
    {
     "data": {
      "text/plain": [
       "<matplotlib.axes._subplots.AxesSubplot at 0xc93a630>"
      ]
     },
     "execution_count": 88,
     "metadata": {},
     "output_type": "execute_result"
    },
    {
     "data": {
      "image/png": "[encoded data removed]",
      "text/plain": [
       "<Figure size 432x288 with 1 Axes>"
      ]
     },
     "metadata": {},
     "output_type": "display_data"
    }
   ],
   "source": [
    "sns.distplot(absenteism_data['Service.time'])"
   ]
  },
  {
   "cell_type": "code",
   "execution_count": 89,
   "metadata": {},
   "outputs": [
    {
     "name": "stderr",
     "output_type": "stream",
     "text": [
      "C:\\Users\\Hasan\\Anaconda2\\lib\\site-packages\\matplotlib\\axes\\_axes.py:6462: UserWarning: The 'normed' kwarg is deprecated, and has been replaced by the 'density' kwarg.\n",
      "  warnings.warn(\"The 'normed' kwarg is deprecated, and has been \"\n"
     ]
    },
    {
     "data": {
      "text/plain": [
       "<matplotlib.axes._subplots.AxesSubplot at 0xdabcf98>"
      ]
     },
     "execution_count": 89,
     "metadata": {},
     "output_type": "execute_result"
    },
    {
     "data": {
      "image/png": "[encoded data removed]",
      "text/plain": [
       "<Figure size 432x288 with 1 Axes>"
      ]
     },
     "metadata": {},
     "output_type": "display_data"
    }
   ],
   "source": [
    "sns.distplot(absenteism_data['Age'])"
   ]
  },
  {
   "cell_type": "code",
   "execution_count": 90,
   "metadata": {},
   "outputs": [
    {
     "name": "stderr",
     "output_type": "stream",
     "text": [
      "C:\\Users\\Hasan\\Anaconda2\\lib\\site-packages\\matplotlib\\axes\\_axes.py:6462: UserWarning: The 'normed' kwarg is deprecated, and has been replaced by the 'density' kwarg.\n",
      "  warnings.warn(\"The 'normed' kwarg is deprecated, and has been \"\n"
     ]
    },
    {
     "data": {
      "text/plain": [
       "<matplotlib.axes._subplots.AxesSubplot at 0xda3fac8>"
      ]
     },
     "execution_count": 90,
     "metadata": {},
     "output_type": "execute_result"
    },
    {
     "data": {
      "image/png": "[encoded data removed]",
      "text/plain": [
       "<Figure size 432x288 with 1 Axes>"
      ]
     },
     "metadata": {},
     "output_type": "display_data"
    }
   ],
   "source": [
    "sns.distplot(absenteism_data['Work.load.Average.day'])"
   ]
  },
  {
   "cell_type": "code",
   "execution_count": 91,
   "metadata": {},
   "outputs": [
    {
     "name": "stderr",
     "output_type": "stream",
     "text": [
      "C:\\Users\\Hasan\\Anaconda2\\lib\\site-packages\\matplotlib\\axes\\_axes.py:6462: UserWarning: The 'normed' kwarg is deprecated, and has been replaced by the 'density' kwarg.\n",
      "  warnings.warn(\"The 'normed' kwarg is deprecated, and has been \"\n"
     ]
    },
    {
     "data": {
      "text/plain": [
       "<matplotlib.axes._subplots.AxesSubplot at 0xdeb2898>"
      ]
     },
     "execution_count": 91,
     "metadata": {},
     "output_type": "execute_result"
    },
    {
     "data": {
      "image/png": "[encoded data removed]",
      "text/plain": [
       "<Figure size 432x288 with 1 Axes>"
      ]
     },
     "metadata": {},
     "output_type": "display_data"
    }
   ],
   "source": [
    "sns.distplot(absenteism_data['Hit.target'])"
   ]
  },
  {
   "cell_type": "code",
   "execution_count": 92,
   "metadata": {},
   "outputs": [
    {
     "name": "stderr",
     "output_type": "stream",
     "text": [
      "C:\\Users\\Hasan\\Anaconda2\\lib\\site-packages\\matplotlib\\axes\\_axes.py:6462: UserWarning: The 'normed' kwarg is deprecated, and has been replaced by the 'density' kwarg.\n",
      "  warnings.warn(\"The 'normed' kwarg is deprecated, and has been \"\n"
     ]
    },
    {
     "data": {
      "text/plain": [
       "<matplotlib.axes._subplots.AxesSubplot at 0xe140b70>"
      ]
     },
     "execution_count": 92,
     "metadata": {},
     "output_type": "execute_result"
    },
    {
     "data": {
      "image/png": "[encoded data removed]",
      "text/plain": [
       "<Figure size 432x288 with 1 Axes>"
      ]
     },
     "metadata": {},
     "output_type": "display_data"
    }
   ],
   "source": [
    "sns.distplot(absenteism_data['Weight'])"
   ]
  },
  {
   "cell_type": "code",
   "execution_count": 93,
   "metadata": {},
   "outputs": [
    {
     "name": "stderr",
     "output_type": "stream",
     "text": [
      "C:\\Users\\Hasan\\Anaconda2\\lib\\site-packages\\matplotlib\\axes\\_axes.py:6462: UserWarning: The 'normed' kwarg is deprecated, and has been replaced by the 'density' kwarg.\n",
      "  warnings.warn(\"The 'normed' kwarg is deprecated, and has been \"\n"
     ]
    },
    {
     "data": {
      "text/plain": [
       "<matplotlib.axes._subplots.AxesSubplot at 0xe0caa90>"
      ]
     },
     "execution_count": 93,
     "metadata": {},
     "output_type": "execute_result"
    },
    {
     "data": {
      "image/png": "[encoded data removed]",
      "text/plain": [
       "<Figure size 432x288 with 1 Axes>"
      ]
     },
     "metadata": {},
     "output_type": "display_data"
    }
   ],
   "source": [
    "sns.distplot(absenteism_data['Height'])"
   ]
  },
  {
   "cell_type": "code",
   "execution_count": 94,
   "metadata": {},
   "outputs": [
    {
     "name": "stderr",
     "output_type": "stream",
     "text": [
      "C:\\Users\\Hasan\\Anaconda2\\lib\\site-packages\\matplotlib\\axes\\_axes.py:6462: UserWarning: The 'normed' kwarg is deprecated, and has been replaced by the 'density' kwarg.\n",
      "  warnings.warn(\"The 'normed' kwarg is deprecated, and has been \"\n"
     ]
    },
    {
     "data": {
      "text/plain": [
       "<matplotlib.axes._subplots.AxesSubplot at 0xe51cb70>"
      ]
     },
     "execution_count": 94,
     "metadata": {},
     "output_type": "execute_result"
    },
    {
     "data": {
      "image/png": "[encoded data removed]",
      "text/plain": [
       "<Figure size 432x288 with 1 Axes>"
      ]
     },
     "metadata": {},
     "output_type": "display_data"
    }
   ],
   "source": [
    "sns.distplot(absenteism_data['Body.mass.index'])"
   ]
  },
  {
   "cell_type": "markdown",
   "metadata": {},
   "source": [
    "#### All continuous variables have skewed distributions"
   ]
  },
  {
   "cell_type": "markdown",
   "metadata": {},
   "source": [
    "# Outlier Analysis for continuous variables"
   ]
  },
  {
   "cell_type": "code",
   "execution_count": 42,
   "metadata": {},
   "outputs": [],
   "source": [
    "#continous variables\n",
    "cnames = ['Weight','Distance.from.Residence.to.Work','Service.time','Transportation.expense','Work.load.Average.day','Absenteeism.time.in.hours','Height','Body.mass.index','Age','Hit.target']\n",
    "\n",
    "#categorical variables\n",
    "catnames = ['Day.of.the.week','Seasons','Month.of.absence','Social.drinker','Reason.for.absence','Social.smoker','Pet','Son',\n",
    "'Disciplinary.failure','Education']"
   ]
  },
  {
   "cell_type": "code",
   "execution_count": 38,
   "metadata": {},
   "outputs": [
    {
     "data": {
      "image/png": "[encoded data removed]",
      "text/plain": [
       "<Figure size 432x288 with 1 Axes>"
      ]
     },
     "metadata": {},
     "output_type": "display_data"
    },
    {
     "data": {
      "image/png": "[encoded data removed]",
      "text/plain": [
       "<Figure size 432x288 with 1 Axes>"
      ]
     },
     "metadata": {},
     "output_type": "display_data"
    },
    {
     "data": {
      "image/png": "[encoded data removed]",
      "text/plain": [
       "<Figure size 432x288 with 1 Axes>"
      ]
     },
     "metadata": {},
     "output_type": "display_data"
    },
    {
     "data": {
      "image/png": "[encoded data removed]",
      "text/plain": [
       "<Figure size 432x288 with 1 Axes>"
      ]
     },
     "metadata": {},
     "output_type": "display_data"
    },
    {
     "data": {
      "image/png": "[encoded data removed]",
      "text/plain": [
       "<Figure size 432x288 with 1 Axes>"
      ]
     },
     "metadata": {},
     "output_type": "display_data"
    },
    {
     "data": {
      "image/png": "[encoded data removed]",
      "text/plain": [
       "<Figure size 432x288 with 1 Axes>"
      ]
     },
     "metadata": {},
     "output_type": "display_data"
    },
    {
     "data": {
      "image/png": "[encoded data removed]",
      "text/plain": [
       "<Figure size 432x288 with 1 Axes>"
      ]
     },
     "metadata": {},
     "output_type": "display_data"
    },
    {
     "data": {
      "image/png": "[encoded data removed]",
      "text/plain": [
       "<Figure size 432x288 with 1 Axes>"
      ]
     },
     "metadata": {},
     "output_type": "display_data"
    },
    {
     "data": {
      "image/png": "[encoded data removed]",
      "text/plain": [
       "<Figure size 432x288 with 1 Axes>"
      ]
     },
     "metadata": {},
     "output_type": "display_data"
    },
    {
     "data": {
      "image/png": "[encoded data removed]",
      "text/plain": [
       "<Figure size 432x288 with 1 Axes>"
      ]
     },
     "metadata": {},
     "output_type": "display_data"
    },
    {
     "data": {
      "image/png": "[encoded data removed]",
      "text/plain": [
       "<Figure size 432x288 with 1 Axes>"
      ]
     },
     "metadata": {},
     "output_type": "display_data"
    },
    {
     "data": {
      "image/png": "[encoded data removed]",
      "text/plain": [
       "<Figure size 432x288 with 1 Axes>"
      ]
     },
     "metadata": {},
     "output_type": "display_data"
    }
   ],
   "source": [
    "#Plot boxplot to visualize Outliers\n",
    "for i in cnames:\n",
    "    plt.figure()\n",
    "    plt.clf() #clearing the figure\n",
    "    sns.boxplot(absenteism_data[i],palette=\"deep\")\n",
    "    plt.title(i)\n",
    "    plt.show()"
   ]
  },
  {
   "cell_type": "markdown",
   "metadata": {},
   "source": [
    "Capping Outliers"
   ]
  },
  {
   "cell_type": "code",
   "execution_count": 39,
   "metadata": {},
   "outputs": [
    {
     "name": "stdout",
     "output_type": "stream",
     "text": [
      "Weight\n",
      "39.0\n",
      "119.0\n",
      "Weight -----> 0 Outliers\n",
      "Distance.from.Residence.to.Work\n",
      "-35.0\n",
      "101.0\n",
      "Distance.from.Residence.to.Work -----> 0 Outliers\n",
      "Service.time\n",
      "-1.5\n",
      "26.5\n",
      "Service.time -----> 5 Outliers\n",
      "Transportation.expense\n",
      "57.5\n",
      "381.5\n",
      "Transportation.expense -----> 2 Outliers\n",
      "Work.load.Average.day\n",
      "181868.625\n",
      "346643.625\n",
      "Work.load.Average.day -----> 29 Outliers\n",
      "Absenteeism.time.in.hours\n",
      "-7.0\n",
      "17.0\n",
      "Absenteeism.time.in.hours -----> 43 Outliers\n",
      "Height\n",
      "164.5\n",
      "176.5\n",
      "Height -----> 109 Outliers\n",
      "Body.mass.index\n",
      "13.5\n",
      "41.5\n",
      "Body.mass.index -----> 0 Outliers\n",
      "Pet\n",
      "-1.5\n",
      "2.5\n",
      "Pet -----> 41 Outliers\n",
      "Son\n",
      "-3.0\n",
      "5.0\n",
      "Son -----> 0 Outliers\n",
      "Age\n",
      "17.5\n",
      "53.5\n",
      "Age -----> 8 Outliers\n",
      "Hit.target\n",
      "87.0\n",
      "103.0\n",
      "Hit.target -----> 15 Outliers\n"
     ]
    }
   ],
   "source": [
    "for i in cnames:\n",
    "    print(i)\n",
    "    q75, q25 = np.percentile(absenteism_data.loc[:,i], [75,25])\n",
    "    iqr = q75 - q25\n",
    "    minn = q25 - (iqr*1.5)\n",
    "    maxx = q75 + (iqr*1.5)\n",
    "    print(minn)\n",
    "    print(maxx)\n",
    "    \n",
    "    print('{var} -----> {X} Outliers'.format(var = i, X = (absenteism_data.loc[absenteism_data.loc[:,i] < minn,i].count() + \n",
    "                                                           absenteism_data.loc[absenteism_data.loc[:,i] > maxx,i].count())))  \n",
    "    absenteism_data.loc[absenteism_data[i] < minn,i] = minn\n",
    "    absenteism_data.loc[absenteism_data[i] > maxx,i] = maxx\n",
    "    "
   ]
  },
  {
   "cell_type": "code",
   "execution_count": 40,
   "metadata": {},
   "outputs": [
    {
     "data": {
      "text/html": [
       "<div>\n",
       "<style scoped>\n",
       "    .dataframe tbody tr th:only-of-type {\n",
       "        vertical-align: middle;\n",
       "    }\n",
       "\n",
       "    .dataframe tbody tr th {\n",
       "        vertical-align: top;\n",
       "    }\n",
       "\n",
       "    .dataframe thead th {\n",
       "        text-align: right;\n",
       "    }\n",
       "</style>\n",
       "<table border=\"1\" class=\"dataframe\">\n",
       "  <thead>\n",
       "    <tr style=\"text-align: right;\">\n",
       "      <th></th>\n",
       "      <th>ID</th>\n",
       "      <th>Reason.for.absence</th>\n",
       "      <th>Month.of.absence</th>\n",
       "      <th>Day.of.the.week</th>\n",
       "      <th>Seasons</th>\n",
       "      <th>Transportation.expense</th>\n",
       "      <th>Distance.from.Residence.to.Work</th>\n",
       "      <th>Service.time</th>\n",
       "      <th>Age</th>\n",
       "      <th>Work.load.Average.day</th>\n",
       "      <th>Hit.target</th>\n",
       "      <th>Disciplinary.failure</th>\n",
       "      <th>Education</th>\n",
       "      <th>Son</th>\n",
       "      <th>Social.drinker</th>\n",
       "      <th>Social.smoker</th>\n",
       "      <th>Pet</th>\n",
       "      <th>Weight</th>\n",
       "      <th>Height</th>\n",
       "      <th>Body.mass.index</th>\n",
       "      <th>Absenteeism.time.in.hours</th>\n",
       "    </tr>\n",
       "  </thead>\n",
       "  <tbody>\n",
       "    <tr>\n",
       "      <th>0</th>\n",
       "      <td>11</td>\n",
       "      <td>26.0</td>\n",
       "      <td>7.0</td>\n",
       "      <td>3</td>\n",
       "      <td>1</td>\n",
       "      <td>289.0</td>\n",
       "      <td>36.0</td>\n",
       "      <td>13.0</td>\n",
       "      <td>33.0</td>\n",
       "      <td>239554.0</td>\n",
       "      <td>97.0</td>\n",
       "      <td>0.0</td>\n",
       "      <td>1.0</td>\n",
       "      <td>2.0</td>\n",
       "      <td>1.0</td>\n",
       "      <td>0.0</td>\n",
       "      <td>1.0</td>\n",
       "      <td>90.0</td>\n",
       "      <td>172.0</td>\n",
       "      <td>30.0</td>\n",
       "      <td>4.0</td>\n",
       "    </tr>\n",
       "    <tr>\n",
       "      <th>2</th>\n",
       "      <td>3</td>\n",
       "      <td>23.0</td>\n",
       "      <td>7.0</td>\n",
       "      <td>4</td>\n",
       "      <td>1</td>\n",
       "      <td>179.0</td>\n",
       "      <td>51.0</td>\n",
       "      <td>18.0</td>\n",
       "      <td>38.0</td>\n",
       "      <td>239554.0</td>\n",
       "      <td>97.0</td>\n",
       "      <td>0.0</td>\n",
       "      <td>1.0</td>\n",
       "      <td>0.0</td>\n",
       "      <td>1.0</td>\n",
       "      <td>0.0</td>\n",
       "      <td>0.0</td>\n",
       "      <td>89.0</td>\n",
       "      <td>170.0</td>\n",
       "      <td>31.0</td>\n",
       "      <td>2.0</td>\n",
       "    </tr>\n",
       "    <tr>\n",
       "      <th>3</th>\n",
       "      <td>7</td>\n",
       "      <td>7.0</td>\n",
       "      <td>7.0</td>\n",
       "      <td>5</td>\n",
       "      <td>1</td>\n",
       "      <td>279.0</td>\n",
       "      <td>5.0</td>\n",
       "      <td>14.0</td>\n",
       "      <td>39.0</td>\n",
       "      <td>239554.0</td>\n",
       "      <td>97.0</td>\n",
       "      <td>0.0</td>\n",
       "      <td>1.0</td>\n",
       "      <td>2.0</td>\n",
       "      <td>1.0</td>\n",
       "      <td>1.0</td>\n",
       "      <td>0.0</td>\n",
       "      <td>68.0</td>\n",
       "      <td>168.0</td>\n",
       "      <td>24.0</td>\n",
       "      <td>4.0</td>\n",
       "    </tr>\n",
       "    <tr>\n",
       "      <th>4</th>\n",
       "      <td>11</td>\n",
       "      <td>23.0</td>\n",
       "      <td>7.0</td>\n",
       "      <td>5</td>\n",
       "      <td>1</td>\n",
       "      <td>289.0</td>\n",
       "      <td>36.0</td>\n",
       "      <td>13.0</td>\n",
       "      <td>33.0</td>\n",
       "      <td>239554.0</td>\n",
       "      <td>97.0</td>\n",
       "      <td>0.0</td>\n",
       "      <td>1.0</td>\n",
       "      <td>2.0</td>\n",
       "      <td>1.0</td>\n",
       "      <td>0.0</td>\n",
       "      <td>1.0</td>\n",
       "      <td>90.0</td>\n",
       "      <td>172.0</td>\n",
       "      <td>30.0</td>\n",
       "      <td>2.0</td>\n",
       "    </tr>\n",
       "    <tr>\n",
       "      <th>5</th>\n",
       "      <td>3</td>\n",
       "      <td>23.0</td>\n",
       "      <td>7.0</td>\n",
       "      <td>6</td>\n",
       "      <td>1</td>\n",
       "      <td>179.0</td>\n",
       "      <td>51.0</td>\n",
       "      <td>18.0</td>\n",
       "      <td>38.0</td>\n",
       "      <td>239554.0</td>\n",
       "      <td>97.0</td>\n",
       "      <td>0.0</td>\n",
       "      <td>1.0</td>\n",
       "      <td>0.0</td>\n",
       "      <td>1.0</td>\n",
       "      <td>0.0</td>\n",
       "      <td>0.0</td>\n",
       "      <td>89.0</td>\n",
       "      <td>170.0</td>\n",
       "      <td>31.0</td>\n",
       "      <td>2.0</td>\n",
       "    </tr>\n",
       "  </tbody>\n",
       "</table>\n",
       "</div>"
      ],
      "text/plain": [
       "   ID  Reason.for.absence  Month.of.absence  Day.of.the.week  Seasons  \\\n",
       "0  11                26.0               7.0                3        1   \n",
       "2   3                23.0               7.0                4        1   \n",
       "3   7                 7.0               7.0                5        1   \n",
       "4  11                23.0               7.0                5        1   \n",
       "5   3                23.0               7.0                6        1   \n",
       "\n",
       "   Transportation.expense  Distance.from.Residence.to.Work  Service.time  \\\n",
       "0                   289.0                             36.0          13.0   \n",
       "2                   179.0                             51.0          18.0   \n",
       "3                   279.0                              5.0          14.0   \n",
       "4                   289.0                             36.0          13.0   \n",
       "5                   179.0                             51.0          18.0   \n",
       "\n",
       "    Age  Work.load.Average.day  Hit.target  Disciplinary.failure  Education  \\\n",
       "0  33.0               239554.0        97.0                   0.0        1.0   \n",
       "2  38.0               239554.0        97.0                   0.0        1.0   \n",
       "3  39.0               239554.0        97.0                   0.0        1.0   \n",
       "4  33.0               239554.0        97.0                   0.0        1.0   \n",
       "5  38.0               239554.0        97.0                   0.0        1.0   \n",
       "\n",
       "   Son  Social.drinker  Social.smoker  Pet  Weight  Height  Body.mass.index  \\\n",
       "0  2.0             1.0            0.0  1.0    90.0   172.0             30.0   \n",
       "2  0.0             1.0            0.0  0.0    89.0   170.0             31.0   \n",
       "3  2.0             1.0            1.0  0.0    68.0   168.0             24.0   \n",
       "4  2.0             1.0            0.0  1.0    90.0   172.0             30.0   \n",
       "5  0.0             1.0            0.0  0.0    89.0   170.0             31.0   \n",
       "\n",
       "   Absenteeism.time.in.hours  \n",
       "0                        4.0  \n",
       "2                        2.0  \n",
       "3                        4.0  \n",
       "4                        2.0  \n",
       "5                        2.0  "
      ]
     },
     "execution_count": 40,
     "metadata": {},
     "output_type": "execute_result"
    }
   ],
   "source": [
    "absenteism_data.head()"
   ]
  },
  {
   "cell_type": "code",
   "execution_count": 41,
   "metadata": {},
   "outputs": [
    {
     "data": {
      "image/png": "[encoded data removed]",
      "text/plain": [
       "<Figure size 432x288 with 1 Axes>"
      ]
     },
     "metadata": {},
     "output_type": "display_data"
    },
    {
     "data": {
      "image/png": "[encoded data removed]",
      "text/plain": [
       "<Figure size 432x288 with 1 Axes>"
      ]
     },
     "metadata": {},
     "output_type": "display_data"
    },
    {
     "data": {
      "image/png": "[encoded data removed]",
      "text/plain": [
       "<Figure size 432x288 with 1 Axes>"
      ]
     },
     "metadata": {},
     "output_type": "display_data"
    },
    {
     "data": {
      "image/png": "[encoded data removed]",
      "text/plain": [
       "<Figure size 432x288 with 1 Axes>"
      ]
     },
     "metadata": {},
     "output_type": "display_data"
    },
    {
     "data": {
      "image/png": "[encoded data removed]",
      "text/plain": [
       "<Figure size 432x288 with 1 Axes>"
      ]
     },
     "metadata": {},
     "output_type": "display_data"
    },
    {
     "data": {
      "image/png": "[encoded data removed]",
      "text/plain": [
       "<Figure size 432x288 with 1 Axes>"
      ]
     },
     "metadata": {},
     "output_type": "display_data"
    },
    {
     "data": {
      "image/png": "[encoded data removed]",
      "text/plain": [
       "<Figure size 432x288 with 1 Axes>"
      ]
     },
     "metadata": {},
     "output_type": "display_data"
    },
    {
     "data": {
      "image/png": "[encoded data removed]",
      "text/plain": [
       "<Figure size 432x288 with 1 Axes>"
      ]
     },
     "metadata": {},
     "output_type": "display_data"
    },
    {
     "data": {
      "image/png": "[encoded data removed]",
      "text/plain": [
       "<Figure size 432x288 with 1 Axes>"
      ]
     },
     "metadata": {},
     "output_type": "display_data"
    },
    {
     "data": {
      "image/png": "[encoded data removed]",
      "text/plain": [
       "<Figure size 432x288 with 1 Axes>"
      ]
     },
     "metadata": {},
     "output_type": "display_data"
    },
    {
     "data": {
      "image/png": "[encoded data removed]",
      "text/plain": [
       "<Figure size 432x288 with 1 Axes>"
      ]
     },
     "metadata": {},
     "output_type": "display_data"
    },
    {
     "data": {
      "image/png": "[encoded data removed]",
      "text/plain": [
       "<Figure size 432x288 with 1 Axes>"
      ]
     },
     "metadata": {},
     "output_type": "display_data"
    }
   ],
   "source": [
    "#Plot boxplot to visualize Outliers\n",
    "for i in cnames:\n",
    "    plt.figure()\n",
    "    plt.clf() #clearing the figure\n",
    "    sns.boxplot(absenteism_data[i],palette=\"deep\")\n",
    "    plt.title(i)\n",
    "    plt.show()"
   ]
  },
  {
   "cell_type": "markdown",
   "metadata": {},
   "source": [
    "All outliers have been capped."
   ]
  },
  {
   "cell_type": "markdown",
   "metadata": {},
   "source": [
    "# Correlation Analysis"
   ]
  },
  {
   "cell_type": "markdown",
   "metadata": {},
   "source": [
    "Converting variables to categorical variables"
   ]
  },
  {
   "cell_type": "code",
   "execution_count": 43,
   "metadata": {},
   "outputs": [
    {
     "name": "stderr",
     "output_type": "stream",
     "text": [
      "C:\\Users\\Hasan\\Anaconda2\\lib\\site-packages\\ipykernel_launcher.py:2: SettingWithCopyWarning: \n",
      "A value is trying to be set on a copy of a slice from a DataFrame.\n",
      "Try using .loc[row_indexer,col_indexer] = value instead\n",
      "\n",
      "See the caveats in the documentation: http://pandas.pydata.org/pandas-docs/stable/indexing.html#indexing-view-versus-copy\n",
      "  \n"
     ]
    }
   ],
   "source": [
    "for i in catnames:\n",
    "    absenteism_data[i] = absenteism_data[i].astype('category')"
   ]
  },
  {
   "cell_type": "code",
   "execution_count": 47,
   "metadata": {},
   "outputs": [
    {
     "name": "stdout",
     "output_type": "stream",
     "text": [
      "<class 'pandas.core.frame.DataFrame'>\n",
      "Int64Index: 704 entries, 0 to 736\n",
      "Data columns (total 21 columns):\n",
      "ID                                 704 non-null int64\n",
      "Reason.for.absence                 704 non-null category\n",
      "Month.of.absence                   704 non-null category\n",
      "Day.of.the.week                    704 non-null category\n",
      "Seasons                            704 non-null category\n",
      "Transportation.expense             704 non-null float64\n",
      "Distance.from.Residence.to.Work    704 non-null float64\n",
      "Service.time                       704 non-null float64\n",
      "Age                                704 non-null float64\n",
      "Work.load.Average.day              704 non-null float64\n",
      "Hit.target                         704 non-null float64\n",
      "Disciplinary.failure               704 non-null category\n",
      "Education                          704 non-null category\n",
      "Son                                704 non-null category\n",
      "Social.drinker                     704 non-null category\n",
      "Social.smoker                      704 non-null category\n",
      "Pet                                704 non-null category\n",
      "Weight                             704 non-null float64\n",
      "Height                             704 non-null float64\n",
      "Body.mass.index                    704 non-null float64\n",
      "Absenteeism.time.in.hours          704 non-null float64\n",
      "dtypes: category(10), float64(10), int64(1)\n",
      "memory usage: 76.0 KB\n"
     ]
    }
   ],
   "source": [
    "absenteism_data.info()"
   ]
  },
  {
   "cell_type": "markdown",
   "metadata": {},
   "source": [
    "#### Chi2 test\n",
    "Doing Chi-square test for correlation between categorical variables"
   ]
  },
  {
   "cell_type": "code",
   "execution_count": 48,
   "metadata": {},
   "outputs": [],
   "source": [
    "from scipy.stats import chi2_contingency"
   ]
  },
  {
   "cell_type": "code",
   "execution_count": 50,
   "metadata": {},
   "outputs": [
    {
     "data": {
      "text/html": [
       "<div>\n",
       "<style scoped>\n",
       "    .dataframe tbody tr th:only-of-type {\n",
       "        vertical-align: middle;\n",
       "    }\n",
       "\n",
       "    .dataframe tbody tr th {\n",
       "        vertical-align: top;\n",
       "    }\n",
       "\n",
       "    .dataframe thead th {\n",
       "        text-align: right;\n",
       "    }\n",
       "</style>\n",
       "<table border=\"1\" class=\"dataframe\">\n",
       "  <thead>\n",
       "    <tr style=\"text-align: right;\">\n",
       "      <th></th>\n",
       "      <th>Day.of.the.week</th>\n",
       "      <th>Seasons</th>\n",
       "      <th>Month.of.absence</th>\n",
       "      <th>Social.drinker</th>\n",
       "      <th>Reason.for.absence</th>\n",
       "      <th>Social.smoker</th>\n",
       "      <th>Pet</th>\n",
       "      <th>Son</th>\n",
       "      <th>Disciplinary.failure</th>\n",
       "      <th>Education</th>\n",
       "    </tr>\n",
       "  </thead>\n",
       "  <tbody>\n",
       "    <tr>\n",
       "      <th>Day.of.the.week</th>\n",
       "      <td>0.000000e+00</td>\n",
       "      <td>3.948001e-01</td>\n",
       "      <td>6.087582e-01</td>\n",
       "      <td>3.575265e-01</td>\n",
       "      <td>6.131313e-02</td>\n",
       "      <td>8.227146e-01</td>\n",
       "      <td>1.936585e-01</td>\n",
       "      <td>2.223057e-09</td>\n",
       "      <td>2.460672e-01</td>\n",
       "      <td>5.439849e-01</td>\n",
       "    </tr>\n",
       "    <tr>\n",
       "      <th>Seasons</th>\n",
       "      <td>3.948001e-01</td>\n",
       "      <td>0.000000e+00</td>\n",
       "      <td>0.000000e+00</td>\n",
       "      <td>1.981972e-01</td>\n",
       "      <td>5.901286e-21</td>\n",
       "      <td>1.569992e-01</td>\n",
       "      <td>5.006294e-04</td>\n",
       "      <td>1.059010e-05</td>\n",
       "      <td>2.425953e-02</td>\n",
       "      <td>6.286186e-02</td>\n",
       "    </tr>\n",
       "    <tr>\n",
       "      <th>Month.of.absence</th>\n",
       "      <td>6.087582e-01</td>\n",
       "      <td>0.000000e+00</td>\n",
       "      <td>0.000000e+00</td>\n",
       "      <td>2.363939e-02</td>\n",
       "      <td>2.328978e-15</td>\n",
       "      <td>3.194987e-02</td>\n",
       "      <td>1.056365e-03</td>\n",
       "      <td>3.123398e-05</td>\n",
       "      <td>4.180979e-01</td>\n",
       "      <td>8.639891e-03</td>\n",
       "    </tr>\n",
       "    <tr>\n",
       "      <th>Social.drinker</th>\n",
       "      <td>3.575265e-01</td>\n",
       "      <td>1.981972e-01</td>\n",
       "      <td>2.363939e-02</td>\n",
       "      <td>0.000000e+00</td>\n",
       "      <td>1.711278e-08</td>\n",
       "      <td>1.515194e-02</td>\n",
       "      <td>7.056224e-26</td>\n",
       "      <td>3.706723e-09</td>\n",
       "      <td>6.721064e-01</td>\n",
       "      <td>3.391862e-34</td>\n",
       "    </tr>\n",
       "    <tr>\n",
       "      <th>Reason.for.absence</th>\n",
       "      <td>6.131313e-02</td>\n",
       "      <td>5.901286e-21</td>\n",
       "      <td>2.328978e-15</td>\n",
       "      <td>1.711278e-08</td>\n",
       "      <td>0.000000e+00</td>\n",
       "      <td>1.914852e-08</td>\n",
       "      <td>6.098427e-20</td>\n",
       "      <td>1.741446e-18</td>\n",
       "      <td>4.768228e-13</td>\n",
       "      <td>1.749968e-10</td>\n",
       "    </tr>\n",
       "    <tr>\n",
       "      <th>Social.smoker</th>\n",
       "      <td>8.227146e-01</td>\n",
       "      <td>1.569992e-01</td>\n",
       "      <td>3.194987e-02</td>\n",
       "      <td>1.515194e-02</td>\n",
       "      <td>1.914852e-08</td>\n",
       "      <td>0.000000e+00</td>\n",
       "      <td>2.736009e-06</td>\n",
       "      <td>4.132435e-21</td>\n",
       "      <td>2.660185e-03</td>\n",
       "      <td>1.984123e-24</td>\n",
       "    </tr>\n",
       "    <tr>\n",
       "      <th>Pet</th>\n",
       "      <td>1.936585e-01</td>\n",
       "      <td>5.006294e-04</td>\n",
       "      <td>1.056365e-03</td>\n",
       "      <td>7.056224e-26</td>\n",
       "      <td>6.098427e-20</td>\n",
       "      <td>2.736009e-06</td>\n",
       "      <td>0.000000e+00</td>\n",
       "      <td>7.304515e-94</td>\n",
       "      <td>5.803994e-01</td>\n",
       "      <td>2.033844e-12</td>\n",
       "    </tr>\n",
       "    <tr>\n",
       "      <th>Son</th>\n",
       "      <td>2.223057e-09</td>\n",
       "      <td>1.059010e-05</td>\n",
       "      <td>3.123398e-05</td>\n",
       "      <td>3.706723e-09</td>\n",
       "      <td>1.741446e-18</td>\n",
       "      <td>4.132435e-21</td>\n",
       "      <td>7.304515e-94</td>\n",
       "      <td>0.000000e+00</td>\n",
       "      <td>4.545640e-01</td>\n",
       "      <td>9.146983e-12</td>\n",
       "    </tr>\n",
       "    <tr>\n",
       "      <th>Disciplinary.failure</th>\n",
       "      <td>2.460672e-01</td>\n",
       "      <td>2.425953e-02</td>\n",
       "      <td>4.180979e-01</td>\n",
       "      <td>6.721064e-01</td>\n",
       "      <td>4.768228e-13</td>\n",
       "      <td>2.660185e-03</td>\n",
       "      <td>5.803994e-01</td>\n",
       "      <td>4.545640e-01</td>\n",
       "      <td>0.000000e+00</td>\n",
       "      <td>9.094792e-01</td>\n",
       "    </tr>\n",
       "    <tr>\n",
       "      <th>Education</th>\n",
       "      <td>5.439849e-01</td>\n",
       "      <td>6.286186e-02</td>\n",
       "      <td>8.639891e-03</td>\n",
       "      <td>3.391862e-34</td>\n",
       "      <td>1.749968e-10</td>\n",
       "      <td>1.984123e-24</td>\n",
       "      <td>2.033844e-12</td>\n",
       "      <td>9.146983e-12</td>\n",
       "      <td>9.094792e-01</td>\n",
       "      <td>0.000000e+00</td>\n",
       "    </tr>\n",
       "  </tbody>\n",
       "</table>\n",
       "</div>"
      ],
      "text/plain": [
       "                      Day.of.the.week       Seasons  Month.of.absence  \\\n",
       "Day.of.the.week          0.000000e+00  3.948001e-01      6.087582e-01   \n",
       "Seasons                  3.948001e-01  0.000000e+00      0.000000e+00   \n",
       "Month.of.absence         6.087582e-01  0.000000e+00      0.000000e+00   \n",
       "Social.drinker           3.575265e-01  1.981972e-01      2.363939e-02   \n",
       "Reason.for.absence       6.131313e-02  5.901286e-21      2.328978e-15   \n",
       "Social.smoker            8.227146e-01  1.569992e-01      3.194987e-02   \n",
       "Pet                      1.936585e-01  5.006294e-04      1.056365e-03   \n",
       "Son                      2.223057e-09  1.059010e-05      3.123398e-05   \n",
       "Disciplinary.failure     2.460672e-01  2.425953e-02      4.180979e-01   \n",
       "Education                5.439849e-01  6.286186e-02      8.639891e-03   \n",
       "\n",
       "                      Social.drinker  Reason.for.absence  Social.smoker  \\\n",
       "Day.of.the.week         3.575265e-01        6.131313e-02   8.227146e-01   \n",
       "Seasons                 1.981972e-01        5.901286e-21   1.569992e-01   \n",
       "Month.of.absence        2.363939e-02        2.328978e-15   3.194987e-02   \n",
       "Social.drinker          0.000000e+00        1.711278e-08   1.515194e-02   \n",
       "Reason.for.absence      1.711278e-08        0.000000e+00   1.914852e-08   \n",
       "Social.smoker           1.515194e-02        1.914852e-08   0.000000e+00   \n",
       "Pet                     7.056224e-26        6.098427e-20   2.736009e-06   \n",
       "Son                     3.706723e-09        1.741446e-18   4.132435e-21   \n",
       "Disciplinary.failure    6.721064e-01        4.768228e-13   2.660185e-03   \n",
       "Education               3.391862e-34        1.749968e-10   1.984123e-24   \n",
       "\n",
       "                               Pet           Son  Disciplinary.failure  \\\n",
       "Day.of.the.week       1.936585e-01  2.223057e-09          2.460672e-01   \n",
       "Seasons               5.006294e-04  1.059010e-05          2.425953e-02   \n",
       "Month.of.absence      1.056365e-03  3.123398e-05          4.180979e-01   \n",
       "Social.drinker        7.056224e-26  3.706723e-09          6.721064e-01   \n",
       "Reason.for.absence    6.098427e-20  1.741446e-18          4.768228e-13   \n",
       "Social.smoker         2.736009e-06  4.132435e-21          2.660185e-03   \n",
       "Pet                   0.000000e+00  7.304515e-94          5.803994e-01   \n",
       "Son                   7.304515e-94  0.000000e+00          4.545640e-01   \n",
       "Disciplinary.failure  5.803994e-01  4.545640e-01          0.000000e+00   \n",
       "Education             2.033844e-12  9.146983e-12          9.094792e-01   \n",
       "\n",
       "                         Education  \n",
       "Day.of.the.week       5.439849e-01  \n",
       "Seasons               6.286186e-02  \n",
       "Month.of.absence      8.639891e-03  \n",
       "Social.drinker        3.391862e-34  \n",
       "Reason.for.absence    1.749968e-10  \n",
       "Social.smoker         1.984123e-24  \n",
       "Pet                   2.033844e-12  \n",
       "Son                   9.146983e-12  \n",
       "Disciplinary.failure  9.094792e-01  \n",
       "Education             0.000000e+00  "
      ]
     },
     "execution_count": 50,
     "metadata": {},
     "output_type": "execute_result"
    }
   ],
   "source": [
    "factors_paired = [(i,j) for i in catnames for j in catnames] \n",
    "chi2, p_values =[], []\n",
    "for f in factors_paired:\n",
    "    if f[0] != f[1]:\n",
    "        chitest = chi2_contingency(pd.crosstab(absenteism_data[f[0]], absenteism_data[f[1]]))\n",
    "        chi2.append(chitest[0])\n",
    "        p_values.append(chitest[1])\n",
    "    else:\n",
    "        chi2.append(0)\n",
    "        p_values.append(0)\n",
    "\n",
    "p1 = np.array(p_values).reshape((10,10))\n",
    "p1 = pd.DataFrame(p1, index=catnames, columns=catnames)\n",
    "p1"
   ]
  },
  {
   "cell_type": "markdown",
   "metadata": {},
   "source": [
    "Dropping Seasons since p-value of 'Seasons' versus 'Month.of.absence' is 0.00(<0.05) rejecting null hypothesis that the two variables are independent."
   ]
  },
  {
   "cell_type": "code",
   "execution_count": 51,
   "metadata": {},
   "outputs": [],
   "source": [
    "absenteism_data = absenteism_data.drop(['Seasons'],axis=1)"
   ]
  },
  {
   "cell_type": "code",
   "execution_count": 52,
   "metadata": {},
   "outputs": [
    {
     "data": {
      "image/png": "[encoded data removed]",
      "text/plain": [
       "<Figure size 1296x864 with 2 Axes>"
      ]
     },
     "metadata": {},
     "output_type": "display_data"
    }
   ],
   "source": [
    "#Setting up the pane or matrix size\n",
    "f, ax = plt.subplots(figsize=(18,12))  #Width,height\n",
    "\n",
    "#Generating Corelation Matrix\n",
    "corr = absenteism_data[absenteism_data.columns].corr()\n",
    "\n",
    "#Plot using Seaborn library\n",
    "sns.heatmap(corr,mask=np.zeros_like(corr, dtype=np.bool), cmap=sns.diverging_palette(220,10, as_cmap=True),\\\n",
    "            square=True, ax=ax,annot=True,linewidths=1 , linecolor= 'black',vmin = -1, vmax = 1)\n",
    "\n",
    "plt.show()\n",
    "#f.savefig('heatmap.png')"
   ]
  },
  {
   "cell_type": "markdown",
   "metadata": {},
   "source": [
    "Correlation test for continuous independent variables"
   ]
  },
  {
   "cell_type": "markdown",
   "metadata": {},
   "source": [
    "No two variables have correlation coeff. > 0.95 so we will not drop any continuous independent variables."
   ]
  },
  {
   "cell_type": "markdown",
   "metadata": {},
   "source": [
    "# Relationships of categorical independent variables with dependent variable"
   ]
  },
  {
   "cell_type": "markdown",
   "metadata": {},
   "source": [
    "'Reason.for.absence' Vs. 'Absenteeism.time.in.hours'"
   ]
  },
  {
   "cell_type": "code",
   "execution_count": 59,
   "metadata": {},
   "outputs": [
    {
     "ename": "NameError",
     "evalue": "name 'figure' is not defined",
     "output_type": "error",
     "traceback": [
      "\u001b[1;31m---------------------------------------------------------------------------\u001b[0m",
      "\u001b[1;31mNameError\u001b[0m                                 Traceback (most recent call last)",
      "\u001b[1;32m<ipython-input-59-874dd9b31f8f>\u001b[0m in \u001b[0;36m<module>\u001b[1;34m()\u001b[0m\n\u001b[1;32m----> 1\u001b[1;33m \u001b[0mfigure\u001b[0m\u001b[1;33m(\u001b[0m\u001b[0mnum\u001b[0m\u001b[1;33m=\u001b[0m\u001b[0mNone\u001b[0m\u001b[1;33m,\u001b[0m \u001b[0mfigsize\u001b[0m\u001b[1;33m=\u001b[0m\u001b[1;33m(\u001b[0m\u001b[1;36m8\u001b[0m\u001b[1;33m,\u001b[0m \u001b[1;36m6\u001b[0m\u001b[1;33m)\u001b[0m\u001b[1;33m,\u001b[0m \u001b[0mdpi\u001b[0m\u001b[1;33m=\u001b[0m\u001b[1;36m80\u001b[0m\u001b[1;33m,\u001b[0m \u001b[0mfacecolor\u001b[0m\u001b[1;33m=\u001b[0m\u001b[1;34m'w'\u001b[0m\u001b[1;33m,\u001b[0m \u001b[0medgecolor\u001b[0m\u001b[1;33m=\u001b[0m\u001b[1;34m'k'\u001b[0m\u001b[1;33m)\u001b[0m\u001b[1;33m\u001b[0m\u001b[0m\n\u001b[0m",
      "\u001b[1;31mNameError\u001b[0m: name 'figure' is not defined"
     ]
    }
   ],
   "source": [
    "figure(num=None, figsize=(8, 6), dpi=80, facecolor='w', edgecolor='k')"
   ]
  },
  {
   "cell_type": "code",
   "execution_count": 76,
   "metadata": {},
   "outputs": [],
   "source": [
    "def relationship(a,b):\n",
    "    df = absenteism_data.groupby(a)[b].sum()\n",
    "    df = df.reset_index()\n",
    "    df[b] = (df[b]*100)/sum(absenteism_data[b])\n",
    "    df = df.sort_values(by=['Absenteeism.time.in.hours'])\n",
    "    print(df)\n",
    "    return df.plot.barh(x=a,y=b, figsize = (12,10))"
   ]
  },
  {
   "cell_type": "code",
   "execution_count": 77,
   "metadata": {},
   "outputs": [
    {
     "name": "stdout",
     "output_type": "stream",
     "text": [
      "   Reason.for.absence  Absenteeism.time.in.hours\n",
      "15               16.0                   0.158520\n",
      "2                 3.0                   0.211361\n",
      "16               17.0                   0.211361\n",
      "3                 4.0                   0.237781\n",
      "14               15.0                   0.422721\n",
      "1                 2.0                   0.449141\n",
      "4                 5.0                   0.501982\n",
      "22               24.0                   0.634082\n",
      "7                 8.0                   0.845443\n",
      "19               21.0                   0.924703\n",
      "8                 9.0                   1.532365\n",
      "5                 6.0                   1.796565\n",
      "11               12.0                   2.060766\n",
      "23               25.0                   2.853369\n",
      "6                 7.0                   2.985469\n",
      "13               14.0                   3.302510\n",
      "0                 1.0                   3.566711\n",
      "17               18.0                   4.068692\n",
      "10               11.0                   4.280053\n",
      "25               27.0                   4.464993\n",
      "9                10.0                   5.706737\n",
      "20               22.0                   7.529723\n",
      "24               26.0                   8.269485\n",
      "26               28.0                   8.533686\n",
      "18               19.0                  10.647292\n",
      "21               23.0                  11.175694\n",
      "12               13.0                  12.628798\n"
     ]
    },
    {
     "data": {
      "text/plain": [
       "<matplotlib.axes._subplots.AxesSubplot at 0xfd46160>"
      ]
     },
     "execution_count": 77,
     "metadata": {},
     "output_type": "execute_result"
    },
    {
     "data": {
      "image/png": "[encoded data removed]",
      "text/plain": [
       "<Figure size 864x720 with 1 Axes>"
      ]
     },
     "metadata": {},
     "output_type": "display_data"
    }
   ],
   "source": [
    "relationship('Reason.for.absence','Absenteeism.time.in.hours')"
   ]
  },
  {
   "cell_type": "markdown",
   "metadata": {},
   "source": [
    "Top 3 categories in order of Absenteeism.time.in.hours are:\n",
    "1. Category 13:Diseases of the musculoskeletal system and connective tissue - 12.62 % of total time\n",
    "2. Category 23:medical consultation - 11.17 % of total time\n",
    "3. Category 19:Injury, poisoning and certain other consequences of external causes - 10.64 % of total time\n",
    "4. Category 28:dental consultation - 8.53 % 0f total time\n",
    "5. Category 26:unjustified absence - 8.27 % of total time\n",
    "\n",
    "Conclusions & possible remedies:\n",
    "1. Musculoskeletal system disease is the major reason of absenteism_dataeeism. Bad working posture & high workload are possible reasons for the high incidence of musculoskeletal disease. Company should conduct a study on the working postures of people and go for more ergonomic workplace design. Company should try to optimize workload keeping in mind occupational health of working people.\n",
    "2. Medical consultation may be brought down by optimizing workloads.\n",
    "3. Injury incidence may be reduced by creating proper ergonomic working setup.\n",
    "4. Dental consultation time may be reduced by informing employees of the dental health guidelines so that they can take better care of their teeth.\n",
    "5. Unjustified absence is too high.Company should try to reduce high workloads so that employees don't feel work stress and take unjustified absence leave."
   ]
  },
  {
   "cell_type": "markdown",
   "metadata": {},
   "source": [
    "'Month.of.absence' Vs. 'Absenteeism.time.in.hours'"
   ]
  },
  {
   "cell_type": "code",
   "execution_count": 78,
   "metadata": {},
   "outputs": [
    {
     "name": "stdout",
     "output_type": "stream",
     "text": [
      "   Month.of.absence  Absenteeism.time.in.hours\n",
      "0               1.0                   5.284016\n",
      "11             12.0                   6.367239\n",
      "8               9.0                   6.552180\n",
      "7               8.0                   7.001321\n",
      "1               2.0                   7.582563\n",
      "5               6.0                   8.031704\n",
      "3               4.0                   8.243065\n",
      "4               5.0                   8.348745\n",
      "9              10.0                   8.348745\n",
      "10             11.0                   8.824306\n",
      "6               7.0                  11.387054\n",
      "2               3.0                  14.029062\n"
     ]
    },
    {
     "data": {
      "text/plain": [
       "<matplotlib.axes._subplots.AxesSubplot at 0xfe1c438>"
      ]
     },
     "execution_count": 78,
     "metadata": {},
     "output_type": "execute_result"
    },
    {
     "data": {
      "image/png": "[encoded data removed]",
      "text/plain": [
       "<Figure size 864x720 with 1 Axes>"
      ]
     },
     "metadata": {},
     "output_type": "display_data"
    }
   ],
   "source": [
    "relationship('Month.of.absence','Absenteeism.time.in.hours')"
   ]
  },
  {
   "cell_type": "markdown",
   "metadata": {},
   "source": [
    "Top 3 months in order of Absenteeism.time.in.hours are:\n",
    "\n",
    "1. Month 3:March - 14.02 % of total time\n",
    "2. Month 7:July - 11.38 % of total time\n",
    "3. Month 11:November - 8.82 % of total time"
   ]
  },
  {
   "cell_type": "markdown",
   "metadata": {},
   "source": [
    "'Day.of.the.week' Vs. 'Absenteeism.time.in.hours'"
   ]
  },
  {
   "cell_type": "code",
   "execution_count": 79,
   "metadata": {},
   "outputs": [
    {
     "name": "stdout",
     "output_type": "stream",
     "text": [
      "  Day.of.the.week  Absenteeism.time.in.hours\n",
      "3               5                  14.848085\n",
      "4               6                  16.301189\n",
      "1               3                  20.634082\n",
      "2               4                  22.192867\n",
      "0               2                  26.023778\n"
     ]
    },
    {
     "data": {
      "text/plain": [
       "<matplotlib.axes._subplots.AxesSubplot at 0x10046860>"
      ]
     },
     "execution_count": 79,
     "metadata": {},
     "output_type": "execute_result"
    },
    {
     "data": {
      "image/png": "[encoded data removed]",
      "text/plain": [
       "<Figure size 864x720 with 1 Axes>"
      ]
     },
     "metadata": {},
     "output_type": "display_data"
    }
   ],
   "source": [
    "relationship('Day.of.the.week','Absenteeism.time.in.hours')"
   ]
  },
  {
   "cell_type": "markdown",
   "metadata": {},
   "source": [
    "Top 3 days in order of Absenteeism.time.in.hours time are:\n",
    "\n",
    "1. Day 2:Monday - 26.02 % of total time\n",
    "2. Day 4:Wednesday - 22.19 % of total time\n",
    "3. Day 3:Tuesday - 20.63 % of total time"
   ]
  },
  {
   "cell_type": "markdown",
   "metadata": {},
   "source": [
    "'Education' Vs. 'Absenteeism.time.in.hours'"
   ]
  },
  {
   "cell_type": "code",
   "execution_count": 80,
   "metadata": {},
   "outputs": [
    {
     "name": "stdout",
     "output_type": "stream",
     "text": [
      "  Education  Absenteeism.time.in.hours\n",
      "3       4.0                   0.554822\n",
      "1       2.0                   6.974901\n",
      "2       3.0                   9.775429\n",
      "0       1.0                  82.694848\n"
     ]
    },
    {
     "data": {
      "text/plain": [
       "<matplotlib.axes._subplots.AxesSubplot at 0x10261a20>"
      ]
     },
     "execution_count": 80,
     "metadata": {},
     "output_type": "execute_result"
    },
    {
     "data": {
      "image/png": "[encoded data removed]",
      "text/plain": [
       "<Figure size 864x720 with 1 Axes>"
      ]
     },
     "metadata": {},
     "output_type": "display_data"
    }
   ],
   "source": [
    "relationship('Education','Absenteeism.time.in.hours')"
   ]
  },
  {
   "cell_type": "markdown",
   "metadata": {},
   "source": [
    "82.69 % of Absenteeism.time.in.hours time is contributed by people having high school education.\n",
    "This may be due to majority of people having high school education. No conclusion may be drawn from this graph."
   ]
  },
  {
   "cell_type": "markdown",
   "metadata": {},
   "source": [
    "'Son' Vs. 'Absenteeism.time.in.hours'"
   ]
  },
  {
   "cell_type": "code",
   "execution_count": 81,
   "metadata": {},
   "outputs": [
    {
     "name": "stdout",
     "output_type": "stream",
     "text": [
      "   Son  Absenteeism.time.in.hours\n",
      "3  3.0                   2.985469\n",
      "4  4.0                   6.631440\n",
      "2  2.0                  27.080581\n",
      "1  1.0                  27.239102\n",
      "0  0.0                  36.063408\n"
     ]
    },
    {
     "data": {
      "text/plain": [
       "<matplotlib.axes._subplots.AxesSubplot at 0x1036b400>"
      ]
     },
     "execution_count": 81,
     "metadata": {},
     "output_type": "execute_result"
    },
    {
     "data": {
      "image/png": "[encoded data removed]",
      "text/plain": [
       "<Figure size 864x720 with 1 Axes>"
      ]
     },
     "metadata": {},
     "output_type": "display_data"
    }
   ],
   "source": [
    "relationship('Son','Absenteeism.time.in.hours')"
   ]
  },
  {
   "cell_type": "markdown",
   "metadata": {},
   "source": [
    "Top 3 categories in order of Absenteeism.time.in.hours are:\n",
    "\n",
    "1. Category 0:No son - 36.06 % of total time\n",
    "2. Category 1:One son - 27.23 % of total time\n",
    "3. Category 2:Two sons - 27.08 % of total time\n",
    "\n",
    "People with no son are taking most of Absenteeism.time.in.hours."
   ]
  },
  {
   "cell_type": "markdown",
   "metadata": {},
   "source": [
    "'Pet' Vs. 'Absenteeism.time.in.hours'"
   ]
  },
  {
   "cell_type": "code",
   "execution_count": 82,
   "metadata": {},
   "outputs": [
    {
     "name": "stdout",
     "output_type": "stream",
     "text": [
      "   Pet  Absenteeism.time.in.hours\n",
      "3  2.5                   7.133421\n",
      "2  2.0                   9.537649\n",
      "1  1.0                  21.083223\n",
      "0  0.0                  62.245707\n"
     ]
    },
    {
     "data": {
      "text/plain": [
       "<matplotlib.axes._subplots.AxesSubplot at 0x10adf7b8>"
      ]
     },
     "execution_count": 82,
     "metadata": {},
     "output_type": "execute_result"
    },
    {
     "data": {
      "image/png": "[encoded data removed]",
      "text/plain": [
       "<Figure size 864x720 with 1 Axes>"
      ]
     },
     "metadata": {},
     "output_type": "display_data"
    }
   ],
   "source": [
    "relationship('Pet','Absenteeism.time.in.hours')"
   ]
  },
  {
   "cell_type": "markdown",
   "metadata": {},
   "source": [
    "Top 3 categories in order of Absenteeism.time.in.hours are:\n",
    "\n",
    "1. Category 0:No pet - 62.24 % of total time\n",
    "2. Category 1:One pet - 21.08 % of total time\n",
    "3. Category 2:Two pets - 9.53 % of total time\n",
    "\n",
    "People with no pet are taking most of Absenteeism.time.in.hours."
   ]
  },
  {
   "cell_type": "markdown",
   "metadata": {},
   "source": [
    "# Forecasting Absenteeism.time.in.hours in hours per month for 2011"
   ]
  },
  {
   "cell_type": "code",
   "execution_count": 83,
   "metadata": {},
   "outputs": [
    {
     "data": {
      "text/html": [
       "<div>\n",
       "<style scoped>\n",
       "    .dataframe tbody tr th:only-of-type {\n",
       "        vertical-align: middle;\n",
       "    }\n",
       "\n",
       "    .dataframe tbody tr th {\n",
       "        vertical-align: top;\n",
       "    }\n",
       "\n",
       "    .dataframe thead th {\n",
       "        text-align: right;\n",
       "    }\n",
       "</style>\n",
       "<table border=\"1\" class=\"dataframe\">\n",
       "  <thead>\n",
       "    <tr style=\"text-align: right;\">\n",
       "      <th></th>\n",
       "      <th>ID</th>\n",
       "      <th>Reason.for.absence</th>\n",
       "      <th>Month.of.absence</th>\n",
       "      <th>Day.of.the.week</th>\n",
       "      <th>Transportation.expense</th>\n",
       "      <th>Distance.from.Residence.to.Work</th>\n",
       "      <th>Service.time</th>\n",
       "      <th>Age</th>\n",
       "      <th>Work.load.Average.day</th>\n",
       "      <th>Hit.target</th>\n",
       "      <th>Disciplinary.failure</th>\n",
       "      <th>Education</th>\n",
       "      <th>Son</th>\n",
       "      <th>Social.drinker</th>\n",
       "      <th>Social.smoker</th>\n",
       "      <th>Pet</th>\n",
       "      <th>Weight</th>\n",
       "      <th>Height</th>\n",
       "      <th>Body.mass.index</th>\n",
       "      <th>Absenteeism.time.in.hours</th>\n",
       "    </tr>\n",
       "  </thead>\n",
       "  <tbody>\n",
       "    <tr>\n",
       "      <th>0</th>\n",
       "      <td>11</td>\n",
       "      <td>26.0</td>\n",
       "      <td>7.0</td>\n",
       "      <td>3</td>\n",
       "      <td>289.0</td>\n",
       "      <td>36.0</td>\n",
       "      <td>13.0</td>\n",
       "      <td>33.0</td>\n",
       "      <td>239554.0</td>\n",
       "      <td>97.0</td>\n",
       "      <td>0.0</td>\n",
       "      <td>1.0</td>\n",
       "      <td>2.0</td>\n",
       "      <td>1.0</td>\n",
       "      <td>0.0</td>\n",
       "      <td>1.0</td>\n",
       "      <td>90.0</td>\n",
       "      <td>172.0</td>\n",
       "      <td>30.0</td>\n",
       "      <td>4.0</td>\n",
       "    </tr>\n",
       "    <tr>\n",
       "      <th>2</th>\n",
       "      <td>3</td>\n",
       "      <td>23.0</td>\n",
       "      <td>7.0</td>\n",
       "      <td>4</td>\n",
       "      <td>179.0</td>\n",
       "      <td>51.0</td>\n",
       "      <td>18.0</td>\n",
       "      <td>38.0</td>\n",
       "      <td>239554.0</td>\n",
       "      <td>97.0</td>\n",
       "      <td>0.0</td>\n",
       "      <td>1.0</td>\n",
       "      <td>0.0</td>\n",
       "      <td>1.0</td>\n",
       "      <td>0.0</td>\n",
       "      <td>0.0</td>\n",
       "      <td>89.0</td>\n",
       "      <td>170.0</td>\n",
       "      <td>31.0</td>\n",
       "      <td>2.0</td>\n",
       "    </tr>\n",
       "    <tr>\n",
       "      <th>3</th>\n",
       "      <td>7</td>\n",
       "      <td>7.0</td>\n",
       "      <td>7.0</td>\n",
       "      <td>5</td>\n",
       "      <td>279.0</td>\n",
       "      <td>5.0</td>\n",
       "      <td>14.0</td>\n",
       "      <td>39.0</td>\n",
       "      <td>239554.0</td>\n",
       "      <td>97.0</td>\n",
       "      <td>0.0</td>\n",
       "      <td>1.0</td>\n",
       "      <td>2.0</td>\n",
       "      <td>1.0</td>\n",
       "      <td>1.0</td>\n",
       "      <td>0.0</td>\n",
       "      <td>68.0</td>\n",
       "      <td>168.0</td>\n",
       "      <td>24.0</td>\n",
       "      <td>4.0</td>\n",
       "    </tr>\n",
       "    <tr>\n",
       "      <th>4</th>\n",
       "      <td>11</td>\n",
       "      <td>23.0</td>\n",
       "      <td>7.0</td>\n",
       "      <td>5</td>\n",
       "      <td>289.0</td>\n",
       "      <td>36.0</td>\n",
       "      <td>13.0</td>\n",
       "      <td>33.0</td>\n",
       "      <td>239554.0</td>\n",
       "      <td>97.0</td>\n",
       "      <td>0.0</td>\n",
       "      <td>1.0</td>\n",
       "      <td>2.0</td>\n",
       "      <td>1.0</td>\n",
       "      <td>0.0</td>\n",
       "      <td>1.0</td>\n",
       "      <td>90.0</td>\n",
       "      <td>172.0</td>\n",
       "      <td>30.0</td>\n",
       "      <td>2.0</td>\n",
       "    </tr>\n",
       "    <tr>\n",
       "      <th>5</th>\n",
       "      <td>3</td>\n",
       "      <td>23.0</td>\n",
       "      <td>7.0</td>\n",
       "      <td>6</td>\n",
       "      <td>179.0</td>\n",
       "      <td>51.0</td>\n",
       "      <td>18.0</td>\n",
       "      <td>38.0</td>\n",
       "      <td>239554.0</td>\n",
       "      <td>97.0</td>\n",
       "      <td>0.0</td>\n",
       "      <td>1.0</td>\n",
       "      <td>0.0</td>\n",
       "      <td>1.0</td>\n",
       "      <td>0.0</td>\n",
       "      <td>0.0</td>\n",
       "      <td>89.0</td>\n",
       "      <td>170.0</td>\n",
       "      <td>31.0</td>\n",
       "      <td>2.0</td>\n",
       "    </tr>\n",
       "  </tbody>\n",
       "</table>\n",
       "</div>"
      ],
      "text/plain": [
       "   ID Reason.for.absence Month.of.absence Day.of.the.week  \\\n",
       "0  11               26.0              7.0               3   \n",
       "2   3               23.0              7.0               4   \n",
       "3   7                7.0              7.0               5   \n",
       "4  11               23.0              7.0               5   \n",
       "5   3               23.0              7.0               6   \n",
       "\n",
       "   Transportation.expense  Distance.from.Residence.to.Work  Service.time  \\\n",
       "0                   289.0                             36.0          13.0   \n",
       "2                   179.0                             51.0          18.0   \n",
       "3                   279.0                              5.0          14.0   \n",
       "4                   289.0                             36.0          13.0   \n",
       "5                   179.0                             51.0          18.0   \n",
       "\n",
       "    Age  Work.load.Average.day  Hit.target Disciplinary.failure Education  \\\n",
       "0  33.0               239554.0        97.0                  0.0       1.0   \n",
       "2  38.0               239554.0        97.0                  0.0       1.0   \n",
       "3  39.0               239554.0        97.0                  0.0       1.0   \n",
       "4  33.0               239554.0        97.0                  0.0       1.0   \n",
       "5  38.0               239554.0        97.0                  0.0       1.0   \n",
       "\n",
       "   Son Social.drinker Social.smoker  Pet  Weight  Height  Body.mass.index  \\\n",
       "0  2.0            1.0           0.0  1.0    90.0   172.0             30.0   \n",
       "2  0.0            1.0           0.0  0.0    89.0   170.0             31.0   \n",
       "3  2.0            1.0           1.0  0.0    68.0   168.0             24.0   \n",
       "4  2.0            1.0           0.0  1.0    90.0   172.0             30.0   \n",
       "5  0.0            1.0           0.0  0.0    89.0   170.0             31.0   \n",
       "\n",
       "   Absenteeism.time.in.hours  \n",
       "0                        4.0  \n",
       "2                        2.0  \n",
       "3                        4.0  \n",
       "4                        2.0  \n",
       "5                        2.0  "
      ]
     },
     "execution_count": 83,
     "metadata": {},
     "output_type": "execute_result"
    }
   ],
   "source": [
    "absenteism_data.head()"
   ]
  },
  {
   "cell_type": "markdown",
   "metadata": {},
   "source": [
    "Aggregating absence hrs. by month"
   ]
  },
  {
   "cell_type": "code",
   "execution_count": 103,
   "metadata": {},
   "outputs": [
    {
     "data": {
      "text/plain": [
       "Month.of.absence\n",
       "1.0     200.0\n",
       "2.0     287.0\n",
       "3.0     531.0\n",
       "4.0     312.0\n",
       "5.0     316.0\n",
       "6.0     304.0\n",
       "7.0     431.0\n",
       "8.0     265.0\n",
       "9.0     248.0\n",
       "10.0    316.0\n",
       "11.0    334.0\n",
       "12.0    241.0\n",
       "Name: Absenteeism.time.in.hours, dtype: float64"
      ]
     },
     "execution_count": 103,
     "metadata": {},
     "output_type": "execute_result"
    }
   ],
   "source": [
    "monthly_absence = absenteism_data.groupby('Month.of.absence')['Absenteeism.time.in.hours'].sum()\n",
    "monthly_absence"
   ]
  },
  {
   "cell_type": "code",
   "execution_count": 104,
   "metadata": {},
   "outputs": [
    {
     "data": {
      "text/html": [
       "<div>\n",
       "<style scoped>\n",
       "    .dataframe tbody tr th:only-of-type {\n",
       "        vertical-align: middle;\n",
       "    }\n",
       "\n",
       "    .dataframe tbody tr th {\n",
       "        vertical-align: top;\n",
       "    }\n",
       "\n",
       "    .dataframe thead th {\n",
       "        text-align: right;\n",
       "    }\n",
       "</style>\n",
       "<table border=\"1\" class=\"dataframe\">\n",
       "  <thead>\n",
       "    <tr style=\"text-align: right;\">\n",
       "      <th></th>\n",
       "      <th>Month.of.absence</th>\n",
       "      <th>Absenteeism.time.in.hours</th>\n",
       "    </tr>\n",
       "  </thead>\n",
       "  <tbody>\n",
       "    <tr>\n",
       "      <th>0</th>\n",
       "      <td>1.0</td>\n",
       "      <td>200.0</td>\n",
       "    </tr>\n",
       "    <tr>\n",
       "      <th>1</th>\n",
       "      <td>2.0</td>\n",
       "      <td>287.0</td>\n",
       "    </tr>\n",
       "    <tr>\n",
       "      <th>2</th>\n",
       "      <td>3.0</td>\n",
       "      <td>531.0</td>\n",
       "    </tr>\n",
       "    <tr>\n",
       "      <th>3</th>\n",
       "      <td>4.0</td>\n",
       "      <td>312.0</td>\n",
       "    </tr>\n",
       "    <tr>\n",
       "      <th>4</th>\n",
       "      <td>5.0</td>\n",
       "      <td>316.0</td>\n",
       "    </tr>\n",
       "    <tr>\n",
       "      <th>5</th>\n",
       "      <td>6.0</td>\n",
       "      <td>304.0</td>\n",
       "    </tr>\n",
       "    <tr>\n",
       "      <th>6</th>\n",
       "      <td>7.0</td>\n",
       "      <td>431.0</td>\n",
       "    </tr>\n",
       "    <tr>\n",
       "      <th>7</th>\n",
       "      <td>8.0</td>\n",
       "      <td>265.0</td>\n",
       "    </tr>\n",
       "    <tr>\n",
       "      <th>8</th>\n",
       "      <td>9.0</td>\n",
       "      <td>248.0</td>\n",
       "    </tr>\n",
       "    <tr>\n",
       "      <th>9</th>\n",
       "      <td>10.0</td>\n",
       "      <td>316.0</td>\n",
       "    </tr>\n",
       "    <tr>\n",
       "      <th>10</th>\n",
       "      <td>11.0</td>\n",
       "      <td>334.0</td>\n",
       "    </tr>\n",
       "    <tr>\n",
       "      <th>11</th>\n",
       "      <td>12.0</td>\n",
       "      <td>241.0</td>\n",
       "    </tr>\n",
       "  </tbody>\n",
       "</table>\n",
       "</div>"
      ],
      "text/plain": [
       "   Month.of.absence  Absenteeism.time.in.hours\n",
       "0               1.0                      200.0\n",
       "1               2.0                      287.0\n",
       "2               3.0                      531.0\n",
       "3               4.0                      312.0\n",
       "4               5.0                      316.0\n",
       "5               6.0                      304.0\n",
       "6               7.0                      431.0\n",
       "7               8.0                      265.0\n",
       "8               9.0                      248.0\n",
       "9              10.0                      316.0\n",
       "10             11.0                      334.0\n",
       "11             12.0                      241.0"
      ]
     },
     "execution_count": 104,
     "metadata": {},
     "output_type": "execute_result"
    }
   ],
   "source": [
    "monthly_absence = monthly_absence.reset_index()\n",
    "monthly_absence"
   ]
  },
  {
   "cell_type": "markdown",
   "metadata": {},
   "source": [
    "#### Dividing the dataset by 3 \n",
    "Understanding the original data set we understandd that it is the data for 3 years. Since this information is not provided to us in the original question but months are repeated thrice hence this understanding. Divinding absence hrs. by 3 since this data is of 3 years from July,2007 to June,2010"
   ]
  },
  {
   "cell_type": "code",
   "execution_count": 105,
   "metadata": {},
   "outputs": [],
   "source": [
    "monthly_absence['Absenteeism.hours.per.month'] = monthly_absence['Absenteeism.time.in.hours']/3"
   ]
  },
  {
   "cell_type": "code",
   "execution_count": 106,
   "metadata": {},
   "outputs": [
    {
     "data": {
      "text/html": [
       "<div>\n",
       "<style scoped>\n",
       "    .dataframe tbody tr th:only-of-type {\n",
       "        vertical-align: middle;\n",
       "    }\n",
       "\n",
       "    .dataframe tbody tr th {\n",
       "        vertical-align: top;\n",
       "    }\n",
       "\n",
       "    .dataframe thead th {\n",
       "        text-align: right;\n",
       "    }\n",
       "</style>\n",
       "<table border=\"1\" class=\"dataframe\">\n",
       "  <thead>\n",
       "    <tr style=\"text-align: right;\">\n",
       "      <th></th>\n",
       "      <th>Month.of.absence</th>\n",
       "      <th>Absenteeism.time.in.hours</th>\n",
       "      <th>Absenteeism.hours.per.month</th>\n",
       "    </tr>\n",
       "  </thead>\n",
       "  <tbody>\n",
       "    <tr>\n",
       "      <th>0</th>\n",
       "      <td>1</td>\n",
       "      <td>200.0</td>\n",
       "      <td>66.666667</td>\n",
       "    </tr>\n",
       "    <tr>\n",
       "      <th>1</th>\n",
       "      <td>2</td>\n",
       "      <td>287.0</td>\n",
       "      <td>95.666667</td>\n",
       "    </tr>\n",
       "    <tr>\n",
       "      <th>2</th>\n",
       "      <td>3</td>\n",
       "      <td>531.0</td>\n",
       "      <td>177.000000</td>\n",
       "    </tr>\n",
       "    <tr>\n",
       "      <th>3</th>\n",
       "      <td>4</td>\n",
       "      <td>312.0</td>\n",
       "      <td>104.000000</td>\n",
       "    </tr>\n",
       "    <tr>\n",
       "      <th>4</th>\n",
       "      <td>5</td>\n",
       "      <td>316.0</td>\n",
       "      <td>105.333333</td>\n",
       "    </tr>\n",
       "    <tr>\n",
       "      <th>5</th>\n",
       "      <td>6</td>\n",
       "      <td>304.0</td>\n",
       "      <td>101.333333</td>\n",
       "    </tr>\n",
       "    <tr>\n",
       "      <th>6</th>\n",
       "      <td>7</td>\n",
       "      <td>431.0</td>\n",
       "      <td>143.666667</td>\n",
       "    </tr>\n",
       "    <tr>\n",
       "      <th>7</th>\n",
       "      <td>8</td>\n",
       "      <td>265.0</td>\n",
       "      <td>88.333333</td>\n",
       "    </tr>\n",
       "    <tr>\n",
       "      <th>8</th>\n",
       "      <td>9</td>\n",
       "      <td>248.0</td>\n",
       "      <td>82.666667</td>\n",
       "    </tr>\n",
       "    <tr>\n",
       "      <th>9</th>\n",
       "      <td>10</td>\n",
       "      <td>316.0</td>\n",
       "      <td>105.333333</td>\n",
       "    </tr>\n",
       "    <tr>\n",
       "      <th>10</th>\n",
       "      <td>11</td>\n",
       "      <td>334.0</td>\n",
       "      <td>111.333333</td>\n",
       "    </tr>\n",
       "    <tr>\n",
       "      <th>11</th>\n",
       "      <td>12</td>\n",
       "      <td>241.0</td>\n",
       "      <td>80.333333</td>\n",
       "    </tr>\n",
       "  </tbody>\n",
       "</table>\n",
       "</div>"
      ],
      "text/plain": [
       "    Month.of.absence  Absenteeism.time.in.hours  Absenteeism.hours.per.month\n",
       "0                  1                      200.0                    66.666667\n",
       "1                  2                      287.0                    95.666667\n",
       "2                  3                      531.0                   177.000000\n",
       "3                  4                      312.0                   104.000000\n",
       "4                  5                      316.0                   105.333333\n",
       "5                  6                      304.0                   101.333333\n",
       "6                  7                      431.0                   143.666667\n",
       "7                  8                      265.0                    88.333333\n",
       "8                  9                      248.0                    82.666667\n",
       "9                 10                      316.0                   105.333333\n",
       "10                11                      334.0                   111.333333\n",
       "11                12                      241.0                    80.333333"
      ]
     },
     "execution_count": 106,
     "metadata": {},
     "output_type": "execute_result"
    }
   ],
   "source": [
    "monthly_absence['Month.of.absence'] = monthly_absence['Month.of.absence'].astype('int')\n",
    "monthly_absence"
   ]
  },
  {
   "cell_type": "code",
   "execution_count": 107,
   "metadata": {},
   "outputs": [],
   "source": [
    "monthly_absence = monthly_absence.set_index('Month.of.absence')"
   ]
  },
  {
   "cell_type": "code",
   "execution_count": 109,
   "metadata": {},
   "outputs": [
    {
     "data": {
      "text/html": [
       "<div>\n",
       "<style scoped>\n",
       "    .dataframe tbody tr th:only-of-type {\n",
       "        vertical-align: middle;\n",
       "    }\n",
       "\n",
       "    .dataframe tbody tr th {\n",
       "        vertical-align: top;\n",
       "    }\n",
       "\n",
       "    .dataframe thead th {\n",
       "        text-align: right;\n",
       "    }\n",
       "</style>\n",
       "<table border=\"1\" class=\"dataframe\">\n",
       "  <thead>\n",
       "    <tr style=\"text-align: right;\">\n",
       "      <th></th>\n",
       "      <th>Absenteeism.time.in.hours</th>\n",
       "      <th>Absenteeism.hours.per.month</th>\n",
       "    </tr>\n",
       "    <tr>\n",
       "      <th>Month.of.absence</th>\n",
       "      <th></th>\n",
       "      <th></th>\n",
       "    </tr>\n",
       "  </thead>\n",
       "  <tbody>\n",
       "    <tr>\n",
       "      <th>1</th>\n",
       "      <td>200.0</td>\n",
       "      <td>66.666667</td>\n",
       "    </tr>\n",
       "    <tr>\n",
       "      <th>2</th>\n",
       "      <td>287.0</td>\n",
       "      <td>95.666667</td>\n",
       "    </tr>\n",
       "    <tr>\n",
       "      <th>3</th>\n",
       "      <td>531.0</td>\n",
       "      <td>177.000000</td>\n",
       "    </tr>\n",
       "    <tr>\n",
       "      <th>4</th>\n",
       "      <td>312.0</td>\n",
       "      <td>104.000000</td>\n",
       "    </tr>\n",
       "    <tr>\n",
       "      <th>5</th>\n",
       "      <td>316.0</td>\n",
       "      <td>105.333333</td>\n",
       "    </tr>\n",
       "    <tr>\n",
       "      <th>6</th>\n",
       "      <td>304.0</td>\n",
       "      <td>101.333333</td>\n",
       "    </tr>\n",
       "    <tr>\n",
       "      <th>7</th>\n",
       "      <td>431.0</td>\n",
       "      <td>143.666667</td>\n",
       "    </tr>\n",
       "    <tr>\n",
       "      <th>8</th>\n",
       "      <td>265.0</td>\n",
       "      <td>88.333333</td>\n",
       "    </tr>\n",
       "    <tr>\n",
       "      <th>9</th>\n",
       "      <td>248.0</td>\n",
       "      <td>82.666667</td>\n",
       "    </tr>\n",
       "    <tr>\n",
       "      <th>10</th>\n",
       "      <td>316.0</td>\n",
       "      <td>105.333333</td>\n",
       "    </tr>\n",
       "    <tr>\n",
       "      <th>11</th>\n",
       "      <td>334.0</td>\n",
       "      <td>111.333333</td>\n",
       "    </tr>\n",
       "    <tr>\n",
       "      <th>12</th>\n",
       "      <td>241.0</td>\n",
       "      <td>80.333333</td>\n",
       "    </tr>\n",
       "  </tbody>\n",
       "</table>\n",
       "</div>"
      ],
      "text/plain": [
       "                  Absenteeism.time.in.hours  Absenteeism.hours.per.month\n",
       "Month.of.absence                                                        \n",
       "1                                     200.0                    66.666667\n",
       "2                                     287.0                    95.666667\n",
       "3                                     531.0                   177.000000\n",
       "4                                     312.0                   104.000000\n",
       "5                                     316.0                   105.333333\n",
       "6                                     304.0                   101.333333\n",
       "7                                     431.0                   143.666667\n",
       "8                                     265.0                    88.333333\n",
       "9                                     248.0                    82.666667\n",
       "10                                    316.0                   105.333333\n",
       "11                                    334.0                   111.333333\n",
       "12                                    241.0                    80.333333"
      ]
     },
     "execution_count": 109,
     "metadata": {},
     "output_type": "execute_result"
    }
   ],
   "source": [
    "monthly_absence"
   ]
  },
  {
   "cell_type": "code",
   "execution_count": 110,
   "metadata": {},
   "outputs": [],
   "source": [
    "monthly_absence = monthly_absence.drop(['Absenteeism.time.in.hours'],axis=1)"
   ]
  },
  {
   "cell_type": "code",
   "execution_count": 111,
   "metadata": {},
   "outputs": [],
   "source": [
    "ts = monthly_absence['Absenteeism.hours.per.month']"
   ]
  },
  {
   "cell_type": "code",
   "execution_count": 112,
   "metadata": {},
   "outputs": [
    {
     "data": {
      "text/plain": [
       "Month.of.absence\n",
       "1      66.666667\n",
       "2      95.666667\n",
       "3     177.000000\n",
       "4     104.000000\n",
       "5     105.333333\n",
       "6     101.333333\n",
       "7     143.666667\n",
       "8      88.333333\n",
       "9      82.666667\n",
       "10    105.333333\n",
       "11    111.333333\n",
       "12     80.333333\n",
       "Name: Absenteeism.hours.per.month, dtype: float64"
      ]
     },
     "execution_count": 112,
     "metadata": {},
     "output_type": "execute_result"
    }
   ],
   "source": [
    "ts"
   ]
  },
  {
   "cell_type": "code",
   "execution_count": 113,
   "metadata": {},
   "outputs": [
    {
     "data": {
      "text/plain": [
       "[<matplotlib.lines.Line2D at 0x10f42470>]"
      ]
     },
     "execution_count": 113,
     "metadata": {},
     "output_type": "execute_result"
    },
    {
     "data": {
      "image/png": "[encoded data removed]",
      "text/plain": [
       "<Figure size 432x288 with 1 Axes>"
      ]
     },
     "metadata": {},
     "output_type": "display_data"
    }
   ],
   "source": [
    "plt.plot(ts)"
   ]
  },
  {
   "cell_type": "markdown",
   "metadata": {},
   "source": [
    "Performing Dickey Fuller test for stationarity"
   ]
  },
  {
   "cell_type": "code",
   "execution_count": 114,
   "metadata": {},
   "outputs": [
    {
     "data": {
      "text/plain": [
       "Test Statistic                -0.000000\n",
       "p-value                        0.958532\n",
       "#Lags Used                     7.000000\n",
       "Number of Observations Used    4.000000\n",
       "Critical Value (5%)           -4.474365\n",
       "Critical Value (1%)           -7.355441\n",
       "Critical Value (10%)          -3.126933\n",
       "dtype: float64"
      ]
     },
     "execution_count": 114,
     "metadata": {},
     "output_type": "execute_result"
    }
   ],
   "source": [
    "from statsmodels.tsa.stattools import adfuller\n",
    "dftest = adfuller(ts,autolag='AIC')\n",
    "dfoutput = pd.Series(dftest[0:4], index=['Test Statistic','p-value','#Lags Used','Number of Observations Used'])\n",
    "for key,value in dftest[4].items():\n",
    "    dfoutput['Critical Value (%s)'%key] = value\n",
    "dfoutput"
   ]
  },
  {
   "cell_type": "markdown",
   "metadata": {},
   "source": [
    "Since Test Statistic > Critical Values for 1%, 5% & 10%, time series is not stationary."
   ]
  },
  {
   "cell_type": "code",
   "execution_count": 115,
   "metadata": {},
   "outputs": [],
   "source": [
    "ts_log = np.log(ts)"
   ]
  },
  {
   "cell_type": "code",
   "execution_count": 116,
   "metadata": {},
   "outputs": [
    {
     "data": {
      "text/plain": [
       "[<matplotlib.lines.Line2D at 0x1140bf98>]"
      ]
     },
     "execution_count": 116,
     "metadata": {},
     "output_type": "execute_result"
    },
    {
     "data": {
      "image/png": "[encoded data removed]",
      "text/plain": [
       "<Figure size 432x288 with 1 Axes>"
      ]
     },
     "metadata": {},
     "output_type": "display_data"
    }
   ],
   "source": [
    "plt.plot(ts_log)"
   ]
  },
  {
   "cell_type": "code",
   "execution_count": 117,
   "metadata": {},
   "outputs": [],
   "source": [
    "ts_diff = ts_log - ts_log.shift()"
   ]
  },
  {
   "cell_type": "code",
   "execution_count": 118,
   "metadata": {},
   "outputs": [
    {
     "data": {
      "text/plain": [
       "Month.of.absence\n",
       "1          NaN\n",
       "2     0.361165\n",
       "3     0.615280\n",
       "4    -0.531759\n",
       "5     0.012739\n",
       "6    -0.038715\n",
       "7     0.349080\n",
       "8    -0.486378\n",
       "9    -0.066301\n",
       "10    0.242313\n",
       "11    0.055399\n",
       "12   -0.326344\n",
       "Name: Absenteeism.hours.per.month, dtype: float64"
      ]
     },
     "execution_count": 118,
     "metadata": {},
     "output_type": "execute_result"
    }
   ],
   "source": [
    "ts_diff"
   ]
  },
  {
   "cell_type": "raw",
   "metadata": {},
   "source": [
    "plt.plot(ts_diff)"
   ]
  },
  {
   "cell_type": "code",
   "execution_count": 119,
   "metadata": {},
   "outputs": [],
   "source": [
    "ts_diff.fillna(0,inplace=True)"
   ]
  },
  {
   "cell_type": "code",
   "execution_count": 120,
   "metadata": {},
   "outputs": [
    {
     "data": {
      "text/plain": [
       "Test Statistic                 -3.069239\n",
       "p-value                         0.028915\n",
       "#Lags Used                      1.000000\n",
       "Number of Observations Used    10.000000\n",
       "Critical Value (5%)            -3.232950\n",
       "Critical Value (1%)            -4.331573\n",
       "Critical Value (10%)           -2.748700\n",
       "dtype: float64"
      ]
     },
     "execution_count": 120,
     "metadata": {},
     "output_type": "execute_result"
    }
   ],
   "source": [
    "dftest = adfuller(ts_diff)\n",
    "dfoutput = pd.Series(dftest[0:4], index=['Test Statistic','p-value','#Lags Used','Number of Observations Used'])\n",
    "for key,value in dftest[4].items():\n",
    "    dfoutput['Critical Value (%s)'%key] = value\n",
    "dfoutput"
   ]
  },
  {
   "cell_type": "markdown",
   "metadata": {},
   "source": [
    "Since Test Statistic(-3.069239) < Critical Value for 10% (-2.748700), timeseries ts_diff is stationary."
   ]
  },
  {
   "cell_type": "code",
   "execution_count": 121,
   "metadata": {},
   "outputs": [],
   "source": [
    "from statsmodels.tsa.stattools import acf, pacf\n",
    "lag_acf = acf(ts_diff, nlags=10)\n",
    "lag_pacf = pacf(ts_diff, nlags=10, method='ols')"
   ]
  },
  {
   "cell_type": "code",
   "execution_count": 122,
   "metadata": {},
   "outputs": [
    {
     "data": {
      "image/png": "[encoded data removed]",
      "text/plain": [
       "<Figure size 432x288 with 1 Axes>"
      ]
     },
     "metadata": {},
     "output_type": "display_data"
    }
   ],
   "source": [
    "#Plot ACF: \n",
    "plt.subplot(121) \n",
    "plt.plot(lag_acf)\n",
    "plt.axhline(y=0,linestyle='--',color='gray')\n",
    "plt.axhline(y=-1.96/np.sqrt(len(ts_diff)),linestyle='--',color='gray')\n",
    "plt.axhline(y=1.96/np.sqrt(len(ts_diff)),linestyle='--',color='gray')\n",
    "plt.title('Autocorrelation Function')\n",
    "plt.tight_layout()"
   ]
  },
  {
   "cell_type": "code",
   "execution_count": 113,
   "metadata": {},
   "outputs": [
    {
     "data": {
      "image/png": "[encoded data removed]",
      "text/plain": [
       "<Figure size 936x612 with 1 Axes>"
      ]
     },
     "metadata": {},
     "output_type": "display_data"
    }
   ],
   "source": [
    "#Plot PACF:\n",
    "plt.subplot(122)\n",
    "plt.plot(lag_pacf)\n",
    "plt.axhline(y=0,linestyle='--',color='gray')\n",
    "plt.axhline(y=-1.96/np.sqrt(len(ts_diff)),linestyle='--',color='gray')\n",
    "plt.axhline(y=1.96/np.sqrt(len(ts_diff)),linestyle='--',color='gray')\n",
    "plt.title('Partial Autocorrelation Function')\n",
    "plt.tight_layout()"
   ]
  },
  {
   "cell_type": "markdown",
   "metadata": {},
   "source": [
    "p = 0 and q = 0 from the above charts. We will have to check for various values of p & q."
   ]
  },
  {
   "cell_type": "code",
   "execution_count": 123,
   "metadata": {},
   "outputs": [],
   "source": [
    "from statsmodels.tsa.arima_model import ARIMA"
   ]
  },
  {
   "cell_type": "code",
   "execution_count": 124,
   "metadata": {},
   "outputs": [],
   "source": [
    "model = ARIMA(ts_diff, order=(3, 0, 0))"
   ]
  },
  {
   "cell_type": "code",
   "execution_count": 125,
   "metadata": {},
   "outputs": [],
   "source": [
    "results_AR = model.fit(disp=-1)"
   ]
  },
  {
   "cell_type": "code",
   "execution_count": 126,
   "metadata": {},
   "outputs": [
    {
     "data": {
      "text/plain": [
       "Month.of.absence\n",
       "1     0.001786\n",
       "2     0.002100\n",
       "3    -0.092374\n",
       "4    -0.613604\n",
       "5    -0.336879\n",
       "6    -0.053862\n",
       "7     0.378447\n",
       "8    -0.187987\n",
       "9     0.087084\n",
       "10    0.142378\n",
       "11    0.231878\n",
       "12   -0.149071\n",
       "dtype: float64"
      ]
     },
     "execution_count": 126,
     "metadata": {},
     "output_type": "execute_result"
    }
   ],
   "source": [
    "results_AR.fittedvalues"
   ]
  },
  {
   "cell_type": "code",
   "execution_count": 127,
   "metadata": {},
   "outputs": [
    {
     "data": {
      "text/plain": [
       "[<matplotlib.lines.Line2D at 0x116dba20>]"
      ]
     },
     "execution_count": 127,
     "metadata": {},
     "output_type": "execute_result"
    },
    {
     "data": {
      "image/png": "[encoded data removed]",
      "text/plain": [
       "<Figure size 432x288 with 1 Axes>"
      ]
     },
     "metadata": {},
     "output_type": "display_data"
    }
   ],
   "source": [
    "plt.plot(ts_diff)\n",
    "plt.plot(results_AR.fittedvalues, color='red')"
   ]
  },
  {
   "cell_type": "markdown",
   "metadata": {},
   "source": [
    "Finding sum of Residual Sum of Squares(RSS) for evaluation of ARIMA model"
   ]
  },
  {
   "cell_type": "code",
   "execution_count": 128,
   "metadata": {},
   "outputs": [
    {
     "data": {
      "text/plain": [
       "0.9448502021962154"
      ]
     },
     "execution_count": 128,
     "metadata": {},
     "output_type": "execute_result"
    }
   ],
   "source": [
    "RSS = (results_AR.fittedvalues-ts_diff)**2\n",
    "RSS.fillna(0,inplace=True)\n",
    "sum(RSS)"
   ]
  },
  {
   "cell_type": "markdown",
   "metadata": {},
   "source": [
    "RSS for various order combinations\n",
    "\n",
    "1. RSS = 6.179 for order=(1,2,1)\n",
    "2. RSS = 1.051 for order=(1,0,1)\n",
    "3. RSS = 2.277 for order=(1,1,1)\n",
    "4. RSS = 1.018 for order=(2,0,1)\n",
    "5. RSS = 2.082 for order=(2,1,1)\n",
    "6. RSS = 6.802 for order=(2,2,1)\n",
    "7. RSS = 0.944 for order=(3,0,0)\n",
    "\n",
    "order=(3,0,0) gives lowest RSS of 0.944. So, we will use order=(3,0,0)"
   ]
  },
  {
   "cell_type": "code",
   "execution_count": 129,
   "metadata": {},
   "outputs": [],
   "source": [
    "preds = results_AR.predict(start=12,end=24)"
   ]
  },
  {
   "cell_type": "code",
   "execution_count": 130,
   "metadata": {},
   "outputs": [
    {
     "data": {
      "text/plain": [
       "12    0.001496\n",
       "13    0.189999\n",
       "14    0.109327\n",
       "15   -0.191649\n",
       "16   -0.081554\n",
       "17    0.111858\n",
       "18    0.122536\n",
       "19   -0.090272\n",
       "20   -0.099224\n",
       "21    0.044382\n",
       "22    0.107086\n",
       "23   -0.022916\n",
       "24   -0.083924\n",
       "dtype: float64"
      ]
     },
     "execution_count": 130,
     "metadata": {},
     "output_type": "execute_result"
    }
   ],
   "source": [
    "preds"
   ]
  },
  {
   "cell_type": "code",
   "execution_count": 131,
   "metadata": {},
   "outputs": [],
   "source": [
    "preds = preds[1:]"
   ]
  },
  {
   "cell_type": "code",
   "execution_count": 132,
   "metadata": {},
   "outputs": [],
   "source": [
    "predictions_ARIMA_diff = preds"
   ]
  },
  {
   "cell_type": "code",
   "execution_count": 133,
   "metadata": {},
   "outputs": [
    {
     "data": {
      "text/plain": [
       "13    0.189999\n",
       "14    0.109327\n",
       "15   -0.191649\n",
       "16   -0.081554\n",
       "17    0.111858\n",
       "18    0.122536\n",
       "19   -0.090272\n",
       "20   -0.099224\n",
       "21    0.044382\n",
       "22    0.107086\n",
       "23   -0.022916\n",
       "24   -0.083924\n",
       "dtype: float64"
      ]
     },
     "execution_count": 133,
     "metadata": {},
     "output_type": "execute_result"
    }
   ],
   "source": [
    "predictions_ARIMA_diff"
   ]
  },
  {
   "cell_type": "code",
   "execution_count": 134,
   "metadata": {},
   "outputs": [],
   "source": [
    "predictions_ARIMA_diff_cumsum = predictions_ARIMA_diff.cumsum()"
   ]
  },
  {
   "cell_type": "code",
   "execution_count": 135,
   "metadata": {},
   "outputs": [
    {
     "data": {
      "text/plain": [
       "Month.of.absence\n",
       "1     0.000000\n",
       "2     0.361165\n",
       "3     0.615280\n",
       "4    -0.531759\n",
       "5     0.012739\n",
       "6    -0.038715\n",
       "7     0.349080\n",
       "8    -0.486378\n",
       "9    -0.066301\n",
       "10    0.242313\n",
       "11    0.055399\n",
       "12   -0.326344\n",
       "Name: Absenteeism.hours.per.month, dtype: float64"
      ]
     },
     "execution_count": 135,
     "metadata": {},
     "output_type": "execute_result"
    }
   ],
   "source": [
    "ts_diff"
   ]
  },
  {
   "cell_type": "code",
   "execution_count": 136,
   "metadata": {},
   "outputs": [
    {
     "data": {
      "text/plain": [
       "13    0.189999\n",
       "14    0.299327\n",
       "15    0.107678\n",
       "16    0.026124\n",
       "17    0.137982\n",
       "18    0.260518\n",
       "19    0.170247\n",
       "20    0.071023\n",
       "21    0.115404\n",
       "22    0.222490\n",
       "23    0.199574\n",
       "24    0.115650\n",
       "dtype: float64"
      ]
     },
     "execution_count": 136,
     "metadata": {},
     "output_type": "execute_result"
    }
   ],
   "source": [
    "predictions_ARIMA_diff_cumsum"
   ]
  },
  {
   "cell_type": "code",
   "execution_count": 137,
   "metadata": {},
   "outputs": [],
   "source": [
    "predictions_ARIMA_log = pd.Series(4.8, index=range(13,25))\n",
    "predictions_ARIMA_log\n",
    "predictions_ARIMA_log = predictions_ARIMA_log.add(predictions_ARIMA_diff_cumsum,fill_value=0)"
   ]
  },
  {
   "cell_type": "code",
   "execution_count": 138,
   "metadata": {},
   "outputs": [
    {
     "data": {
      "text/plain": [
       "4.622994503720343"
      ]
     },
     "execution_count": 138,
     "metadata": {},
     "output_type": "execute_result"
    }
   ],
   "source": [
    "sum(ts_log)/12"
   ]
  },
  {
   "cell_type": "code",
   "execution_count": 139,
   "metadata": {},
   "outputs": [
    {
     "data": {
      "text/plain": [
       "13    4.989999\n",
       "14    5.099327\n",
       "15    4.907678\n",
       "16    4.826124\n",
       "17    4.937982\n",
       "18    5.060518\n",
       "19    4.970247\n",
       "20    4.871023\n",
       "21    4.915404\n",
       "22    5.022490\n",
       "23    4.999574\n",
       "24    4.915650\n",
       "dtype: float64"
      ]
     },
     "execution_count": 139,
     "metadata": {},
     "output_type": "execute_result"
    }
   ],
   "source": [
    "predictions_ARIMA_log"
   ]
  },
  {
   "cell_type": "code",
   "execution_count": 140,
   "metadata": {},
   "outputs": [],
   "source": [
    "predictions_ARIMA = np.exp(predictions_ARIMA_log)"
   ]
  },
  {
   "cell_type": "code",
   "execution_count": 141,
   "metadata": {},
   "outputs": [
    {
     "data": {
      "text/plain": [
       "13    146.936333\n",
       "14    163.911527\n",
       "15    135.324775\n",
       "16    124.726534\n",
       "17    139.488442\n",
       "18    157.672191\n",
       "19    144.062400\n",
       "20    130.454289\n",
       "21    136.374457\n",
       "22    151.788801\n",
       "23    148.349919\n",
       "24    136.407966\n",
       "dtype: float64"
      ]
     },
     "execution_count": 141,
     "metadata": {},
     "output_type": "execute_result"
    }
   ],
   "source": [
    "predictions_ARIMA"
   ]
  },
  {
   "cell_type": "code",
   "execution_count": 133,
   "metadata": {},
   "outputs": [
    {
     "data": {
      "text/plain": [
       "[<matplotlib.lines.Line2D at 0x1cd09baa860>]"
      ]
     },
     "execution_count": 133,
     "metadata": {},
     "output_type": "execute_result"
    },
    {
     "data": {
      "image/png": "[encoded data removed]",
      "text/plain": [
       "<Figure size 936x612 with 1 Axes>"
      ]
     },
     "metadata": {},
     "output_type": "display_data"
    }
   ],
   "source": [
    "plt.plot(ts)\n",
    "plt.plot(predictions_ARIMA)"
   ]
  },
  {
   "cell_type": "code",
   "execution_count": null,
   "metadata": {},
   "outputs": [],
   "source": []
  }
 ],
 "metadata": {
  "kernelspec": {
   "display_name": "Python 2",
   "language": "python",
   "name": "python2"
  },
  "language_info": {
   "codemirror_mode": {
    "name": "ipython",
    "version": 2
   },
   "file_extension": ".py",
   "mimetype": "text/x-python",
   "name": "python",
   "nbconvert_exporter": "python",
   "pygments_lexer": "ipython2",
   "version": "2.7.15"
  }
 },
 "nbformat": 4,
 "nbformat_minor": 2
}
